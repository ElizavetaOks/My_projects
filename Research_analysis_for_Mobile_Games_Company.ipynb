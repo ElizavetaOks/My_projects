{
  "cells": [
    {
      "cell_type": "markdown",
      "source": [
        "**Imagine you work for a company that develops mobile games.\n",
        "A manager comes to you with a series of tasks to research several aspects of a mobile application:**"
      ],
      "metadata": {
        "id": "Mb9vB3BDIz5x"
      }
    },
    {
      "cell_type": "markdown",
      "source": [
        "# Task 1\n",
        "\n",
        "---\n",
        "\n",
        "\n",
        "Retention is one of the most important metrics in a company. Your task is to write a function that will count the retention of players (by days from the date of player registration).\n"
      ],
      "metadata": {
        "id": "kw3PgUZwpj6V"
      }
    },
    {
      "cell_type": "code",
      "execution_count": null,
      "metadata": {
        "id": "rXGBOwTppGwE"
      },
      "outputs": [],
      "source": [
        "# import all nesessary libraries\n",
        "import pandas as pd\n",
        "import datetime\n",
        "from datetime import date, timedelta\n",
        "import numpy as np\n",
        "import seaborn as sns\n",
        "import matplotlib.pyplot as plt\n",
        "from scipy import stats"
      ]
    },
    {
      "cell_type": "code",
      "execution_count": null,
      "metadata": {
        "id": "pTknVku1pGwE"
      },
      "outputs": [],
      "source": [
        "# import first dataset\n",
        "df = pd.read_csv(r'/content/problem1-reg_data.csv', sep = ';')"
      ]
    },
    {
      "cell_type": "code",
      "execution_count": null,
      "metadata": {
        "id": "62d4x8N7pGwF",
        "outputId": "6def1171-e075-4ca6-a292-ab5aaf9da910"
      },
      "outputs": [
        {
          "data": {
            "text/html": [
              "<div>\n",
              "<style scoped>\n",
              "    .dataframe tbody tr th:only-of-type {\n",
              "        vertical-align: middle;\n",
              "    }\n",
              "\n",
              "    .dataframe tbody tr th {\n",
              "        vertical-align: top;\n",
              "    }\n",
              "\n",
              "    .dataframe thead th {\n",
              "        text-align: right;\n",
              "    }\n",
              "</style>\n",
              "<table border=\"1\" class=\"dataframe\">\n",
              "  <thead>\n",
              "    <tr style=\"text-align: right;\">\n",
              "      <th></th>\n",
              "      <th>reg_ts</th>\n",
              "      <th>uid</th>\n",
              "    </tr>\n",
              "  </thead>\n",
              "  <tbody>\n",
              "    <tr>\n",
              "      <th>0</th>\n",
              "      <td>911382223</td>\n",
              "      <td>1</td>\n",
              "    </tr>\n",
              "    <tr>\n",
              "      <th>1</th>\n",
              "      <td>932683089</td>\n",
              "      <td>2</td>\n",
              "    </tr>\n",
              "    <tr>\n",
              "      <th>2</th>\n",
              "      <td>947802447</td>\n",
              "      <td>3</td>\n",
              "    </tr>\n",
              "    <tr>\n",
              "      <th>3</th>\n",
              "      <td>959523541</td>\n",
              "      <td>4</td>\n",
              "    </tr>\n",
              "    <tr>\n",
              "      <th>4</th>\n",
              "      <td>969103313</td>\n",
              "      <td>5</td>\n",
              "    </tr>\n",
              "  </tbody>\n",
              "</table>\n",
              "</div>"
            ],
            "text/plain": [
              "      reg_ts  uid\n",
              "0  911382223    1\n",
              "1  932683089    2\n",
              "2  947802447    3\n",
              "3  959523541    4\n",
              "4  969103313    5"
            ]
          },
          "execution_count": 6,
          "metadata": {},
          "output_type": "execute_result"
        }
      ],
      "source": [
        "df.head()"
      ]
    },
    {
      "cell_type": "code",
      "execution_count": null,
      "metadata": {
        "id": "6KHvz4shpGwF"
      },
      "outputs": [],
      "source": [
        "df2 = pd.read_csv('/mnt/HC_Volume_18315164/home-jupyter/jupyter-e-oks/shared/problem1-auth_data.csv', sep = ';')"
      ]
    },
    {
      "cell_type": "code",
      "execution_count": null,
      "metadata": {
        "id": "FUop4_y7pGwF",
        "outputId": "7c693b2f-f62a-48b1-c3fd-18e4eb33d788"
      },
      "outputs": [
        {
          "data": {
            "text/html": [
              "<div>\n",
              "<style scoped>\n",
              "    .dataframe tbody tr th:only-of-type {\n",
              "        vertical-align: middle;\n",
              "    }\n",
              "\n",
              "    .dataframe tbody tr th {\n",
              "        vertical-align: top;\n",
              "    }\n",
              "\n",
              "    .dataframe thead th {\n",
              "        text-align: right;\n",
              "    }\n",
              "</style>\n",
              "<table border=\"1\" class=\"dataframe\">\n",
              "  <thead>\n",
              "    <tr style=\"text-align: right;\">\n",
              "      <th></th>\n",
              "      <th>auth_ts</th>\n",
              "      <th>uid</th>\n",
              "    </tr>\n",
              "  </thead>\n",
              "  <tbody>\n",
              "    <tr>\n",
              "      <th>0</th>\n",
              "      <td>911382223</td>\n",
              "      <td>1</td>\n",
              "    </tr>\n",
              "    <tr>\n",
              "      <th>1</th>\n",
              "      <td>932683089</td>\n",
              "      <td>2</td>\n",
              "    </tr>\n",
              "    <tr>\n",
              "      <th>2</th>\n",
              "      <td>932921206</td>\n",
              "      <td>2</td>\n",
              "    </tr>\n",
              "    <tr>\n",
              "      <th>3</th>\n",
              "      <td>933393015</td>\n",
              "      <td>2</td>\n",
              "    </tr>\n",
              "    <tr>\n",
              "      <th>4</th>\n",
              "      <td>933875379</td>\n",
              "      <td>2</td>\n",
              "    </tr>\n",
              "  </tbody>\n",
              "</table>\n",
              "</div>"
            ],
            "text/plain": [
              "     auth_ts  uid\n",
              "0  911382223    1\n",
              "1  932683089    2\n",
              "2  932921206    2\n",
              "3  933393015    2\n",
              "4  933875379    2"
            ]
          },
          "execution_count": 8,
          "metadata": {},
          "output_type": "execute_result"
        }
      ],
      "source": [
        "# import second dataset\n",
        "df2.head()"
      ]
    },
    {
      "cell_type": "code",
      "execution_count": null,
      "metadata": {
        "id": "kS5VR9B3pGwF"
      },
      "outputs": [],
      "source": [
        "df = df.merge(df2, how = 'outer', on = 'uid')"
      ]
    },
    {
      "cell_type": "code",
      "execution_count": null,
      "metadata": {
        "id": "aT6yUIsJpGwF"
      },
      "outputs": [],
      "source": [
        "df = df[['uid', 'reg_ts', 'auth_ts']]"
      ]
    },
    {
      "cell_type": "code",
      "execution_count": null,
      "metadata": {
        "id": "4xGQhnQapGwF",
        "outputId": "19852dbe-0f96-4c11-8a0f-d79f03df295b"
      },
      "outputs": [
        {
          "data": {
            "text/plain": [
              "uid        int64\n",
              "reg_ts     int64\n",
              "auth_ts    int64\n",
              "dtype: object"
            ]
          },
          "execution_count": 11,
          "metadata": {},
          "output_type": "execute_result"
        }
      ],
      "source": [
        "df.dtypes"
      ]
    },
    {
      "cell_type": "code",
      "execution_count": null,
      "metadata": {
        "id": "27yuJy0rpGwG"
      },
      "outputs": [],
      "source": [
        "# convert reg_ts and auth_ts format to date\n",
        "df['reg_ts'] = [datetime.datetime.utcfromtimestamp(x).strftime('%Y-%m-%d') for x in df['reg_ts']]\n",
        "df['auth_ts'] = [datetime.datetime.utcfromtimestamp(x).strftime('%Y-%m-%d') for x in df['auth_ts']]"
      ]
    },
    {
      "cell_type": "code",
      "execution_count": null,
      "metadata": {
        "id": "C4HvNV82pGwG",
        "outputId": "3debe176-1c73-4dda-fcf4-b95d8d44fd28"
      },
      "outputs": [
        {
          "data": {
            "text/html": [
              "<div>\n",
              "<style scoped>\n",
              "    .dataframe tbody tr th:only-of-type {\n",
              "        vertical-align: middle;\n",
              "    }\n",
              "\n",
              "    .dataframe tbody tr th {\n",
              "        vertical-align: top;\n",
              "    }\n",
              "\n",
              "    .dataframe thead th {\n",
              "        text-align: right;\n",
              "    }\n",
              "</style>\n",
              "<table border=\"1\" class=\"dataframe\">\n",
              "  <thead>\n",
              "    <tr style=\"text-align: right;\">\n",
              "      <th></th>\n",
              "      <th>uid</th>\n",
              "      <th>reg_ts</th>\n",
              "      <th>auth_ts</th>\n",
              "    </tr>\n",
              "  </thead>\n",
              "  <tbody>\n",
              "    <tr>\n",
              "      <th>0</th>\n",
              "      <td>1</td>\n",
              "      <td>1998-11-18</td>\n",
              "      <td>1998-11-18</td>\n",
              "    </tr>\n",
              "    <tr>\n",
              "      <th>1</th>\n",
              "      <td>2</td>\n",
              "      <td>1999-07-22</td>\n",
              "      <td>1999-07-22</td>\n",
              "    </tr>\n",
              "    <tr>\n",
              "      <th>2</th>\n",
              "      <td>2</td>\n",
              "      <td>1999-07-22</td>\n",
              "      <td>1999-07-25</td>\n",
              "    </tr>\n",
              "    <tr>\n",
              "      <th>3</th>\n",
              "      <td>2</td>\n",
              "      <td>1999-07-22</td>\n",
              "      <td>1999-07-31</td>\n",
              "    </tr>\n",
              "    <tr>\n",
              "      <th>4</th>\n",
              "      <td>2</td>\n",
              "      <td>1999-07-22</td>\n",
              "      <td>1999-08-05</td>\n",
              "    </tr>\n",
              "  </tbody>\n",
              "</table>\n",
              "</div>"
            ],
            "text/plain": [
              "   uid      reg_ts     auth_ts\n",
              "0    1  1998-11-18  1998-11-18\n",
              "1    2  1999-07-22  1999-07-22\n",
              "2    2  1999-07-22  1999-07-25\n",
              "3    2  1999-07-22  1999-07-31\n",
              "4    2  1999-07-22  1999-08-05"
            ]
          },
          "execution_count": 15,
          "metadata": {},
          "output_type": "execute_result"
        }
      ],
      "source": [
        "df.head()"
      ]
    },
    {
      "cell_type": "code",
      "execution_count": null,
      "metadata": {
        "id": "axJVT0qApGwG"
      },
      "outputs": [],
      "source": [
        "df.reg_ts = df.reg_ts.astype('Datetime64')\n",
        "df.auth_ts = df.auth_ts.astype('Datetime64')"
      ]
    },
    {
      "cell_type": "code",
      "execution_count": null,
      "metadata": {
        "id": "znKh966fpGwG",
        "outputId": "fea7b839-b226-4bbe-e27f-7e2f49dc2c16"
      },
      "outputs": [
        {
          "data": {
            "text/plain": [
              "uid                 int64\n",
              "reg_ts     datetime64[ns]\n",
              "auth_ts    datetime64[ns]\n",
              "dtype: object"
            ]
          },
          "execution_count": 17,
          "metadata": {},
          "output_type": "execute_result"
        }
      ],
      "source": [
        "df.dtypes"
      ]
    },
    {
      "cell_type": "code",
      "execution_count": null,
      "metadata": {
        "id": "su_sFPOYpGwG"
      },
      "outputs": [],
      "source": [
        "# Count players (by days from the player's registration date)\n",
        "def RR (reg_ts, auth_ts):\n",
        "    df['rr_day'] = (df['auth_ts'] - df['reg_ts']).dt.days + 1\n",
        "    cohorts = df.groupby(['reg_ts', 'rr_day'], as_index = False).agg({'uid':'nunique'}).pivot(index='reg_ts', columns='rr_day', values='uid')[reg_ts:auth_ts]\n",
        "\n",
        "    base = cohorts[1]\n",
        "    retention = cohorts.divide(base, axis=0).round(3)\n",
        "\n",
        "    plt.figure(figsize=(18,12))\n",
        "    ax = sns.heatmap(data=retention.iloc[:,0:31], annot=True, fmt='.0%', vmin=0.0, vmax=1,cmap='Reds')\n",
        "\n",
        "    return cohorts.iloc[:,0:31]"
      ]
    },
    {
      "cell_type": "code",
      "execution_count": null,
      "metadata": {
        "id": "xapaUvGOpGwH",
        "outputId": "c3f2dbcb-72fa-493a-f14e-a7d7d6eef965"
      },
      "outputs": [
        {
          "data": {
            "text/plain": [
              "Timestamp('1998-11-18 00:00:00')"
            ]
          },
          "execution_count": 26,
          "metadata": {},
          "output_type": "execute_result"
        }
      ],
      "source": [
        "df.reg_ts.min()"
      ]
    },
    {
      "cell_type": "code",
      "execution_count": null,
      "metadata": {
        "id": "v1a_9oBUpGwH",
        "outputId": "34f1cd10-9f00-47df-feee-2e36f3231b9b"
      },
      "outputs": [
        {
          "data": {
            "text/plain": [
              "Timestamp('2020-09-23 00:00:00')"
            ]
          },
          "execution_count": 27,
          "metadata": {},
          "output_type": "execute_result"
        }
      ],
      "source": [
        "df.reg_ts.max()"
      ]
    },
    {
      "cell_type": "markdown",
      "source": [
        "We can see that the period given is over 20 years, so let's see how the new player registration activity was distributed on the graph"
      ],
      "metadata": {
        "id": "lGko-R-RLHQ9"
      }
    },
    {
      "cell_type": "code",
      "execution_count": null,
      "metadata": {
        "id": "pPgofCMBpGwH",
        "outputId": "1d7d47a1-4687-4bde-b125-742bb43d4712"
      },
      "outputs": [
        {
          "data": {
            "text/plain": [
              "<matplotlib.axes._subplots.AxesSubplot at 0x7f79dcd2e748>"
            ]
          },
          "execution_count": 29,
          "metadata": {},
          "output_type": "execute_result"
        },
        {
          "data": {
            "image/png": "[encoded data removed]",
            "text/plain": [
              "<Figure size 432x288 with 1 Axes>"
            ]
          },
          "metadata": {
            "needs_background": "light"
          },
          "output_type": "display_data"
        }
      ],
      "source": [
        "df.groupby('reg_ts').agg({'uid':'nunique'}).plot()"
      ]
    },
    {
      "cell_type": "markdown",
      "source": [
        "Since the dataset is very large, let's check on a sample of data from January 2019\n",
        "(when new users started to join the game actively)"
      ],
      "metadata": {
        "id": "-NkNbdHVLY4e"
      }
    },
    {
      "cell_type": "code",
      "execution_count": null,
      "metadata": {
        "id": "LvMWgqwYpGwH",
        "outputId": "859f065c-abd6-4711-c8ac-5ee18926f3f3"
      },
      "outputs": [
        {
          "data": {
            "text/html": [
              "<div>\n",
              "<style scoped>\n",
              "    .dataframe tbody tr th:only-of-type {\n",
              "        vertical-align: middle;\n",
              "    }\n",
              "\n",
              "    .dataframe tbody tr th {\n",
              "        vertical-align: top;\n",
              "    }\n",
              "\n",
              "    .dataframe thead th {\n",
              "        text-align: right;\n",
              "    }\n",
              "</style>\n",
              "<table border=\"1\" class=\"dataframe\">\n",
              "  <thead>\n",
              "    <tr style=\"text-align: right;\">\n",
              "      <th>rr_day</th>\n",
              "      <th>1</th>\n",
              "      <th>2</th>\n",
              "      <th>3</th>\n",
              "      <th>4</th>\n",
              "      <th>5</th>\n",
              "      <th>6</th>\n",
              "      <th>7</th>\n",
              "      <th>8</th>\n",
              "      <th>9</th>\n",
              "      <th>10</th>\n",
              "      <th>...</th>\n",
              "      <th>22</th>\n",
              "      <th>23</th>\n",
              "      <th>24</th>\n",
              "      <th>25</th>\n",
              "      <th>26</th>\n",
              "      <th>27</th>\n",
              "      <th>28</th>\n",
              "      <th>29</th>\n",
              "      <th>30</th>\n",
              "      <th>31</th>\n",
              "    </tr>\n",
              "    <tr>\n",
              "      <th>reg_ts</th>\n",
              "      <th></th>\n",
              "      <th></th>\n",
              "      <th></th>\n",
              "      <th></th>\n",
              "      <th></th>\n",
              "      <th></th>\n",
              "      <th></th>\n",
              "      <th></th>\n",
              "      <th></th>\n",
              "      <th></th>\n",
              "      <th></th>\n",
              "      <th></th>\n",
              "      <th></th>\n",
              "      <th></th>\n",
              "      <th></th>\n",
              "      <th></th>\n",
              "      <th></th>\n",
              "      <th></th>\n",
              "      <th></th>\n",
              "      <th></th>\n",
              "      <th></th>\n",
              "    </tr>\n",
              "  </thead>\n",
              "  <tbody>\n",
              "    <tr>\n",
              "      <th>2019-01-01</th>\n",
              "      <td>583.0</td>\n",
              "      <td>12.0</td>\n",
              "      <td>22.0</td>\n",
              "      <td>29.0</td>\n",
              "      <td>26.0</td>\n",
              "      <td>37.0</td>\n",
              "      <td>48.0</td>\n",
              "      <td>34.0</td>\n",
              "      <td>32.0</td>\n",
              "      <td>35.0</td>\n",
              "      <td>...</td>\n",
              "      <td>32.0</td>\n",
              "      <td>18.0</td>\n",
              "      <td>25.0</td>\n",
              "      <td>22.0</td>\n",
              "      <td>19.0</td>\n",
              "      <td>25.0</td>\n",
              "      <td>21.0</td>\n",
              "      <td>24.0</td>\n",
              "      <td>17.0</td>\n",
              "      <td>13.0</td>\n",
              "    </tr>\n",
              "    <tr>\n",
              "      <th>2019-01-02</th>\n",
              "      <td>583.0</td>\n",
              "      <td>10.0</td>\n",
              "      <td>29.0</td>\n",
              "      <td>21.0</td>\n",
              "      <td>29.0</td>\n",
              "      <td>47.0</td>\n",
              "      <td>32.0</td>\n",
              "      <td>41.0</td>\n",
              "      <td>18.0</td>\n",
              "      <td>24.0</td>\n",
              "      <td>...</td>\n",
              "      <td>21.0</td>\n",
              "      <td>23.0</td>\n",
              "      <td>21.0</td>\n",
              "      <td>13.0</td>\n",
              "      <td>19.0</td>\n",
              "      <td>14.0</td>\n",
              "      <td>23.0</td>\n",
              "      <td>11.0</td>\n",
              "      <td>18.0</td>\n",
              "      <td>14.0</td>\n",
              "    </tr>\n",
              "    <tr>\n",
              "      <th>2019-01-03</th>\n",
              "      <td>585.0</td>\n",
              "      <td>10.0</td>\n",
              "      <td>18.0</td>\n",
              "      <td>26.0</td>\n",
              "      <td>35.0</td>\n",
              "      <td>37.0</td>\n",
              "      <td>38.0</td>\n",
              "      <td>34.0</td>\n",
              "      <td>13.0</td>\n",
              "      <td>29.0</td>\n",
              "      <td>...</td>\n",
              "      <td>20.0</td>\n",
              "      <td>21.0</td>\n",
              "      <td>14.0</td>\n",
              "      <td>22.0</td>\n",
              "      <td>25.0</td>\n",
              "      <td>19.0</td>\n",
              "      <td>25.0</td>\n",
              "      <td>16.0</td>\n",
              "      <td>13.0</td>\n",
              "      <td>12.0</td>\n",
              "    </tr>\n",
              "    <tr>\n",
              "      <th>2019-01-04</th>\n",
              "      <td>585.0</td>\n",
              "      <td>16.0</td>\n",
              "      <td>22.0</td>\n",
              "      <td>25.0</td>\n",
              "      <td>32.0</td>\n",
              "      <td>32.0</td>\n",
              "      <td>47.0</td>\n",
              "      <td>31.0</td>\n",
              "      <td>25.0</td>\n",
              "      <td>31.0</td>\n",
              "      <td>...</td>\n",
              "      <td>25.0</td>\n",
              "      <td>21.0</td>\n",
              "      <td>19.0</td>\n",
              "      <td>17.0</td>\n",
              "      <td>26.0</td>\n",
              "      <td>22.0</td>\n",
              "      <td>22.0</td>\n",
              "      <td>19.0</td>\n",
              "      <td>11.0</td>\n",
              "      <td>20.0</td>\n",
              "    </tr>\n",
              "    <tr>\n",
              "      <th>2019-01-05</th>\n",
              "      <td>586.0</td>\n",
              "      <td>11.0</td>\n",
              "      <td>24.0</td>\n",
              "      <td>27.0</td>\n",
              "      <td>29.0</td>\n",
              "      <td>48.0</td>\n",
              "      <td>42.0</td>\n",
              "      <td>41.0</td>\n",
              "      <td>35.0</td>\n",
              "      <td>24.0</td>\n",
              "      <td>...</td>\n",
              "      <td>25.0</td>\n",
              "      <td>31.0</td>\n",
              "      <td>16.0</td>\n",
              "      <td>28.0</td>\n",
              "      <td>17.0</td>\n",
              "      <td>23.0</td>\n",
              "      <td>24.0</td>\n",
              "      <td>24.0</td>\n",
              "      <td>19.0</td>\n",
              "      <td>21.0</td>\n",
              "    </tr>\n",
              "    <tr>\n",
              "      <th>2019-01-06</th>\n",
              "      <td>588.0</td>\n",
              "      <td>10.0</td>\n",
              "      <td>22.0</td>\n",
              "      <td>31.0</td>\n",
              "      <td>28.0</td>\n",
              "      <td>35.0</td>\n",
              "      <td>33.0</td>\n",
              "      <td>34.0</td>\n",
              "      <td>31.0</td>\n",
              "      <td>28.0</td>\n",
              "      <td>...</td>\n",
              "      <td>16.0</td>\n",
              "      <td>23.0</td>\n",
              "      <td>21.0</td>\n",
              "      <td>23.0</td>\n",
              "      <td>22.0</td>\n",
              "      <td>15.0</td>\n",
              "      <td>13.0</td>\n",
              "      <td>20.0</td>\n",
              "      <td>18.0</td>\n",
              "      <td>11.0</td>\n",
              "    </tr>\n",
              "    <tr>\n",
              "      <th>2019-01-07</th>\n",
              "      <td>588.0</td>\n",
              "      <td>10.0</td>\n",
              "      <td>25.0</td>\n",
              "      <td>24.0</td>\n",
              "      <td>32.0</td>\n",
              "      <td>43.0</td>\n",
              "      <td>43.0</td>\n",
              "      <td>39.0</td>\n",
              "      <td>32.0</td>\n",
              "      <td>32.0</td>\n",
              "      <td>...</td>\n",
              "      <td>23.0</td>\n",
              "      <td>25.0</td>\n",
              "      <td>21.0</td>\n",
              "      <td>15.0</td>\n",
              "      <td>20.0</td>\n",
              "      <td>19.0</td>\n",
              "      <td>21.0</td>\n",
              "      <td>15.0</td>\n",
              "      <td>12.0</td>\n",
              "      <td>15.0</td>\n",
              "    </tr>\n",
              "    <tr>\n",
              "      <th>2019-01-08</th>\n",
              "      <td>589.0</td>\n",
              "      <td>18.0</td>\n",
              "      <td>24.0</td>\n",
              "      <td>30.0</td>\n",
              "      <td>34.0</td>\n",
              "      <td>42.0</td>\n",
              "      <td>42.0</td>\n",
              "      <td>39.0</td>\n",
              "      <td>34.0</td>\n",
              "      <td>23.0</td>\n",
              "      <td>...</td>\n",
              "      <td>26.0</td>\n",
              "      <td>22.0</td>\n",
              "      <td>22.0</td>\n",
              "      <td>22.0</td>\n",
              "      <td>24.0</td>\n",
              "      <td>19.0</td>\n",
              "      <td>21.0</td>\n",
              "      <td>12.0</td>\n",
              "      <td>21.0</td>\n",
              "      <td>13.0</td>\n",
              "    </tr>\n",
              "    <tr>\n",
              "      <th>2019-01-09</th>\n",
              "      <td>590.0</td>\n",
              "      <td>6.0</td>\n",
              "      <td>16.0</td>\n",
              "      <td>25.0</td>\n",
              "      <td>31.0</td>\n",
              "      <td>35.0</td>\n",
              "      <td>38.0</td>\n",
              "      <td>26.0</td>\n",
              "      <td>34.0</td>\n",
              "      <td>30.0</td>\n",
              "      <td>...</td>\n",
              "      <td>24.0</td>\n",
              "      <td>23.0</td>\n",
              "      <td>20.0</td>\n",
              "      <td>20.0</td>\n",
              "      <td>23.0</td>\n",
              "      <td>10.0</td>\n",
              "      <td>15.0</td>\n",
              "      <td>21.0</td>\n",
              "      <td>13.0</td>\n",
              "      <td>18.0</td>\n",
              "    </tr>\n",
              "    <tr>\n",
              "      <th>2019-01-10</th>\n",
              "      <td>591.0</td>\n",
              "      <td>18.0</td>\n",
              "      <td>19.0</td>\n",
              "      <td>30.0</td>\n",
              "      <td>42.0</td>\n",
              "      <td>28.0</td>\n",
              "      <td>35.0</td>\n",
              "      <td>31.0</td>\n",
              "      <td>40.0</td>\n",
              "      <td>23.0</td>\n",
              "      <td>...</td>\n",
              "      <td>20.0</td>\n",
              "      <td>19.0</td>\n",
              "      <td>18.0</td>\n",
              "      <td>20.0</td>\n",
              "      <td>17.0</td>\n",
              "      <td>26.0</td>\n",
              "      <td>13.0</td>\n",
              "      <td>20.0</td>\n",
              "      <td>16.0</td>\n",
              "      <td>18.0</td>\n",
              "    </tr>\n",
              "    <tr>\n",
              "      <th>2019-01-11</th>\n",
              "      <td>593.0</td>\n",
              "      <td>13.0</td>\n",
              "      <td>25.0</td>\n",
              "      <td>30.0</td>\n",
              "      <td>46.0</td>\n",
              "      <td>34.0</td>\n",
              "      <td>45.0</td>\n",
              "      <td>45.0</td>\n",
              "      <td>24.0</td>\n",
              "      <td>25.0</td>\n",
              "      <td>...</td>\n",
              "      <td>18.0</td>\n",
              "      <td>36.0</td>\n",
              "      <td>29.0</td>\n",
              "      <td>20.0</td>\n",
              "      <td>29.0</td>\n",
              "      <td>18.0</td>\n",
              "      <td>19.0</td>\n",
              "      <td>22.0</td>\n",
              "      <td>27.0</td>\n",
              "      <td>18.0</td>\n",
              "    </tr>\n",
              "  </tbody>\n",
              "</table>\n",
              "<p>11 rows × 31 columns</p>\n",
              "</div>"
            ],
            "text/plain": [
              "rr_day         1     2     3     4     5     6     7     8     9     10  ...  \\\n",
              "reg_ts                                                                   ...   \n",
              "2019-01-01  583.0  12.0  22.0  29.0  26.0  37.0  48.0  34.0  32.0  35.0  ...   \n",
              "2019-01-02  583.0  10.0  29.0  21.0  29.0  47.0  32.0  41.0  18.0  24.0  ...   \n",
              "2019-01-03  585.0  10.0  18.0  26.0  35.0  37.0  38.0  34.0  13.0  29.0  ...   \n",
              "2019-01-04  585.0  16.0  22.0  25.0  32.0  32.0  47.0  31.0  25.0  31.0  ...   \n",
              "2019-01-05  586.0  11.0  24.0  27.0  29.0  48.0  42.0  41.0  35.0  24.0  ...   \n",
              "2019-01-06  588.0  10.0  22.0  31.0  28.0  35.0  33.0  34.0  31.0  28.0  ...   \n",
              "2019-01-07  588.0  10.0  25.0  24.0  32.0  43.0  43.0  39.0  32.0  32.0  ...   \n",
              "2019-01-08  589.0  18.0  24.0  30.0  34.0  42.0  42.0  39.0  34.0  23.0  ...   \n",
              "2019-01-09  590.0   6.0  16.0  25.0  31.0  35.0  38.0  26.0  34.0  30.0  ...   \n",
              "2019-01-10  591.0  18.0  19.0  30.0  42.0  28.0  35.0  31.0  40.0  23.0  ...   \n",
              "2019-01-11  593.0  13.0  25.0  30.0  46.0  34.0  45.0  45.0  24.0  25.0  ...   \n",
              "\n",
              "rr_day        22    23    24    25    26    27    28    29    30    31  \n",
              "reg_ts                                                                  \n",
              "2019-01-01  32.0  18.0  25.0  22.0  19.0  25.0  21.0  24.0  17.0  13.0  \n",
              "2019-01-02  21.0  23.0  21.0  13.0  19.0  14.0  23.0  11.0  18.0  14.0  \n",
              "2019-01-03  20.0  21.0  14.0  22.0  25.0  19.0  25.0  16.0  13.0  12.0  \n",
              "2019-01-04  25.0  21.0  19.0  17.0  26.0  22.0  22.0  19.0  11.0  20.0  \n",
              "2019-01-05  25.0  31.0  16.0  28.0  17.0  23.0  24.0  24.0  19.0  21.0  \n",
              "2019-01-06  16.0  23.0  21.0  23.0  22.0  15.0  13.0  20.0  18.0  11.0  \n",
              "2019-01-07  23.0  25.0  21.0  15.0  20.0  19.0  21.0  15.0  12.0  15.0  \n",
              "2019-01-08  26.0  22.0  22.0  22.0  24.0  19.0  21.0  12.0  21.0  13.0  \n",
              "2019-01-09  24.0  23.0  20.0  20.0  23.0  10.0  15.0  21.0  13.0  18.0  \n",
              "2019-01-10  20.0  19.0  18.0  20.0  17.0  26.0  13.0  20.0  16.0  18.0  \n",
              "2019-01-11  18.0  36.0  29.0  20.0  29.0  18.0  19.0  22.0  27.0  18.0  \n",
              "\n",
              "[11 rows x 31 columns]"
            ]
          },
          "execution_count": 51,
          "metadata": {},
          "output_type": "execute_result"
        },
        {
          "data": {
            "image/png": "[encoded data removed]",
            "text/plain": [
              "<Figure size 1296x864 with 2 Axes>"
            ]
          },
          "metadata": {
            "needs_background": "light"
          },
          "output_type": "display_data"
        }
      ],
      "source": [
        "RR('2019-01-01', '2019-01-11')"
      ]
    },
    {
      "cell_type": "markdown",
      "source": [
        "## Task 2"
      ],
      "metadata": {
        "id": "KwmM4Y8lLeH1"
      }
    },
    {
      "cell_type": "markdown",
      "source": [
        "**There are results of A/B test, in which two groups of users were offered different sets of promotional offers.\n",
        "It is known that ARPU in the test group is 5% higher than in the control group.\n",
        "At the same time in the control group 1928 players out of 202103 turned out to be paying players, and in the test group - 1805 out of 202667.**\n",
        "\n",
        "**Which set of offers can be considered the best? What metrics should be analyzed to make the right decision and how?**"
      ],
      "metadata": {
        "id": "tP1FBNIBLjkj"
      }
    },
    {
      "cell_type": "markdown",
      "source": [
        "It is worth analyzing several metrics to determine the best set of offers:\n",
        "\n",
        "1. ARPU. It is known that in the studied case ARPU in the test group is 5% higher than in the control group,\n",
        "which shows that the test offer is more effective.\n",
        "\n",
        "2. Conversion. It helps to determine how effective the test offer was.\n",
        "\n",
        "3. Average check. By its sum it is possible to draw conclusions about customer loyalty."
      ],
      "metadata": {
        "id": "RgwDRr_3MPMk"
      }
    },
    {
      "cell_type": "code",
      "execution_count": null,
      "metadata": {
        "id": "DQfxV-tmpGwI"
      },
      "outputs": [],
      "source": [
        "# import dataset\n",
        "ab = pd.read_csv('Проект_1_Задание_2.csv', sep = ';')"
      ]
    },
    {
      "cell_type": "code",
      "execution_count": null,
      "metadata": {
        "id": "iV7WC6b5pGwI",
        "outputId": "8641afe1-1898-44af-d1a6-1e5c747a5419"
      },
      "outputs": [
        {
          "data": {
            "text/html": [
              "<div>\n",
              "<style scoped>\n",
              "    .dataframe tbody tr th:only-of-type {\n",
              "        vertical-align: middle;\n",
              "    }\n",
              "\n",
              "    .dataframe tbody tr th {\n",
              "        vertical-align: top;\n",
              "    }\n",
              "\n",
              "    .dataframe thead th {\n",
              "        text-align: right;\n",
              "    }\n",
              "</style>\n",
              "<table border=\"1\" class=\"dataframe\">\n",
              "  <thead>\n",
              "    <tr style=\"text-align: right;\">\n",
              "      <th></th>\n",
              "      <th>user_id</th>\n",
              "      <th>revenue</th>\n",
              "      <th>testgroup</th>\n",
              "    </tr>\n",
              "  </thead>\n",
              "  <tbody>\n",
              "    <tr>\n",
              "      <th>0</th>\n",
              "      <td>1</td>\n",
              "      <td>0</td>\n",
              "      <td>b</td>\n",
              "    </tr>\n",
              "    <tr>\n",
              "      <th>1</th>\n",
              "      <td>2</td>\n",
              "      <td>0</td>\n",
              "      <td>a</td>\n",
              "    </tr>\n",
              "    <tr>\n",
              "      <th>2</th>\n",
              "      <td>3</td>\n",
              "      <td>0</td>\n",
              "      <td>a</td>\n",
              "    </tr>\n",
              "    <tr>\n",
              "      <th>3</th>\n",
              "      <td>4</td>\n",
              "      <td>0</td>\n",
              "      <td>b</td>\n",
              "    </tr>\n",
              "    <tr>\n",
              "      <th>4</th>\n",
              "      <td>5</td>\n",
              "      <td>0</td>\n",
              "      <td>b</td>\n",
              "    </tr>\n",
              "    <tr>\n",
              "      <th>5</th>\n",
              "      <td>6</td>\n",
              "      <td>0</td>\n",
              "      <td>b</td>\n",
              "    </tr>\n",
              "    <tr>\n",
              "      <th>6</th>\n",
              "      <td>7</td>\n",
              "      <td>0</td>\n",
              "      <td>b</td>\n",
              "    </tr>\n",
              "    <tr>\n",
              "      <th>7</th>\n",
              "      <td>8</td>\n",
              "      <td>0</td>\n",
              "      <td>b</td>\n",
              "    </tr>\n",
              "    <tr>\n",
              "      <th>8</th>\n",
              "      <td>9</td>\n",
              "      <td>0</td>\n",
              "      <td>b</td>\n",
              "    </tr>\n",
              "    <tr>\n",
              "      <th>9</th>\n",
              "      <td>10</td>\n",
              "      <td>0</td>\n",
              "      <td>a</td>\n",
              "    </tr>\n",
              "  </tbody>\n",
              "</table>\n",
              "</div>"
            ],
            "text/plain": [
              "   user_id  revenue testgroup\n",
              "0        1        0         b\n",
              "1        2        0         a\n",
              "2        3        0         a\n",
              "3        4        0         b\n",
              "4        5        0         b\n",
              "5        6        0         b\n",
              "6        7        0         b\n",
              "7        8        0         b\n",
              "8        9        0         b\n",
              "9       10        0         a"
            ]
          },
          "execution_count": 44,
          "metadata": {},
          "output_type": "execute_result"
        }
      ],
      "source": [
        "ab.head(10)"
      ]
    },
    {
      "cell_type": "code",
      "execution_count": null,
      "metadata": {
        "id": "wOdAGbW-pGwI"
      },
      "outputs": [],
      "source": [
        "сontrol_сr = ab.query('testgroup == \"a\" & revenue > 0').agg({'revenue':'count'})/ab.query('testgroup == \"a\"').agg({'revenue':'count'})"
      ]
    },
    {
      "cell_type": "code",
      "execution_count": null,
      "metadata": {
        "id": "h8UR5-nwpGwI",
        "outputId": "1670ebc4-5826-439d-cfe9-5c8d568867e9"
      },
      "outputs": [
        {
          "data": {
            "text/plain": [
              "revenue    0.953969\n",
              "dtype: float64"
            ]
          },
          "execution_count": 48,
          "metadata": {},
          "output_type": "execute_result"
        }
      ],
      "source": [
        "сontrol_сr*100"
      ]
    },
    {
      "cell_type": "code",
      "execution_count": null,
      "metadata": {
        "id": "IENo8dhmpGwI",
        "outputId": "735b1c63-42cd-4f6a-e401-cfceab82f847"
      },
      "outputs": [
        {
          "data": {
            "text/plain": [
              "revenue    0.890624\n",
              "dtype: float64"
            ]
          },
          "execution_count": 49,
          "metadata": {},
          "output_type": "execute_result"
        }
      ],
      "source": [
        "test_сr = ab.query('testgroup == \"b\" & revenue > 0').agg({'revenue':'count'})/ab.query('testgroup == \"b\"').agg({'revenue':'count'})\n",
        "test_сr*100"
      ]
    },
    {
      "cell_type": "markdown",
      "source": [
        "\n",
        "\n",
        "---\n",
        "\n",
        "\n",
        "\n",
        "---\n",
        "\n",
        "\n",
        "Conversion in the control group is 0.953 and in the test group is 0.891.\n",
        "Thus, the best results are brought by the control group."
      ],
      "metadata": {
        "id": "_yuWOH5LMfzJ"
      }
    },
    {
      "cell_type": "code",
      "execution_count": null,
      "metadata": {
        "id": "4WCcSSjgpGwI",
        "outputId": "a3590f03-7341-407a-cdfe-067783d26301"
      },
      "outputs": [
        {
          "data": {
            "text/plain": [
              "revenue    25.41372\n",
              "dtype: float64"
            ]
          },
          "execution_count": 51,
          "metadata": {},
          "output_type": "execute_result"
        }
      ],
      "source": [
        "control_av_pay = ab.query('testgroup == \"a\" & revenue > 0').agg({'revenue':'sum'})/ab.query('testgroup == \"a\"').agg({'revenue':'count'})\n",
        "control_av_pay"
      ]
    },
    {
      "cell_type": "code",
      "execution_count": null,
      "metadata": {
        "id": "B3Po0msUpGwI",
        "outputId": "748ab7dc-9c8e-4099-df49-336a7b1f6cfe"
      },
      "outputs": [
        {
          "data": {
            "text/plain": [
              "revenue    26.751287\n",
              "dtype: float64"
            ]
          },
          "execution_count": 52,
          "metadata": {},
          "output_type": "execute_result"
        }
      ],
      "source": [
        "test_av_pay = ab.query('testgroup == \"b\" & revenue > 0').agg({'revenue':'sum'})/ab.query('testgroup == \"b\"').agg({'revenue':'count'})\n",
        "test_av_pay"
      ]
    },
    {
      "cell_type": "markdown",
      "source": [
        "\n",
        "\n",
        "---\n",
        "\n",
        "The average check of the control group is less than that of the test group,\n",
        "we can conclude that the test set is more effective."
      ],
      "metadata": {
        "id": "RZF-wh0BMzk1"
      }
    },
    {
      "cell_type": "markdown",
      "source": [
        "We do not know whether our metrics have changed randomly or whether it is a consequence of the applied changes.\n",
        "We need to check whether the metrics in the two groups differ statistically significantly."
      ],
      "metadata": {
        "id": "lTgQeJB-M-HT"
      }
    },
    {
      "cell_type": "code",
      "execution_count": null,
      "metadata": {
        "id": "o6gEX-_ypGwJ"
      },
      "outputs": [],
      "source": [
        "# Let's check our samples for normality, divide the dataset into 2 groups\n",
        "a = ab.query('testgroup == \"a\"')\n",
        "b = ab.query('testgroup == \"b\"')"
      ]
    },
    {
      "cell_type": "code",
      "execution_count": null,
      "metadata": {
        "id": "LZBdvLh5pGwJ",
        "outputId": "07a36a2a-776e-4cae-e59e-5da64a9c4ea2"
      },
      "outputs": [
        {
          "name": "stderr",
          "output_type": "stream",
          "text": [
            "/opt/tljh/user/lib/python3.7/site-packages/scipy/stats/morestats.py:1760: UserWarning: p-value may not be accurate for N > 5000.\n",
            "  warnings.warn(\"p-value may not be accurate for N > 5000.\")\n"
          ]
        },
        {
          "data": {
            "text/plain": [
              "ShapiroResult(statistic=0.008876502513885498, pvalue=0.0)"
            ]
          },
          "execution_count": 56,
          "metadata": {},
          "output_type": "execute_result"
        }
      ],
      "source": [
        "stats.shapiro(a.revenue)"
      ]
    },
    {
      "cell_type": "code",
      "execution_count": null,
      "metadata": {
        "id": "Q_pqHZXrpGwM",
        "outputId": "ec8c5b4f-8e1e-4b8c-bd58-52d3f52bd5aa"
      },
      "outputs": [
        {
          "data": {
            "text/plain": [
              "ShapiroResult(statistic=0.06588172912597656, pvalue=0.0)"
            ]
          },
          "execution_count": 57,
          "metadata": {},
          "output_type": "execute_result"
        }
      ],
      "source": [
        "stats.shapiro(b.revenue)"
      ]
    },
    {
      "cell_type": "markdown",
      "source": [
        "Both distributions are not significantly different from the normal distribution,\n",
        "so we can test whether the revenues in our samples are statistically significantly different using the\n",
        "Student's t-test\n",
        "\n",
        "H0 - no differences\n",
        "\n",
        "H1 - there are differences"
      ],
      "metadata": {
        "id": "n3NCON6cNT-U"
      }
    },
    {
      "cell_type": "code",
      "execution_count": null,
      "metadata": {
        "id": "nKDzcy_cpGwN",
        "outputId": "76d54409-43b7-43cb-aaa5-a4c1164afa76"
      },
      "outputs": [
        {
          "data": {
            "text/plain": [
              "Ttest_indResult(statistic=-0.6242026493616787, pvalue=0.532494858971837)"
            ]
          },
          "execution_count": 60,
          "metadata": {},
          "output_type": "execute_result"
        }
      ],
      "source": [
        "stats.ttest_ind(a.revenue, b.revenue)"
      ]
    },
    {
      "cell_type": "code",
      "execution_count": null,
      "metadata": {
        "id": "VlE5_5gnpGwN",
        "outputId": "cafbc25d-3304-43ae-937e-8f978215f910"
      },
      "outputs": [
        {
          "data": {
            "text/plain": [
              "MannwhitneyuResult(statistic=20491259376.0, pvalue=0.06269701316074398)"
            ]
          },
          "execution_count": 61,
          "metadata": {},
          "output_type": "execute_result"
        }
      ],
      "source": [
        "stats. mannwhitneyu (a.revenue, b.revenue, alternative='two-sided')"
      ]
    },
    {
      "cell_type": "markdown",
      "source": [
        "Since p > 0.05, we cannot reject H0, which means there is no significant difference of revenue in the samples.\n",
        "\n",
        "\n"
      ],
      "metadata": {
        "id": "Sn1lDxkCNane"
      }
    },
    {
      "cell_type": "markdown",
      "source": [
        "**Conclusion**: According to the test results we can see that ARPU in the test group is higher by 5%,\n",
        "but at the same time conversion to purchase is higher in the control group. At the same time, the average check in the control group was lower.\n",
        "\n",
        "Based on this, we can say that the set of offers in the test group should be considered the best,\n",
        "as it has a higher ARPU.\n",
        "\n",
        "But to make a decision, it is also worth paying attention to user engagement and user feedback.\n",
        "If the test set provides not only an increase in ARPU, but also positive changes in user involvement\n",
        "and user feedback, then there's a chance\n",
        "that this set of promotional offers generates more revenue for the company.\n",
        "\n",
        "But after comparing the two groups for statistically significant differences, it turns out,\n",
        "that there were no significant differences in revenue between the test and control groups.\n",
        "This may indicate that our metrics may have changed randomly.\n",
        "\n",
        "I would recommend extending the experiment or increasing the sample."
      ],
      "metadata": {
        "id": "zKREEOZRNpi8"
      }
    },
    {
      "cell_type": "markdown",
      "source": [
        "# Task 3"
      ],
      "metadata": {
        "id": "hmYsYiORNzuM"
      }
    },
    {
      "cell_type": "markdown",
      "source": [
        "The Plants & Gardens game features themed events every month, limited in time.\n",
        "\n",
        "In them, players can get unique items for the garden and characters, additional coins or bonuses.\n",
        "The rewards require completing a series of levels in a certain amount of time.\n",
        "\n",
        "What metrics can be used to evaluate the results of the last event that took place?"
      ],
      "metadata": {
        "id": "DL4gx3H_N6qb"
      }
    },
    {
      "cell_type": "markdown",
      "source": [
        "The metrics for evaluating the past event will be as follows:\n",
        "\n",
        "    1. Percentage of players who participated in the event as a percentage of the total number of players.\n",
        "    2. Average time to complete levels.\n",
        "    3. The ratio of levels completed to the total number of levels.\n",
        "    4. Percentage of players who completed the event in a given time.\n",
        "    5. Player feedback: analyze player feedback on the event.\n",
        "    6. Retention at each level\n",
        "    7. Player churn at each level."
      ],
      "metadata": {
        "id": "5_yiBPgROEcF"
      }
    },
    {
      "cell_type": "markdown",
      "source": [
        "Suppose, in another event, we complicated the event mechanics so that,\n",
        "that every time a player fails to complete a level, the player will roll back a few levels.\n",
        "\n",
        "**Would the set of outcome evaluation metrics change? If so, how?**"
      ],
      "metadata": {
        "id": "flkowpvQOXAi"
      }
    },
    {
      "cell_type": "markdown",
      "source": [
        "Yes, the set of outcome evaluation metrics will change.\n",
        "It will include additional coefficients (to those above) such as:\n",
        "\n",
        "    1. the number of attempts spent by the player when completing levels. This will help us determine how difficult the levels are in the challenge.\n",
        "    2. the average time to complete a level, including the time taken to repeat the level\n",
        "    3. player satisfaction with a particular event, i.e. how many players return for the next themed event.\n",
        "    4. the number of rollbacks among successfully completed levels"
      ],
      "metadata": {
        "id": "fduxFHg3OeIx"
      }
    },
    {
      "cell_type": "code",
      "execution_count": null,
      "metadata": {
        "id": "blgi11vipGwO"
      },
      "outputs": [],
      "source": []
    }
  ],
  "metadata": {
    "kernelspec": {
      "display_name": "Python 3",
      "language": "python",
      "name": "python3"
    },
    "language_info": {
      "codemirror_mode": {
        "name": "ipython",
        "version": 3
      },
      "file_extension": ".py",
      "mimetype": "text/x-python",
      "name": "python",
      "nbconvert_exporter": "python",
      "pygments_lexer": "ipython3",
      "version": "3.7.3"
    },
    "colab": {
      "provenance": []
    }
  },
  "nbformat": 4,
  "nbformat_minor": 0
}