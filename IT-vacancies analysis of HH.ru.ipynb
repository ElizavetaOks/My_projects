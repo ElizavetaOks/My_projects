{
  "nbformat": 4,
  "nbformat_minor": 0,
  "metadata": {
    "colab": {
      "provenance": []
    },
    "kernelspec": {
      "name": "python3",
      "display_name": "Python 3"
    },
    "language_info": {
      "name": "python"
    }
  },
  "cells": [
    {
      "cell_type": "code",
      "source": [
        "!gdown 1B9WJIZNyhrNTmJ2bzBW_jK3RWL2Dk896"
      ],
      "metadata": {
        "colab": {
          "base_uri": "https://localhost:8080/"
        },
        "id": "Sl6FLV1Jk4Jv",
        "outputId": "f67493e7-3f44-44fe-bb98-a6626d78a8b4"
      },
      "execution_count": 1,
      "outputs": [
        {
          "output_type": "stream",
          "name": "stdout",
          "text": [
            "Downloading...\n",
            "From: https://drive.google.com/uc?id=1B9WJIZNyhrNTmJ2bzBW_jK3RWL2Dk896\n",
            "To: /content/region_roles.csv\n",
            "100% 431M/431M [00:02<00:00, 147MB/s]\n"
          ]
        }
      ]
    },
    {
      "cell_type": "code",
      "source": [
        "import pandas as pd\n",
        "import numpy as np\n",
        "import matplotlib.pyplot as plt\n",
        "import seaborn as sns\n",
        "import json as js\n",
        "ds = pd.read_csv('region_roles.csv')"
      ],
      "metadata": {
        "colab": {
          "base_uri": "https://localhost:8080/"
        },
        "id": "qsNQJEoRlHnN",
        "outputId": "ee8e4f3d-2829-4795-e190-a3b29373be9d"
      },
      "execution_count": 2,
      "outputs": [
        {
          "output_type": "stream",
          "name": "stderr",
          "text": [
            "<ipython-input-2-f51b0e5aa6d4>:6: DtypeWarning: Columns (11,33) have mixed types. Specify dtype option on import or set low_memory=False.\n",
            "  ds = pd.read_csv('region_roles.csv')\n"
          ]
        }
      ]
    },
    {
      "cell_type": "markdown",
      "source": [
        "# Study the dataset\n"
      ],
      "metadata": {
        "id": "kAwhbXiUg-fX"
      }
    },
    {
      "cell_type": "code",
      "source": [
        "ds"
      ],
      "metadata": {
        "colab": {
          "base_uri": "https://localhost:8080/",
          "height": 1000
        },
        "id": "bnUZktS0lbf8",
        "outputId": "ef1661ae-0c8d-4d75-91a7-04ee2434b2b0"
      },
      "execution_count": 3,
      "outputs": [
        {
          "output_type": "execute_result",
          "data": {
            "text/plain": [
              "       Unnamed: 0        id  premium  \\\n",
              "0               0  49059633      NaN   \n",
              "1               1  54653519      NaN   \n",
              "2               2  55116066      NaN   \n",
              "3               3  54031261      NaN   \n",
              "4               4  55243040      NaN   \n",
              "...           ...       ...      ...   \n",
              "69651         463  66113834      NaN   \n",
              "69652         464  66113885      NaN   \n",
              "69653         465  54749225      NaN   \n",
              "69654         466  55498724      NaN   \n",
              "69655         467  55544352      NaN   \n",
              "\n",
              "                                                    name  \\\n",
              "0                Младший специалист ручного тестирования   \n",
              "1                                        Тестировщик.Net   \n",
              "2                                              Пентестер   \n",
              "3       Ведущий Специалист по информационным технологиям   \n",
              "4                        Специалист по защите информации   \n",
              "...                                                  ...   \n",
              "69651                                   Программист Java   \n",
              "69652                                     Программист 1C   \n",
              "69653         Начальник отдела информационных технологий   \n",
              "69654            Технический директор (DevOps, технолог)   \n",
              "69655  Начальник отдела по защите информации и информ...   \n",
              "\n",
              "                                              department  has_test  \\\n",
              "0                                                    NaN       NaN   \n",
              "1                                                    NaN       NaN   \n",
              "2                                                    NaN       NaN   \n",
              "3      {'id': 'pochta-4352-office', 'name': '«Почта Р...       NaN   \n",
              "4                                                    NaN       NaN   \n",
              "...                                                  ...       ...   \n",
              "69651                                                NaN       NaN   \n",
              "69652                                                NaN       NaN   \n",
              "69653                                                NaN       NaN   \n",
              "69654                                                NaN       NaN   \n",
              "69655                                                NaN       NaN   \n",
              "\n",
              "       response_letter_required  \\\n",
              "0                           NaN   \n",
              "1                           NaN   \n",
              "2                           NaN   \n",
              "3                           NaN   \n",
              "4                           NaN   \n",
              "...                         ...   \n",
              "69651                       NaN   \n",
              "69652                       NaN   \n",
              "69653                       NaN   \n",
              "69654                       NaN   \n",
              "69655                       NaN   \n",
              "\n",
              "                                                    area  \\\n",
              "0      {'id': '15', 'name': 'Астрахань', 'url': 'http...   \n",
              "1      {'id': '15', 'name': 'Астрахань', 'url': 'http...   \n",
              "2      {'id': '15', 'name': 'Астрахань', 'url': 'http...   \n",
              "3      {'id': '15', 'name': 'Астрахань', 'url': 'http...   \n",
              "4      {'id': '15', 'name': 'Астрахань', 'url': 'http...   \n",
              "...                                                  ...   \n",
              "69651  {'id': '92', 'name': 'Тула', 'url': 'https://a...   \n",
              "69652  {'id': '92', 'name': 'Тула', 'url': 'https://a...   \n",
              "69653  {'id': '92', 'name': 'Тула', 'url': 'https://a...   \n",
              "69654  {'id': '92', 'name': 'Тула', 'url': 'https://a...   \n",
              "69655  {'id': '92', 'name': 'Тула', 'url': 'https://a...   \n",
              "\n",
              "                                                  salary  \\\n",
              "0                                                    NaN   \n",
              "1      {'from': 25000, 'to': 50000, 'currency': 'RUR'...   \n",
              "2                                                    NaN   \n",
              "3      {'from': 26000, 'to': None, 'currency': 'RUR',...   \n",
              "4      {'from': 20000, 'to': 20000, 'currency': 'RUR'...   \n",
              "...                                                  ...   \n",
              "69651                                                NaN   \n",
              "69652  {'from': 130000, 'to': None, 'currency': 'RUR'...   \n",
              "69653  {'from': 50000, 'to': None, 'currency': 'RUR',...   \n",
              "69654  {'from': 85000, 'to': None, 'currency': 'RUR',...   \n",
              "69655                                                NaN   \n",
              "\n",
              "                                     type  ... working_days  \\\n",
              "0      {'id': 'open', 'name': 'Открытая'}  ...           []   \n",
              "1      {'id': 'open', 'name': 'Открытая'}  ...           []   \n",
              "2      {'id': 'open', 'name': 'Открытая'}  ...           []   \n",
              "3      {'id': 'open', 'name': 'Открытая'}  ...           []   \n",
              "4      {'id': 'open', 'name': 'Открытая'}  ...           []   \n",
              "...                                   ...  ...          ...   \n",
              "69651  {'id': 'open', 'name': 'Открытая'}  ...           []   \n",
              "69652  {'id': 'open', 'name': 'Открытая'}  ...           []   \n",
              "69653  {'id': 'open', 'name': 'Открытая'}  ...           []   \n",
              "69654  {'id': 'open', 'name': 'Открытая'}  ...           []   \n",
              "69655  {'id': 'open', 'name': 'Открытая'}  ...           []   \n",
              "\n",
              "      working_time_intervals  working_time_modes accept_temporary  \\\n",
              "0                         []                  []              NaN   \n",
              "1                         []                  []              NaN   \n",
              "2                         []                  []              NaN   \n",
              "3                         []                  []              NaN   \n",
              "4                         []                  []              NaN   \n",
              "...                      ...                 ...              ...   \n",
              "69651                     []                  []              NaN   \n",
              "69652                     []                  []              NaN   \n",
              "69653                     []                  []              NaN   \n",
              "69654                     []                  []              NaN   \n",
              "69655                     []                  []              NaN   \n",
              "\n",
              "                                             description  \\\n",
              "0      <p>В некоторых проектах Яндексу помогают компа...   \n",
              "1      <p><em><strong>Мы ищем талантливого и амбициоз...   \n",
              "2      <p>Лидер на рынке систем информационной безопа...   \n",
              "3      <ul> <li>Администрирование компьютерной сети</...   \n",
              "4      <strong>Обязанности:</strong> <ul> <li>Обеспеч...   \n",
              "...                                                  ...   \n",
              "69651  <p>В связи с формированием внешнего кадрового ...   \n",
              "69652  <strong>Обязанности:</strong> <p>- Поддержка и...   \n",
              "69653  <strong>Обязанности</strong> <p>Руководить раб...   \n",
              "69654  <p><strong>Внимание! Мы ищем кандидата в тульс...   \n",
              "69655  <p><strong>Строительный холдинг, ведущий соору...   \n",
              "\n",
              "                                              experience  \\\n",
              "0            {'id': 'noExperience', 'name': 'Нет опыта'}   \n",
              "1      {'id': 'between1And3', 'name': 'От 1 года до 3...   \n",
              "2        {'id': 'between3And6', 'name': 'От 3 до 6 лет'}   \n",
              "3            {'id': 'noExperience', 'name': 'Нет опыта'}   \n",
              "4            {'id': 'noExperience', 'name': 'Нет опыта'}   \n",
              "...                                                  ...   \n",
              "69651    {'id': 'between3And6', 'name': 'От 3 до 6 лет'}   \n",
              "69652  {'id': 'between1And3', 'name': 'От 1 года до 3...   \n",
              "69653  {'id': 'between1And3', 'name': 'От 1 года до 3...   \n",
              "69654    {'id': 'between3And6', 'name': 'От 3 до 6 лет'}   \n",
              "69655         {'id': 'moreThan6', 'name': 'Более 6 лет'}   \n",
              "\n",
              "                                              key_skills  \\\n",
              "0                                                     []   \n",
              "1      [{'name': 'Git'}, {'name': 'SQL'}, {'name': 'Т...   \n",
              "2      [{'name': 'SQL'}, {'name': 'Linux'}, {'name': ...   \n",
              "3      [{'name': 'Пользователь ПК'}, {'name': 'Работа...   \n",
              "4      [{'name': 'MS Dos'}, {'name': 'Диагностика ПК'...   \n",
              "...                                                  ...   \n",
              "69651                                                 []   \n",
              "69652  [{'name': '1С: Управление Торговлей'}, {'name'...   \n",
              "69653  [{'name': 'Организаторские навыки'}, {'name': ...   \n",
              "69654                                                 []   \n",
              "69655  [{'name': 'Информационная безопасность'}, {'na...   \n",
              "\n",
              "                                         specializations  \\\n",
              "0      [{'id': '1.172', 'name': 'Начальный уровень, М...   \n",
              "1      [{'id': '1.221', 'name': 'Программирование, Ра...   \n",
              "2      [{'id': '1.221', 'name': 'Программирование, Ра...   \n",
              "3      [{'id': '1.110', 'name': 'Компьютерная безопас...   \n",
              "4      [{'id': '1.110', 'name': 'Компьютерная безопас...   \n",
              "...                                                  ...   \n",
              "69651  [{'id': '1.221', 'name': 'Программирование, Ра...   \n",
              "69652  [{'id': '1.221', 'name': 'Программирование, Ра...   \n",
              "69653  [{'id': '9.94', 'name': 'Информационные технол...   \n",
              "69654  [{'id': '9.94', 'name': 'Информационные технол...   \n",
              "69655  [{'id': '9.94', 'name': 'Информационные технол...   \n",
              "\n",
              "                     region immediate_redirect_url  \n",
              "0      Астраханская область                    NaN  \n",
              "1      Астраханская область                    NaN  \n",
              "2      Астраханская область                    NaN  \n",
              "3      Астраханская область                    NaN  \n",
              "4      Астраханская область                    NaN  \n",
              "...                     ...                    ...  \n",
              "69651      Тульская область                    NaN  \n",
              "69652      Тульская область                    NaN  \n",
              "69653      Тульская область                    NaN  \n",
              "69654      Тульская область                    NaN  \n",
              "69655      Тульская область                    NaN  \n",
              "\n",
              "[69656 rows x 34 columns]"
            ],
            "text/html": [
              "\n",
              "  <div id=\"df-f0efbed9-3b86-49bd-8a06-065bdcddd41d\" class=\"colab-df-container\">\n",
              "    <div>\n",
              "<style scoped>\n",
              "    .dataframe tbody tr th:only-of-type {\n",
              "        vertical-align: middle;\n",
              "    }\n",
              "\n",
              "    .dataframe tbody tr th {\n",
              "        vertical-align: top;\n",
              "    }\n",
              "\n",
              "    .dataframe thead th {\n",
              "        text-align: right;\n",
              "    }\n",
              "</style>\n",
              "<table border=\"1\" class=\"dataframe\">\n",
              "  <thead>\n",
              "    <tr style=\"text-align: right;\">\n",
              "      <th></th>\n",
              "      <th>Unnamed: 0</th>\n",
              "      <th>id</th>\n",
              "      <th>premium</th>\n",
              "      <th>name</th>\n",
              "      <th>department</th>\n",
              "      <th>has_test</th>\n",
              "      <th>response_letter_required</th>\n",
              "      <th>area</th>\n",
              "      <th>salary</th>\n",
              "      <th>type</th>\n",
              "      <th>...</th>\n",
              "      <th>working_days</th>\n",
              "      <th>working_time_intervals</th>\n",
              "      <th>working_time_modes</th>\n",
              "      <th>accept_temporary</th>\n",
              "      <th>description</th>\n",
              "      <th>experience</th>\n",
              "      <th>key_skills</th>\n",
              "      <th>specializations</th>\n",
              "      <th>region</th>\n",
              "      <th>immediate_redirect_url</th>\n",
              "    </tr>\n",
              "  </thead>\n",
              "  <tbody>\n",
              "    <tr>\n",
              "      <th>0</th>\n",
              "      <td>0</td>\n",
              "      <td>49059633</td>\n",
              "      <td>NaN</td>\n",
              "      <td>Младший специалист ручного тестирования</td>\n",
              "      <td>NaN</td>\n",
              "      <td>NaN</td>\n",
              "      <td>NaN</td>\n",
              "      <td>{'id': '15', 'name': 'Астрахань', 'url': 'http...</td>\n",
              "      <td>NaN</td>\n",
              "      <td>{'id': 'open', 'name': 'Открытая'}</td>\n",
              "      <td>...</td>\n",
              "      <td>[]</td>\n",
              "      <td>[]</td>\n",
              "      <td>[]</td>\n",
              "      <td>NaN</td>\n",
              "      <td>&lt;p&gt;В некоторых проектах Яндексу помогают компа...</td>\n",
              "      <td>{'id': 'noExperience', 'name': 'Нет опыта'}</td>\n",
              "      <td>[]</td>\n",
              "      <td>[{'id': '1.172', 'name': 'Начальный уровень, М...</td>\n",
              "      <td>Астраханская область</td>\n",
              "      <td>NaN</td>\n",
              "    </tr>\n",
              "    <tr>\n",
              "      <th>1</th>\n",
              "      <td>1</td>\n",
              "      <td>54653519</td>\n",
              "      <td>NaN</td>\n",
              "      <td>Тестировщик.Net</td>\n",
              "      <td>NaN</td>\n",
              "      <td>NaN</td>\n",
              "      <td>NaN</td>\n",
              "      <td>{'id': '15', 'name': 'Астрахань', 'url': 'http...</td>\n",
              "      <td>{'from': 25000, 'to': 50000, 'currency': 'RUR'...</td>\n",
              "      <td>{'id': 'open', 'name': 'Открытая'}</td>\n",
              "      <td>...</td>\n",
              "      <td>[]</td>\n",
              "      <td>[]</td>\n",
              "      <td>[]</td>\n",
              "      <td>NaN</td>\n",
              "      <td>&lt;p&gt;&lt;em&gt;&lt;strong&gt;Мы ищем талантливого и амбициоз...</td>\n",
              "      <td>{'id': 'between1And3', 'name': 'От 1 года до 3...</td>\n",
              "      <td>[{'name': 'Git'}, {'name': 'SQL'}, {'name': 'Т...</td>\n",
              "      <td>[{'id': '1.221', 'name': 'Программирование, Ра...</td>\n",
              "      <td>Астраханская область</td>\n",
              "      <td>NaN</td>\n",
              "    </tr>\n",
              "    <tr>\n",
              "      <th>2</th>\n",
              "      <td>2</td>\n",
              "      <td>55116066</td>\n",
              "      <td>NaN</td>\n",
              "      <td>Пентестер</td>\n",
              "      <td>NaN</td>\n",
              "      <td>NaN</td>\n",
              "      <td>NaN</td>\n",
              "      <td>{'id': '15', 'name': 'Астрахань', 'url': 'http...</td>\n",
              "      <td>NaN</td>\n",
              "      <td>{'id': 'open', 'name': 'Открытая'}</td>\n",
              "      <td>...</td>\n",
              "      <td>[]</td>\n",
              "      <td>[]</td>\n",
              "      <td>[]</td>\n",
              "      <td>NaN</td>\n",
              "      <td>&lt;p&gt;Лидер на рынке систем информационной безопа...</td>\n",
              "      <td>{'id': 'between3And6', 'name': 'От 3 до 6 лет'}</td>\n",
              "      <td>[{'name': 'SQL'}, {'name': 'Linux'}, {'name': ...</td>\n",
              "      <td>[{'id': '1.221', 'name': 'Программирование, Ра...</td>\n",
              "      <td>Астраханская область</td>\n",
              "      <td>NaN</td>\n",
              "    </tr>\n",
              "    <tr>\n",
              "      <th>3</th>\n",
              "      <td>3</td>\n",
              "      <td>54031261</td>\n",
              "      <td>NaN</td>\n",
              "      <td>Ведущий Специалист по информационным технологиям</td>\n",
              "      <td>{'id': 'pochta-4352-office', 'name': '«Почта Р...</td>\n",
              "      <td>NaN</td>\n",
              "      <td>NaN</td>\n",
              "      <td>{'id': '15', 'name': 'Астрахань', 'url': 'http...</td>\n",
              "      <td>{'from': 26000, 'to': None, 'currency': 'RUR',...</td>\n",
              "      <td>{'id': 'open', 'name': 'Открытая'}</td>\n",
              "      <td>...</td>\n",
              "      <td>[]</td>\n",
              "      <td>[]</td>\n",
              "      <td>[]</td>\n",
              "      <td>NaN</td>\n",
              "      <td>&lt;ul&gt; &lt;li&gt;Администрирование компьютерной сети&lt;/...</td>\n",
              "      <td>{'id': 'noExperience', 'name': 'Нет опыта'}</td>\n",
              "      <td>[{'name': 'Пользователь ПК'}, {'name': 'Работа...</td>\n",
              "      <td>[{'id': '1.110', 'name': 'Компьютерная безопас...</td>\n",
              "      <td>Астраханская область</td>\n",
              "      <td>NaN</td>\n",
              "    </tr>\n",
              "    <tr>\n",
              "      <th>4</th>\n",
              "      <td>4</td>\n",
              "      <td>55243040</td>\n",
              "      <td>NaN</td>\n",
              "      <td>Специалист по защите информации</td>\n",
              "      <td>NaN</td>\n",
              "      <td>NaN</td>\n",
              "      <td>NaN</td>\n",
              "      <td>{'id': '15', 'name': 'Астрахань', 'url': 'http...</td>\n",
              "      <td>{'from': 20000, 'to': 20000, 'currency': 'RUR'...</td>\n",
              "      <td>{'id': 'open', 'name': 'Открытая'}</td>\n",
              "      <td>...</td>\n",
              "      <td>[]</td>\n",
              "      <td>[]</td>\n",
              "      <td>[]</td>\n",
              "      <td>NaN</td>\n",
              "      <td>&lt;strong&gt;Обязанности:&lt;/strong&gt; &lt;ul&gt; &lt;li&gt;Обеспеч...</td>\n",
              "      <td>{'id': 'noExperience', 'name': 'Нет опыта'}</td>\n",
              "      <td>[{'name': 'MS Dos'}, {'name': 'Диагностика ПК'...</td>\n",
              "      <td>[{'id': '1.110', 'name': 'Компьютерная безопас...</td>\n",
              "      <td>Астраханская область</td>\n",
              "      <td>NaN</td>\n",
              "    </tr>\n",
              "    <tr>\n",
              "      <th>...</th>\n",
              "      <td>...</td>\n",
              "      <td>...</td>\n",
              "      <td>...</td>\n",
              "      <td>...</td>\n",
              "      <td>...</td>\n",
              "      <td>...</td>\n",
              "      <td>...</td>\n",
              "      <td>...</td>\n",
              "      <td>...</td>\n",
              "      <td>...</td>\n",
              "      <td>...</td>\n",
              "      <td>...</td>\n",
              "      <td>...</td>\n",
              "      <td>...</td>\n",
              "      <td>...</td>\n",
              "      <td>...</td>\n",
              "      <td>...</td>\n",
              "      <td>...</td>\n",
              "      <td>...</td>\n",
              "      <td>...</td>\n",
              "      <td>...</td>\n",
              "    </tr>\n",
              "    <tr>\n",
              "      <th>69651</th>\n",
              "      <td>463</td>\n",
              "      <td>66113834</td>\n",
              "      <td>NaN</td>\n",
              "      <td>Программист Java</td>\n",
              "      <td>NaN</td>\n",
              "      <td>NaN</td>\n",
              "      <td>NaN</td>\n",
              "      <td>{'id': '92', 'name': 'Тула', 'url': 'https://a...</td>\n",
              "      <td>NaN</td>\n",
              "      <td>{'id': 'open', 'name': 'Открытая'}</td>\n",
              "      <td>...</td>\n",
              "      <td>[]</td>\n",
              "      <td>[]</td>\n",
              "      <td>[]</td>\n",
              "      <td>NaN</td>\n",
              "      <td>&lt;p&gt;В связи с формированием внешнего кадрового ...</td>\n",
              "      <td>{'id': 'between3And6', 'name': 'От 3 до 6 лет'}</td>\n",
              "      <td>[]</td>\n",
              "      <td>[{'id': '1.221', 'name': 'Программирование, Ра...</td>\n",
              "      <td>Тульская область</td>\n",
              "      <td>NaN</td>\n",
              "    </tr>\n",
              "    <tr>\n",
              "      <th>69652</th>\n",
              "      <td>464</td>\n",
              "      <td>66113885</td>\n",
              "      <td>NaN</td>\n",
              "      <td>Программист 1C</td>\n",
              "      <td>NaN</td>\n",
              "      <td>NaN</td>\n",
              "      <td>NaN</td>\n",
              "      <td>{'id': '92', 'name': 'Тула', 'url': 'https://a...</td>\n",
              "      <td>{'from': 130000, 'to': None, 'currency': 'RUR'...</td>\n",
              "      <td>{'id': 'open', 'name': 'Открытая'}</td>\n",
              "      <td>...</td>\n",
              "      <td>[]</td>\n",
              "      <td>[]</td>\n",
              "      <td>[]</td>\n",
              "      <td>NaN</td>\n",
              "      <td>&lt;strong&gt;Обязанности:&lt;/strong&gt; &lt;p&gt;- Поддержка и...</td>\n",
              "      <td>{'id': 'between1And3', 'name': 'От 1 года до 3...</td>\n",
              "      <td>[{'name': '1С: Управление Торговлей'}, {'name'...</td>\n",
              "      <td>[{'id': '1.221', 'name': 'Программирование, Ра...</td>\n",
              "      <td>Тульская область</td>\n",
              "      <td>NaN</td>\n",
              "    </tr>\n",
              "    <tr>\n",
              "      <th>69653</th>\n",
              "      <td>465</td>\n",
              "      <td>54749225</td>\n",
              "      <td>NaN</td>\n",
              "      <td>Начальник отдела информационных технологий</td>\n",
              "      <td>NaN</td>\n",
              "      <td>NaN</td>\n",
              "      <td>NaN</td>\n",
              "      <td>{'id': '92', 'name': 'Тула', 'url': 'https://a...</td>\n",
              "      <td>{'from': 50000, 'to': None, 'currency': 'RUR',...</td>\n",
              "      <td>{'id': 'open', 'name': 'Открытая'}</td>\n",
              "      <td>...</td>\n",
              "      <td>[]</td>\n",
              "      <td>[]</td>\n",
              "      <td>[]</td>\n",
              "      <td>NaN</td>\n",
              "      <td>&lt;strong&gt;Обязанности&lt;/strong&gt; &lt;p&gt;Руководить раб...</td>\n",
              "      <td>{'id': 'between1And3', 'name': 'От 1 года до 3...</td>\n",
              "      <td>[{'name': 'Организаторские навыки'}, {'name': ...</td>\n",
              "      <td>[{'id': '9.94', 'name': 'Информационные технол...</td>\n",
              "      <td>Тульская область</td>\n",
              "      <td>NaN</td>\n",
              "    </tr>\n",
              "    <tr>\n",
              "      <th>69654</th>\n",
              "      <td>466</td>\n",
              "      <td>55498724</td>\n",
              "      <td>NaN</td>\n",
              "      <td>Технический директор (DevOps, технолог)</td>\n",
              "      <td>NaN</td>\n",
              "      <td>NaN</td>\n",
              "      <td>NaN</td>\n",
              "      <td>{'id': '92', 'name': 'Тула', 'url': 'https://a...</td>\n",
              "      <td>{'from': 85000, 'to': None, 'currency': 'RUR',...</td>\n",
              "      <td>{'id': 'open', 'name': 'Открытая'}</td>\n",
              "      <td>...</td>\n",
              "      <td>[]</td>\n",
              "      <td>[]</td>\n",
              "      <td>[]</td>\n",
              "      <td>NaN</td>\n",
              "      <td>&lt;p&gt;&lt;strong&gt;Внимание! Мы ищем кандидата в тульс...</td>\n",
              "      <td>{'id': 'between3And6', 'name': 'От 3 до 6 лет'}</td>\n",
              "      <td>[]</td>\n",
              "      <td>[{'id': '9.94', 'name': 'Информационные технол...</td>\n",
              "      <td>Тульская область</td>\n",
              "      <td>NaN</td>\n",
              "    </tr>\n",
              "    <tr>\n",
              "      <th>69655</th>\n",
              "      <td>467</td>\n",
              "      <td>55544352</td>\n",
              "      <td>NaN</td>\n",
              "      <td>Начальник отдела по защите информации и информ...</td>\n",
              "      <td>NaN</td>\n",
              "      <td>NaN</td>\n",
              "      <td>NaN</td>\n",
              "      <td>{'id': '92', 'name': 'Тула', 'url': 'https://a...</td>\n",
              "      <td>NaN</td>\n",
              "      <td>{'id': 'open', 'name': 'Открытая'}</td>\n",
              "      <td>...</td>\n",
              "      <td>[]</td>\n",
              "      <td>[]</td>\n",
              "      <td>[]</td>\n",
              "      <td>NaN</td>\n",
              "      <td>&lt;p&gt;&lt;strong&gt;Строительный холдинг, ведущий соору...</td>\n",
              "      <td>{'id': 'moreThan6', 'name': 'Более 6 лет'}</td>\n",
              "      <td>[{'name': 'Информационная безопасность'}, {'na...</td>\n",
              "      <td>[{'id': '9.94', 'name': 'Информационные технол...</td>\n",
              "      <td>Тульская область</td>\n",
              "      <td>NaN</td>\n",
              "    </tr>\n",
              "  </tbody>\n",
              "</table>\n",
              "<p>69656 rows × 34 columns</p>\n",
              "</div>\n",
              "    <div class=\"colab-df-buttons\">\n",
              "\n",
              "  <div class=\"colab-df-container\">\n",
              "    <button class=\"colab-df-convert\" onclick=\"convertToInteractive('df-f0efbed9-3b86-49bd-8a06-065bdcddd41d')\"\n",
              "            title=\"Convert this dataframe to an interactive table.\"\n",
              "            style=\"display:none;\">\n",
              "\n",
              "  <svg xmlns=\"http://www.w3.org/2000/svg\" height=\"24px\" viewBox=\"0 -960 960 960\">\n",
              "    <path d=\"M120-120v-720h720v720H120Zm60-500h600v-160H180v160Zm220 220h160v-160H400v160Zm0 220h160v-160H400v160ZM180-400h160v-160H180v160Zm440 0h160v-160H620v160ZM180-180h160v-160H180v160Zm440 0h160v-160H620v160Z\"/>\n",
              "  </svg>\n",
              "    </button>\n",
              "\n",
              "  <style>\n",
              "    .colab-df-container {\n",
              "      display:flex;\n",
              "      gap: 12px;\n",
              "    }\n",
              "\n",
              "    .colab-df-convert {\n",
              "      background-color: #E8F0FE;\n",
              "      border: none;\n",
              "      border-radius: 50%;\n",
              "      cursor: pointer;\n",
              "      display: none;\n",
              "      fill: #1967D2;\n",
              "      height: 32px;\n",
              "      padding: 0 0 0 0;\n",
              "      width: 32px;\n",
              "    }\n",
              "\n",
              "    .colab-df-convert:hover {\n",
              "      background-color: #E2EBFA;\n",
              "      box-shadow: 0px 1px 2px rgba(60, 64, 67, 0.3), 0px 1px 3px 1px rgba(60, 64, 67, 0.15);\n",
              "      fill: #174EA6;\n",
              "    }\n",
              "\n",
              "    .colab-df-buttons div {\n",
              "      margin-bottom: 4px;\n",
              "    }\n",
              "\n",
              "    [theme=dark] .colab-df-convert {\n",
              "      background-color: #3B4455;\n",
              "      fill: #D2E3FC;\n",
              "    }\n",
              "\n",
              "    [theme=dark] .colab-df-convert:hover {\n",
              "      background-color: #434B5C;\n",
              "      box-shadow: 0px 1px 3px 1px rgba(0, 0, 0, 0.15);\n",
              "      filter: drop-shadow(0px 1px 2px rgba(0, 0, 0, 0.3));\n",
              "      fill: #FFFFFF;\n",
              "    }\n",
              "  </style>\n",
              "\n",
              "    <script>\n",
              "      const buttonEl =\n",
              "        document.querySelector('#df-f0efbed9-3b86-49bd-8a06-065bdcddd41d button.colab-df-convert');\n",
              "      buttonEl.style.display =\n",
              "        google.colab.kernel.accessAllowed ? 'block' : 'none';\n",
              "\n",
              "      async function convertToInteractive(key) {\n",
              "        const element = document.querySelector('#df-f0efbed9-3b86-49bd-8a06-065bdcddd41d');\n",
              "        const dataTable =\n",
              "          await google.colab.kernel.invokeFunction('convertToInteractive',\n",
              "                                                    [key], {});\n",
              "        if (!dataTable) return;\n",
              "\n",
              "        const docLinkHtml = 'Like what you see? Visit the ' +\n",
              "          '<a target=\"_blank\" href=https://colab.research.google.com/notebooks/data_table.ipynb>data table notebook</a>'\n",
              "          + ' to learn more about interactive tables.';\n",
              "        element.innerHTML = '';\n",
              "        dataTable['output_type'] = 'display_data';\n",
              "        await google.colab.output.renderOutput(dataTable, element);\n",
              "        const docLink = document.createElement('div');\n",
              "        docLink.innerHTML = docLinkHtml;\n",
              "        element.appendChild(docLink);\n",
              "      }\n",
              "    </script>\n",
              "  </div>\n",
              "\n",
              "\n",
              "<div id=\"df-198feb10-886a-4911-9206-b36449e1c691\">\n",
              "  <button class=\"colab-df-quickchart\" onclick=\"quickchart('df-198feb10-886a-4911-9206-b36449e1c691')\"\n",
              "            title=\"Suggest charts\"\n",
              "            style=\"display:none;\">\n",
              "\n",
              "<svg xmlns=\"http://www.w3.org/2000/svg\" height=\"24px\"viewBox=\"0 0 24 24\"\n",
              "     width=\"24px\">\n",
              "    <g>\n",
              "        <path d=\"M19 3H5c-1.1 0-2 .9-2 2v14c0 1.1.9 2 2 2h14c1.1 0 2-.9 2-2V5c0-1.1-.9-2-2-2zM9 17H7v-7h2v7zm4 0h-2V7h2v10zm4 0h-2v-4h2v4z\"/>\n",
              "    </g>\n",
              "</svg>\n",
              "  </button>\n",
              "\n",
              "<style>\n",
              "  .colab-df-quickchart {\n",
              "      --bg-color: #E8F0FE;\n",
              "      --fill-color: #1967D2;\n",
              "      --hover-bg-color: #E2EBFA;\n",
              "      --hover-fill-color: #174EA6;\n",
              "      --disabled-fill-color: #AAA;\n",
              "      --disabled-bg-color: #DDD;\n",
              "  }\n",
              "\n",
              "  [theme=dark] .colab-df-quickchart {\n",
              "      --bg-color: #3B4455;\n",
              "      --fill-color: #D2E3FC;\n",
              "      --hover-bg-color: #434B5C;\n",
              "      --hover-fill-color: #FFFFFF;\n",
              "      --disabled-bg-color: #3B4455;\n",
              "      --disabled-fill-color: #666;\n",
              "  }\n",
              "\n",
              "  .colab-df-quickchart {\n",
              "    background-color: var(--bg-color);\n",
              "    border: none;\n",
              "    border-radius: 50%;\n",
              "    cursor: pointer;\n",
              "    display: none;\n",
              "    fill: var(--fill-color);\n",
              "    height: 32px;\n",
              "    padding: 0;\n",
              "    width: 32px;\n",
              "  }\n",
              "\n",
              "  .colab-df-quickchart:hover {\n",
              "    background-color: var(--hover-bg-color);\n",
              "    box-shadow: 0 1px 2px rgba(60, 64, 67, 0.3), 0 1px 3px 1px rgba(60, 64, 67, 0.15);\n",
              "    fill: var(--button-hover-fill-color);\n",
              "  }\n",
              "\n",
              "  .colab-df-quickchart-complete:disabled,\n",
              "  .colab-df-quickchart-complete:disabled:hover {\n",
              "    background-color: var(--disabled-bg-color);\n",
              "    fill: var(--disabled-fill-color);\n",
              "    box-shadow: none;\n",
              "  }\n",
              "\n",
              "  .colab-df-spinner {\n",
              "    border: 2px solid var(--fill-color);\n",
              "    border-color: transparent;\n",
              "    border-bottom-color: var(--fill-color);\n",
              "    animation:\n",
              "      spin 1s steps(1) infinite;\n",
              "  }\n",
              "\n",
              "  @keyframes spin {\n",
              "    0% {\n",
              "      border-color: transparent;\n",
              "      border-bottom-color: var(--fill-color);\n",
              "      border-left-color: var(--fill-color);\n",
              "    }\n",
              "    20% {\n",
              "      border-color: transparent;\n",
              "      border-left-color: var(--fill-color);\n",
              "      border-top-color: var(--fill-color);\n",
              "    }\n",
              "    30% {\n",
              "      border-color: transparent;\n",
              "      border-left-color: var(--fill-color);\n",
              "      border-top-color: var(--fill-color);\n",
              "      border-right-color: var(--fill-color);\n",
              "    }\n",
              "    40% {\n",
              "      border-color: transparent;\n",
              "      border-right-color: var(--fill-color);\n",
              "      border-top-color: var(--fill-color);\n",
              "    }\n",
              "    60% {\n",
              "      border-color: transparent;\n",
              "      border-right-color: var(--fill-color);\n",
              "    }\n",
              "    80% {\n",
              "      border-color: transparent;\n",
              "      border-right-color: var(--fill-color);\n",
              "      border-bottom-color: var(--fill-color);\n",
              "    }\n",
              "    90% {\n",
              "      border-color: transparent;\n",
              "      border-bottom-color: var(--fill-color);\n",
              "    }\n",
              "  }\n",
              "</style>\n",
              "\n",
              "  <script>\n",
              "    async function quickchart(key) {\n",
              "      const quickchartButtonEl =\n",
              "        document.querySelector('#' + key + ' button');\n",
              "      quickchartButtonEl.disabled = true;  // To prevent multiple clicks.\n",
              "      quickchartButtonEl.classList.add('colab-df-spinner');\n",
              "      try {\n",
              "        const charts = await google.colab.kernel.invokeFunction(\n",
              "            'suggestCharts', [key], {});\n",
              "      } catch (error) {\n",
              "        console.error('Error during call to suggestCharts:', error);\n",
              "      }\n",
              "      quickchartButtonEl.classList.remove('colab-df-spinner');\n",
              "      quickchartButtonEl.classList.add('colab-df-quickchart-complete');\n",
              "    }\n",
              "    (() => {\n",
              "      let quickchartButtonEl =\n",
              "        document.querySelector('#df-198feb10-886a-4911-9206-b36449e1c691 button');\n",
              "      quickchartButtonEl.style.display =\n",
              "        google.colab.kernel.accessAllowed ? 'block' : 'none';\n",
              "    })();\n",
              "  </script>\n",
              "</div>\n",
              "\n",
              "  <div id=\"id_42e1122f-8b16-4efc-bc8b-d75baf0a7b32\">\n",
              "    <style>\n",
              "      .colab-df-generate {\n",
              "        background-color: #E8F0FE;\n",
              "        border: none;\n",
              "        border-radius: 50%;\n",
              "        cursor: pointer;\n",
              "        display: none;\n",
              "        fill: #1967D2;\n",
              "        height: 32px;\n",
              "        padding: 0 0 0 0;\n",
              "        width: 32px;\n",
              "      }\n",
              "\n",
              "      .colab-df-generate:hover {\n",
              "        background-color: #E2EBFA;\n",
              "        box-shadow: 0px 1px 2px rgba(60, 64, 67, 0.3), 0px 1px 3px 1px rgba(60, 64, 67, 0.15);\n",
              "        fill: #174EA6;\n",
              "      }\n",
              "\n",
              "      [theme=dark] .colab-df-generate {\n",
              "        background-color: #3B4455;\n",
              "        fill: #D2E3FC;\n",
              "      }\n",
              "\n",
              "      [theme=dark] .colab-df-generate:hover {\n",
              "        background-color: #434B5C;\n",
              "        box-shadow: 0px 1px 3px 1px rgba(0, 0, 0, 0.15);\n",
              "        filter: drop-shadow(0px 1px 2px rgba(0, 0, 0, 0.3));\n",
              "        fill: #FFFFFF;\n",
              "      }\n",
              "    </style>\n",
              "    <button class=\"colab-df-generate\" onclick=\"generateWithVariable('ds')\"\n",
              "            title=\"Generate code using this dataframe.\"\n",
              "            style=\"display:none;\">\n",
              "\n",
              "  <svg xmlns=\"http://www.w3.org/2000/svg\" height=\"24px\"viewBox=\"0 0 24 24\"\n",
              "       width=\"24px\">\n",
              "    <path d=\"M7,19H8.4L18.45,9,17,7.55,7,17.6ZM5,21V16.75L18.45,3.32a2,2,0,0,1,2.83,0l1.4,1.43a1.91,1.91,0,0,1,.58,1.4,1.91,1.91,0,0,1-.58,1.4L9.25,21ZM18.45,9,17,7.55Zm-12,3A5.31,5.31,0,0,0,4.9,8.1,5.31,5.31,0,0,0,1,6.5,5.31,5.31,0,0,0,4.9,4.9,5.31,5.31,0,0,0,6.5,1,5.31,5.31,0,0,0,8.1,4.9,5.31,5.31,0,0,0,12,6.5,5.46,5.46,0,0,0,6.5,12Z\"/>\n",
              "  </svg>\n",
              "    </button>\n",
              "    <script>\n",
              "      (() => {\n",
              "      const buttonEl =\n",
              "        document.querySelector('#id_42e1122f-8b16-4efc-bc8b-d75baf0a7b32 button.colab-df-generate');\n",
              "      buttonEl.style.display =\n",
              "        google.colab.kernel.accessAllowed ? 'block' : 'none';\n",
              "\n",
              "      buttonEl.onclick = () => {\n",
              "        google.colab.notebook.generateWithVariable('ds');\n",
              "      }\n",
              "      })();\n",
              "    </script>\n",
              "  </div>\n",
              "\n",
              "    </div>\n",
              "  </div>\n"
            ]
          },
          "metadata": {},
          "execution_count": 3
        }
      ]
    },
    {
      "cell_type": "code",
      "source": [
        "ds.info()"
      ],
      "metadata": {
        "colab": {
          "base_uri": "https://localhost:8080/"
        },
        "id": "RwH4Fo55lqX2",
        "outputId": "09f6b8d4-5c2c-4954-bfc1-0d2461cb9e3f"
      },
      "execution_count": 4,
      "outputs": [
        {
          "output_type": "stream",
          "name": "stdout",
          "text": [
            "<class 'pandas.core.frame.DataFrame'>\n",
            "RangeIndex: 69656 entries, 0 to 69655\n",
            "Data columns (total 34 columns):\n",
            " #   Column                    Non-Null Count  Dtype  \n",
            "---  ------                    --------------  -----  \n",
            " 0   Unnamed: 0                69656 non-null  int64  \n",
            " 1   id                        69656 non-null  int64  \n",
            " 2   premium                   175 non-null    float64\n",
            " 3   name                      69656 non-null  object \n",
            " 4   department                5263 non-null   object \n",
            " 5   has_test                  1451 non-null   float64\n",
            " 6   response_letter_required  993 non-null    float64\n",
            " 7   area                      69656 non-null  object \n",
            " 8   salary                    37590 non-null  object \n",
            " 9   type                      69656 non-null  object \n",
            " 10  address                   40318 non-null  object \n",
            " 11  response_url              1 non-null      object \n",
            " 12  sort_point_distance       0 non-null      float64\n",
            " 13  published_at              69656 non-null  object \n",
            " 14  created_at                69656 non-null  object \n",
            " 15  archived                  4 non-null      float64\n",
            " 16  insider_interview         522 non-null    object \n",
            " 17  url                       69656 non-null  object \n",
            " 18  alternate_url             69656 non-null  object \n",
            " 19  relations                 69656 non-null  object \n",
            " 20  employer                  69656 non-null  object \n",
            " 21  snippet                   69656 non-null  object \n",
            " 22  contacts                  35114 non-null  object \n",
            " 23  schedule                  69656 non-null  object \n",
            " 24  working_days              69656 non-null  object \n",
            " 25  working_time_intervals    69656 non-null  object \n",
            " 26  working_time_modes        69656 non-null  object \n",
            " 27  accept_temporary          4730 non-null   float64\n",
            " 28  description               69656 non-null  object \n",
            " 29  experience                69656 non-null  object \n",
            " 30  key_skills                69656 non-null  object \n",
            " 31  specializations           69656 non-null  object \n",
            " 32  region                    69656 non-null  object \n",
            " 33  immediate_redirect_url    1 non-null      object \n",
            "dtypes: float64(6), int64(2), object(26)\n",
            "memory usage: 18.1+ MB\n"
          ]
        }
      ]
    },
    {
      "cell_type": "markdown",
      "source": [
        "# Selecting columns for analysis"
      ],
      "metadata": {
        "id": "MnItm5kqtHBP"
      }
    },
    {
      "cell_type": "markdown",
      "source": [
        "## Salary column"
      ],
      "metadata": {
        "id": "xNlWWoSatO3Z"
      }
    },
    {
      "cell_type": "code",
      "source": [
        "ds['salary'][1]"
      ],
      "metadata": {
        "colab": {
          "base_uri": "https://localhost:8080/",
          "height": 36
        },
        "id": "29u9ndimm6WO",
        "outputId": "5bd8992e-cc49-46ba-ea36-8c0b34a05360"
      },
      "execution_count": 5,
      "outputs": [
        {
          "output_type": "execute_result",
          "data": {
            "text/plain": [
              "\"{'from': 25000, 'to': 50000, 'currency': 'RUR', 'gross': True}\""
            ],
            "application/vnd.google.colaboratory.intrinsic+json": {
              "type": "string"
            }
          },
          "metadata": {},
          "execution_count": 5
        }
      ]
    },
    {
      "cell_type": "code",
      "source": [
        "ds.salary.isna().sum()"
      ],
      "metadata": {
        "colab": {
          "base_uri": "https://localhost:8080/"
        },
        "id": "PmxTluV_nMqF",
        "outputId": "c6cef108-3014-4f84-f5b8-14216ea04ce3"
      },
      "execution_count": 6,
      "outputs": [
        {
          "output_type": "execute_result",
          "data": {
            "text/plain": [
              "32066"
            ]
          },
          "metadata": {},
          "execution_count": 6
        }
      ]
    },
    {
      "cell_type": "code",
      "source": [
        "print(ds['salary'][1])\n",
        "print(ds['salary'][1].replace(\"{\", '').replace(\"}\", '').split(','))\n",
        "print(ds['salary'][1].replace(\"{\", '').replace(\"}\", '').split(',')[0][8:])"
      ],
      "metadata": {
        "colab": {
          "base_uri": "https://localhost:8080/"
        },
        "id": "SnoVWTXenbgb",
        "outputId": "e10fc096-e680-4832-ec3a-1f340e4fcae4"
      },
      "execution_count": 7,
      "outputs": [
        {
          "output_type": "stream",
          "name": "stdout",
          "text": [
            "{'from': 25000, 'to': 50000, 'currency': 'RUR', 'gross': True}\n",
            "[\"'from': 25000\", \" 'to': 50000\", \" 'currency': 'RUR'\", \" 'gross': True\"]\n",
            "25000\n"
          ]
        }
      ]
    },
    {
      "cell_type": "code",
      "source": [
        "def salary_from(salary):\n",
        "\n",
        "  if pd.isna(salary):\n",
        "    clean_salary = np.nan\n",
        "  else:\n",
        "    clean_salary = salary.replace(\"{\", '').replace(\"}\", '').split(',')[0][8:]\n",
        "\n",
        "  return clean_salary"
      ],
      "metadata": {
        "id": "3nNeCi3snxTD"
      },
      "execution_count": 8,
      "outputs": []
    },
    {
      "cell_type": "code",
      "source": [
        "ds['salary_from'] = ds.salary.apply(salary_from)"
      ],
      "metadata": {
        "id": "_w0bkGUln2_9"
      },
      "execution_count": 9,
      "outputs": []
    },
    {
      "cell_type": "code",
      "source": [
        "ds['salary_from'].describe()"
      ],
      "metadata": {
        "colab": {
          "base_uri": "https://localhost:8080/"
        },
        "id": "GPvyZdChn8qQ",
        "outputId": "5d84af5a-1971-4889-c603-fda93c3d07f5"
      },
      "execution_count": 10,
      "outputs": [
        {
          "output_type": "execute_result",
          "data": {
            "text/plain": [
              "count     37590\n",
              "unique      898\n",
              "top        None\n",
              "freq       3516\n",
              "Name: salary_from, dtype: object"
            ]
          },
          "metadata": {},
          "execution_count": 10
        }
      ]
    },
    {
      "cell_type": "code",
      "source": [
        "def salary_from(salary):\n",
        "\n",
        "  if pd.isna(salary):\n",
        "    clean_salary = np.nan\n",
        "  else:\n",
        "    clean_salary = salary.replace(\"{\", '').replace(\"}\", '').split(',')[0][8:]\n",
        "    if clean_salary == 'None':\n",
        "      clean_salary = np.nan\n",
        "\n",
        "  return clean_salary"
      ],
      "metadata": {
        "id": "jfuR5FrMoFp7"
      },
      "execution_count": 11,
      "outputs": []
    },
    {
      "cell_type": "code",
      "source": [
        "ds['salary_from'] = ds.salary.apply(salary_from)"
      ],
      "metadata": {
        "id": "AN16AeGHoKI4"
      },
      "execution_count": 12,
      "outputs": []
    },
    {
      "cell_type": "code",
      "source": [
        "ds.dtypes['salary_from']"
      ],
      "metadata": {
        "colab": {
          "base_uri": "https://localhost:8080/"
        },
        "id": "N9RISQNWoVXj",
        "outputId": "87c08117-3137-451c-e0e5-9f8d918354eb"
      },
      "execution_count": 13,
      "outputs": [
        {
          "output_type": "execute_result",
          "data": {
            "text/plain": [
              "dtype('O')"
            ]
          },
          "metadata": {},
          "execution_count": 13
        }
      ]
    },
    {
      "cell_type": "code",
      "source": [
        "ds['salary_from'] = pd.to_numeric(ds['salary_from'])"
      ],
      "metadata": {
        "id": "d9jVBfT6ofqg"
      },
      "execution_count": 14,
      "outputs": []
    },
    {
      "cell_type": "code",
      "source": [
        "ds.dtypes['salary_from']"
      ],
      "metadata": {
        "colab": {
          "base_uri": "https://localhost:8080/"
        },
        "id": "pi0KcWL0omTN",
        "outputId": "f74f8283-933c-4de1-d993-5b7105798eff"
      },
      "execution_count": 15,
      "outputs": [
        {
          "output_type": "execute_result",
          "data": {
            "text/plain": [
              "dtype('float64')"
            ]
          },
          "metadata": {},
          "execution_count": 15
        }
      ]
    },
    {
      "cell_type": "code",
      "source": [
        "ds['salary_from'] = ds['salary_from'].astype('Int64')"
      ],
      "metadata": {
        "id": "BI2TUn4lopQ3"
      },
      "execution_count": 16,
      "outputs": []
    },
    {
      "cell_type": "code",
      "source": [
        "ds.dtypes['salary_from']"
      ],
      "metadata": {
        "colab": {
          "base_uri": "https://localhost:8080/"
        },
        "id": "1YBmo1fvowEK",
        "outputId": "11406c6e-d507-4836-e567-9764d37e8f41"
      },
      "execution_count": 17,
      "outputs": [
        {
          "output_type": "execute_result",
          "data": {
            "text/plain": [
              "Int64Dtype()"
            ]
          },
          "metadata": {},
          "execution_count": 17
        }
      ]
    },
    {
      "cell_type": "code",
      "source": [
        "ds['salary_from']"
      ],
      "metadata": {
        "colab": {
          "base_uri": "https://localhost:8080/"
        },
        "id": "elVwUhH54wkC",
        "outputId": "127844d1-fc9a-41d8-d1bc-b94b2915e3aa"
      },
      "execution_count": 18,
      "outputs": [
        {
          "output_type": "execute_result",
          "data": {
            "text/plain": [
              "0          <NA>\n",
              "1         25000\n",
              "2          <NA>\n",
              "3         26000\n",
              "4         20000\n",
              "          ...  \n",
              "69651      <NA>\n",
              "69652    130000\n",
              "69653     50000\n",
              "69654     85000\n",
              "69655      <NA>\n",
              "Name: salary_from, Length: 69656, dtype: Int64"
            ]
          },
          "metadata": {},
          "execution_count": 18
        }
      ]
    },
    {
      "cell_type": "code",
      "source": [
        "print(ds['salary'][1])\n",
        "print(ds['salary'][1].replace(\"{\", '').replace(\"}\", '').split(','))\n",
        "print(ds['salary'][1].replace(\"{\", '').replace(\"}\", '').split(',')[2][14:17])"
      ],
      "metadata": {
        "colab": {
          "base_uri": "https://localhost:8080/"
        },
        "id": "TFUyjriIGGAO",
        "outputId": "1301c03d-aa16-4b3d-9351-6534fd31cd4b"
      },
      "execution_count": 19,
      "outputs": [
        {
          "output_type": "stream",
          "name": "stdout",
          "text": [
            "{'from': 25000, 'to': 50000, 'currency': 'RUR', 'gross': True}\n",
            "[\"'from': 25000\", \" 'to': 50000\", \" 'currency': 'RUR'\", \" 'gross': True\"]\n",
            "RUR\n"
          ]
        }
      ]
    },
    {
      "cell_type": "code",
      "source": [
        "def currency(salary):\n",
        "\n",
        "  if pd.isna(salary):\n",
        "    clean_salary = np.nan\n",
        "  else:\n",
        "    clean_salary = salary.replace(\"{\", '').replace(\"}\", '').split(',')[2][14:17]\n",
        "\n",
        "  return clean_salary"
      ],
      "metadata": {
        "id": "XtwyNYNQDoRX"
      },
      "execution_count": 20,
      "outputs": []
    },
    {
      "cell_type": "code",
      "source": [
        "ds['currency'] = ds.salary.apply(salary_from)"
      ],
      "metadata": {
        "id": "oirTRxVYEAOT"
      },
      "execution_count": 21,
      "outputs": []
    },
    {
      "cell_type": "code",
      "source": [
        "ds['currency'].describe()"
      ],
      "metadata": {
        "colab": {
          "base_uri": "https://localhost:8080/"
        },
        "id": "Qr3_RXuKEPlx",
        "outputId": "ff74b6e9-aa6b-46d2-9e24-0b99ef19a4df"
      },
      "execution_count": 22,
      "outputs": [
        {
          "output_type": "execute_result",
          "data": {
            "text/plain": [
              "count     34074\n",
              "unique      897\n",
              "top       50000\n",
              "freq       3040\n",
              "Name: currency, dtype: object"
            ]
          },
          "metadata": {},
          "execution_count": 22
        }
      ]
    },
    {
      "cell_type": "code",
      "source": [
        "ds['currency'] = ds.salary.apply(currency)"
      ],
      "metadata": {
        "id": "P-31HeEKEw0S"
      },
      "execution_count": 23,
      "outputs": []
    },
    {
      "cell_type": "code",
      "source": [
        "ds['currency']"
      ],
      "metadata": {
        "colab": {
          "base_uri": "https://localhost:8080/"
        },
        "id": "DIko3CCHFRyy",
        "outputId": "5a039a42-aca9-4f1f-e198-1c4cc4c7609e"
      },
      "execution_count": 24,
      "outputs": [
        {
          "output_type": "execute_result",
          "data": {
            "text/plain": [
              "0        NaN\n",
              "1        RUR\n",
              "2        NaN\n",
              "3        RUR\n",
              "4        RUR\n",
              "        ... \n",
              "69651    NaN\n",
              "69652    RUR\n",
              "69653    RUR\n",
              "69654    RUR\n",
              "69655    NaN\n",
              "Name: currency, Length: 69656, dtype: object"
            ]
          },
          "metadata": {},
          "execution_count": 24
        }
      ]
    },
    {
      "cell_type": "code",
      "source": [
        "new_df = ds[['name', 'salary_from', 'currency']]\n",
        "print(new_df)"
      ],
      "metadata": {
        "colab": {
          "base_uri": "https://localhost:8080/"
        },
        "id": "Nj39xvk05Bci",
        "outputId": "e87f1908-da86-4a3c-fbcc-838e3d0a7b44"
      },
      "execution_count": 25,
      "outputs": [
        {
          "output_type": "stream",
          "name": "stdout",
          "text": [
            "                                                    name  salary_from currency\n",
            "0                Младший специалист ручного тестирования         <NA>      NaN\n",
            "1                                        Тестировщик.Net        25000      RUR\n",
            "2                                              Пентестер         <NA>      NaN\n",
            "3       Ведущий Специалист по информационным технологиям        26000      RUR\n",
            "4                        Специалист по защите информации        20000      RUR\n",
            "...                                                  ...          ...      ...\n",
            "69651                                   Программист Java         <NA>      NaN\n",
            "69652                                     Программист 1C       130000      RUR\n",
            "69653         Начальник отдела информационных технологий        50000      RUR\n",
            "69654            Технический директор (DevOps, технолог)        85000      RUR\n",
            "69655  Начальник отдела по защите информации и информ...         <NA>      NaN\n",
            "\n",
            "[69656 rows x 3 columns]\n"
          ]
        }
      ]
    },
    {
      "cell_type": "code",
      "source": [
        "ds['currency'].unique()"
      ],
      "metadata": {
        "colab": {
          "base_uri": "https://localhost:8080/"
        },
        "id": "95qc8MIbRAXH",
        "outputId": "63c12fb9-5f21-48ee-bb05-b675d4e274c3"
      },
      "execution_count": 26,
      "outputs": [
        {
          "output_type": "execute_result",
          "data": {
            "text/plain": [
              "array([nan, 'RUR', 'USD', 'EUR', 'KZT'], dtype=object)"
            ]
          },
          "metadata": {},
          "execution_count": 26
        }
      ]
    },
    {
      "cell_type": "code",
      "source": [
        "exchange_rates = {'RUR': 1, 'USD': 61, 'EUR': 61, 'KZT': 0.13}"
      ],
      "metadata": {
        "id": "qpjRPvKMTQmE"
      },
      "execution_count": 27,
      "outputs": []
    },
    {
      "cell_type": "code",
      "source": [
        "ds['converted_salary'] = ds['currency'].map(exchange_rates) * ds['salary_from']"
      ],
      "metadata": {
        "id": "kKD5xGjNTWaX"
      },
      "execution_count": 28,
      "outputs": []
    },
    {
      "cell_type": "code",
      "source": [
        "ds.dtypes['converted_salary']"
      ],
      "metadata": {
        "colab": {
          "base_uri": "https://localhost:8080/"
        },
        "id": "4P4RNE-ZVewX",
        "outputId": "99ae01f9-bd64-48f7-abae-47cb0e6b6169"
      },
      "execution_count": 29,
      "outputs": [
        {
          "output_type": "execute_result",
          "data": {
            "text/plain": [
              "Float64Dtype()"
            ]
          },
          "metadata": {},
          "execution_count": 29
        }
      ]
    },
    {
      "cell_type": "code",
      "source": [
        "ds['converted_salary'] = ds['converted_salary'].astype('Int64')"
      ],
      "metadata": {
        "id": "VPSQeizVV_8L"
      },
      "execution_count": 30,
      "outputs": []
    },
    {
      "cell_type": "code",
      "source": [
        "ds.dtypes['converted_salary']"
      ],
      "metadata": {
        "colab": {
          "base_uri": "https://localhost:8080/"
        },
        "id": "Jnsw0ardWGrg",
        "outputId": "68fcaea2-4fb5-44f7-9a50-f6a648207fba"
      },
      "execution_count": 31,
      "outputs": [
        {
          "output_type": "execute_result",
          "data": {
            "text/plain": [
              "Int64Dtype()"
            ]
          },
          "metadata": {},
          "execution_count": 31
        }
      ]
    },
    {
      "cell_type": "code",
      "source": [
        "ds['converted_salary']"
      ],
      "metadata": {
        "colab": {
          "base_uri": "https://localhost:8080/"
        },
        "id": "e1BJlHn-nqdb",
        "outputId": "1f6dccd8-f547-4e98-a32b-ce30b5ba00eb"
      },
      "execution_count": 32,
      "outputs": [
        {
          "output_type": "execute_result",
          "data": {
            "text/plain": [
              "0          <NA>\n",
              "1         25000\n",
              "2          <NA>\n",
              "3         26000\n",
              "4         20000\n",
              "          ...  \n",
              "69651      <NA>\n",
              "69652    130000\n",
              "69653     50000\n",
              "69654     85000\n",
              "69655      <NA>\n",
              "Name: converted_salary, Length: 69656, dtype: Int64"
            ]
          },
          "metadata": {},
          "execution_count": 32
        }
      ]
    },
    {
      "cell_type": "markdown",
      "source": [
        "### Maximum and minimum salary in the IT sector:"
      ],
      "metadata": {
        "id": "gQutQwMJubqD"
      }
    },
    {
      "cell_type": "code",
      "source": [
        "converted_salary_value = ds['converted_salary']"
      ],
      "metadata": {
        "id": "AmdYVh6SuhDH"
      },
      "execution_count": 33,
      "outputs": []
    },
    {
      "cell_type": "code",
      "source": [
        "max_value = converted_salary_value.max()\n",
        "min_value = converted_salary_value.min()\n",
        "print('Maximum salary: ', max_value, 'Minimum salary: ', min_value)"
      ],
      "metadata": {
        "colab": {
          "base_uri": "https://localhost:8080/"
        },
        "id": "jCXaPJ18vwM_",
        "outputId": "c659ede3-419d-428d-95e8-4e32a5511c3f"
      },
      "execution_count": 72,
      "outputs": [
        {
          "output_type": "stream",
          "name": "stdout",
          "text": [
            "Maximum salary:  1000000 Minimum salary:  25\n"
          ]
        }
      ]
    },
    {
      "cell_type": "markdown",
      "source": [
        "We will select vacancies only from the IT sector"
      ],
      "metadata": {
        "id": "8BZu6AOBKyr0"
      }
    },
    {
      "cell_type": "code",
      "source": [
        "ds['key_skills']"
      ],
      "metadata": {
        "colab": {
          "base_uri": "https://localhost:8080/"
        },
        "id": "MU3BLX62rumV",
        "outputId": "733beddb-70e5-47d0-e454-6738f22beab6"
      },
      "execution_count": 35,
      "outputs": [
        {
          "output_type": "execute_result",
          "data": {
            "text/plain": [
              "0                                                       []\n",
              "1        [{'name': 'Git'}, {'name': 'SQL'}, {'name': 'Т...\n",
              "2        [{'name': 'SQL'}, {'name': 'Linux'}, {'name': ...\n",
              "3        [{'name': 'Пользователь ПК'}, {'name': 'Работа...\n",
              "4        [{'name': 'MS Dos'}, {'name': 'Диагностика ПК'...\n",
              "                               ...                        \n",
              "69651                                                   []\n",
              "69652    [{'name': '1С: Управление Торговлей'}, {'name'...\n",
              "69653    [{'name': 'Организаторские навыки'}, {'name': ...\n",
              "69654                                                   []\n",
              "69655    [{'name': 'Информационная безопасность'}, {'na...\n",
              "Name: key_skills, Length: 69656, dtype: object"
            ]
          },
          "metadata": {},
          "execution_count": 35
        }
      ]
    },
    {
      "cell_type": "code",
      "source": [
        "ds['key_skills'][1]"
      ],
      "metadata": {
        "colab": {
          "base_uri": "https://localhost:8080/",
          "height": 36
        },
        "id": "-HnIa3cAsa-6",
        "outputId": "a9074c0c-c6f3-406e-a74e-906840a3c177"
      },
      "execution_count": 36,
      "outputs": [
        {
          "output_type": "execute_result",
          "data": {
            "text/plain": [
              "\"[{'name': 'Git'}, {'name': 'SQL'}, {'name': 'Тестирование'}, {'name': 'C#'}, {'name': 'API'}]\""
            ],
            "application/vnd.google.colaboratory.intrinsic+json": {
              "type": "string"
            }
          },
          "metadata": {},
          "execution_count": 36
        }
      ]
    },
    {
      "cell_type": "code",
      "source": [
        "js.loads(ds['key_skills'][1].replace(\"'\", '\"'))"
      ],
      "metadata": {
        "colab": {
          "base_uri": "https://localhost:8080/"
        },
        "id": "Wq8uI9zmsnyy",
        "outputId": "ca8e1124-b0c5-4f91-ecb5-97822801ca8a"
      },
      "execution_count": 37,
      "outputs": [
        {
          "output_type": "execute_result",
          "data": {
            "text/plain": [
              "[{'name': 'Git'},\n",
              " {'name': 'SQL'},\n",
              " {'name': 'Тестирование'},\n",
              " {'name': 'C#'},\n",
              " {'name': 'API'}]"
            ]
          },
          "metadata": {},
          "execution_count": 37
        }
      ]
    },
    {
      "cell_type": "code",
      "source": [
        "def text_to_json(text):\n",
        "\n",
        "  return json.loads(text.replace('\"', '').replace(\"'\", '\"'))"
      ],
      "metadata": {
        "id": "97BklgI6stle"
      },
      "execution_count": 38,
      "outputs": []
    },
    {
      "cell_type": "code",
      "source": [
        "ds['key_skills'] = ds['key_skills'].fillna('[]')\n",
        "ds['key_skills']"
      ],
      "metadata": {
        "colab": {
          "base_uri": "https://localhost:8080/"
        },
        "id": "nyloZ-RfszEx",
        "outputId": "c7bc4e9f-029b-4dd6-b5d5-12d93958a60b"
      },
      "execution_count": 39,
      "outputs": [
        {
          "output_type": "execute_result",
          "data": {
            "text/plain": [
              "0                                                       []\n",
              "1        [{'name': 'Git'}, {'name': 'SQL'}, {'name': 'Т...\n",
              "2        [{'name': 'SQL'}, {'name': 'Linux'}, {'name': ...\n",
              "3        [{'name': 'Пользователь ПК'}, {'name': 'Работа...\n",
              "4        [{'name': 'MS Dos'}, {'name': 'Диагностика ПК'...\n",
              "                               ...                        \n",
              "69651                                                   []\n",
              "69652    [{'name': '1С: Управление Торговлей'}, {'name'...\n",
              "69653    [{'name': 'Организаторские навыки'}, {'name': ...\n",
              "69654                                                   []\n",
              "69655    [{'name': 'Информационная безопасность'}, {'na...\n",
              "Name: key_skills, Length: 69656, dtype: object"
            ]
          },
          "metadata": {},
          "execution_count": 39
        }
      ]
    },
    {
      "cell_type": "code",
      "source": [
        "def text_to_json(text):\n",
        "  try:\n",
        "    return json.loads(text.replace(\"'\", '\"'))\n",
        "  except:\n",
        "    print('Error: ', text)"
      ],
      "metadata": {
        "id": "SngG3a4ws_me"
      },
      "execution_count": 73,
      "outputs": []
    },
    {
      "cell_type": "code",
      "source": [
        "def text_to_json(text):\n",
        "  try:\n",
        "    return json.loads(text.replace('\"', '').replace(\"'\", '\"'))\n",
        "  except:\n",
        "    return []\n",
        "ds['key_skills_json'] = ds['key_skills'].apply(text_to_json)"
      ],
      "metadata": {
        "id": "A6ktyLWBtN9t"
      },
      "execution_count": 41,
      "outputs": []
    },
    {
      "cell_type": "code",
      "source": [
        "ds['key_skills_json']"
      ],
      "metadata": {
        "colab": {
          "base_uri": "https://localhost:8080/"
        },
        "id": "YPR4Ic2vtbO0",
        "outputId": "d744f6af-fc72-405a-ccda-a6447f607dd2"
      },
      "execution_count": 42,
      "outputs": [
        {
          "output_type": "execute_result",
          "data": {
            "text/plain": [
              "0        []\n",
              "1        []\n",
              "2        []\n",
              "3        []\n",
              "4        []\n",
              "         ..\n",
              "69651    []\n",
              "69652    []\n",
              "69653    []\n",
              "69654    []\n",
              "69655    []\n",
              "Name: key_skills_json, Length: 69656, dtype: object"
            ]
          },
          "metadata": {},
          "execution_count": 42
        }
      ]
    },
    {
      "cell_type": "code",
      "source": [
        "def get_values(json):\n",
        "  try:\n",
        "    out = []\n",
        "    if len(json)>0:\n",
        "      for i in json:\n",
        "        out.append(i['name'])\n",
        "    return out\n",
        "  except:\n",
        "    return []\n",
        "ds['key_skills_list'] = ds['key_skills_json'].apply(get_values)"
      ],
      "metadata": {
        "id": "0LyHAHoWtgPK"
      },
      "execution_count": 43,
      "outputs": []
    },
    {
      "cell_type": "code",
      "source": [
        "ds['key_skills_list']"
      ],
      "metadata": {
        "colab": {
          "base_uri": "https://localhost:8080/"
        },
        "id": "v2C8dG5jtowI",
        "outputId": "a594a5b5-fade-4353-8839-3e8aa8bfc57b"
      },
      "execution_count": 44,
      "outputs": [
        {
          "output_type": "execute_result",
          "data": {
            "text/plain": [
              "0        []\n",
              "1        []\n",
              "2        []\n",
              "3        []\n",
              "4        []\n",
              "         ..\n",
              "69651    []\n",
              "69652    []\n",
              "69653    []\n",
              "69654    []\n",
              "69655    []\n",
              "Name: key_skills_list, Length: 69656, dtype: object"
            ]
          },
          "metadata": {},
          "execution_count": 44
        }
      ]
    },
    {
      "cell_type": "markdown",
      "source": [
        "Sort vacancies related to IT"
      ],
      "metadata": {
        "id": "zSINH45pelDL"
      }
    },
    {
      "cell_type": "code",
      "source": [
        "ds['specializations'][1]"
      ],
      "metadata": {
        "colab": {
          "base_uri": "https://localhost:8080/",
          "height": 70
        },
        "id": "O5mI62Ijdhwa",
        "outputId": "315e7d37-9bc2-4aae-91cf-aae2e0d648e6"
      },
      "execution_count": 45,
      "outputs": [
        {
          "output_type": "execute_result",
          "data": {
            "text/plain": [
              "\"[{'id': '1.221', 'name': 'Программирование, Разработка', 'profarea_id': '1', 'profarea_name': 'Информационные технологии, интернет, телеком'}, {'id': '1.82', 'name': 'Инженер', 'profarea_id': '1', 'profarea_name': 'Информационные технологии, интернет, телеком'}, {'id': '1.117', 'name': 'Тестирование', 'profarea_id': '1', 'profarea_name': 'Информационные технологии, интернет, телеком'}]\""
            ],
            "application/vnd.google.colaboratory.intrinsic+json": {
              "type": "string"
            }
          },
          "metadata": {},
          "execution_count": 45
        }
      ]
    },
    {
      "cell_type": "code",
      "source": [
        "specialization = 'Интернет'\n",
        "spec_list = 'Информационные технологии, Интернет'\n",
        "specialization in spec_list\n"
      ],
      "metadata": {
        "colab": {
          "base_uri": "https://localhost:8080/"
        },
        "id": "Q3nC4fh93RUt",
        "outputId": "b26a7bc8-c237-450e-8499-33924ed537a2"
      },
      "execution_count": 46,
      "outputs": [
        {
          "output_type": "execute_result",
          "data": {
            "text/plain": [
              "True"
            ]
          },
          "metadata": {},
          "execution_count": 46
        }
      ]
    },
    {
      "cell_type": "code",
      "source": [
        "def is_specialization_correct(spec_list):\n",
        "  return 'Информационные технологии' in spec_list"
      ],
      "metadata": {
        "id": "sgbeVEg_311e"
      },
      "execution_count": 47,
      "outputs": []
    },
    {
      "cell_type": "code",
      "source": [
        "filter = ds['specializations'].apply(is_specialization_correct)\n",
        "filter"
      ],
      "metadata": {
        "colab": {
          "base_uri": "https://localhost:8080/"
        },
        "id": "xZHDPu4W4NI1",
        "outputId": "22c08860-cfd4-408b-fedc-e6240a7bc07f"
      },
      "execution_count": 48,
      "outputs": [
        {
          "output_type": "execute_result",
          "data": {
            "text/plain": [
              "0        True\n",
              "1        True\n",
              "2        True\n",
              "3        True\n",
              "4        True\n",
              "         ... \n",
              "69651    True\n",
              "69652    True\n",
              "69653    True\n",
              "69654    True\n",
              "69655    True\n",
              "Name: specializations, Length: 69656, dtype: bool"
            ]
          },
          "metadata": {},
          "execution_count": 48
        }
      ]
    },
    {
      "cell_type": "code",
      "source": [
        "df = ds[filter]\n",
        "df"
      ],
      "metadata": {
        "colab": {
          "base_uri": "https://localhost:8080/",
          "height": 1000
        },
        "id": "I0YooNA94dTp",
        "outputId": "edb6f127-7f99-4b2f-caee-eafdb3e1e54c"
      },
      "execution_count": 49,
      "outputs": [
        {
          "output_type": "execute_result",
          "data": {
            "text/plain": [
              "       Unnamed: 0        id  premium  \\\n",
              "0               0  49059633      NaN   \n",
              "1               1  54653519      NaN   \n",
              "2               2  55116066      NaN   \n",
              "3               3  54031261      NaN   \n",
              "4               4  55243040      NaN   \n",
              "...           ...       ...      ...   \n",
              "69651         463  66113834      NaN   \n",
              "69652         464  66113885      NaN   \n",
              "69653         465  54749225      NaN   \n",
              "69654         466  55498724      NaN   \n",
              "69655         467  55544352      NaN   \n",
              "\n",
              "                                                    name  \\\n",
              "0                Младший специалист ручного тестирования   \n",
              "1                                        Тестировщик.Net   \n",
              "2                                              Пентестер   \n",
              "3       Ведущий Специалист по информационным технологиям   \n",
              "4                        Специалист по защите информации   \n",
              "...                                                  ...   \n",
              "69651                                   Программист Java   \n",
              "69652                                     Программист 1C   \n",
              "69653         Начальник отдела информационных технологий   \n",
              "69654            Технический директор (DevOps, технолог)   \n",
              "69655  Начальник отдела по защите информации и информ...   \n",
              "\n",
              "                                              department  has_test  \\\n",
              "0                                                    NaN       NaN   \n",
              "1                                                    NaN       NaN   \n",
              "2                                                    NaN       NaN   \n",
              "3      {'id': 'pochta-4352-office', 'name': '«Почта Р...       NaN   \n",
              "4                                                    NaN       NaN   \n",
              "...                                                  ...       ...   \n",
              "69651                                                NaN       NaN   \n",
              "69652                                                NaN       NaN   \n",
              "69653                                                NaN       NaN   \n",
              "69654                                                NaN       NaN   \n",
              "69655                                                NaN       NaN   \n",
              "\n",
              "       response_letter_required  \\\n",
              "0                           NaN   \n",
              "1                           NaN   \n",
              "2                           NaN   \n",
              "3                           NaN   \n",
              "4                           NaN   \n",
              "...                         ...   \n",
              "69651                       NaN   \n",
              "69652                       NaN   \n",
              "69653                       NaN   \n",
              "69654                       NaN   \n",
              "69655                       NaN   \n",
              "\n",
              "                                                    area  \\\n",
              "0      {'id': '15', 'name': 'Астрахань', 'url': 'http...   \n",
              "1      {'id': '15', 'name': 'Астрахань', 'url': 'http...   \n",
              "2      {'id': '15', 'name': 'Астрахань', 'url': 'http...   \n",
              "3      {'id': '15', 'name': 'Астрахань', 'url': 'http...   \n",
              "4      {'id': '15', 'name': 'Астрахань', 'url': 'http...   \n",
              "...                                                  ...   \n",
              "69651  {'id': '92', 'name': 'Тула', 'url': 'https://a...   \n",
              "69652  {'id': '92', 'name': 'Тула', 'url': 'https://a...   \n",
              "69653  {'id': '92', 'name': 'Тула', 'url': 'https://a...   \n",
              "69654  {'id': '92', 'name': 'Тула', 'url': 'https://a...   \n",
              "69655  {'id': '92', 'name': 'Тула', 'url': 'https://a...   \n",
              "\n",
              "                                                  salary  \\\n",
              "0                                                    NaN   \n",
              "1      {'from': 25000, 'to': 50000, 'currency': 'RUR'...   \n",
              "2                                                    NaN   \n",
              "3      {'from': 26000, 'to': None, 'currency': 'RUR',...   \n",
              "4      {'from': 20000, 'to': 20000, 'currency': 'RUR'...   \n",
              "...                                                  ...   \n",
              "69651                                                NaN   \n",
              "69652  {'from': 130000, 'to': None, 'currency': 'RUR'...   \n",
              "69653  {'from': 50000, 'to': None, 'currency': 'RUR',...   \n",
              "69654  {'from': 85000, 'to': None, 'currency': 'RUR',...   \n",
              "69655                                                NaN   \n",
              "\n",
              "                                     type  ...  \\\n",
              "0      {'id': 'open', 'name': 'Открытая'}  ...   \n",
              "1      {'id': 'open', 'name': 'Открытая'}  ...   \n",
              "2      {'id': 'open', 'name': 'Открытая'}  ...   \n",
              "3      {'id': 'open', 'name': 'Открытая'}  ...   \n",
              "4      {'id': 'open', 'name': 'Открытая'}  ...   \n",
              "...                                   ...  ...   \n",
              "69651  {'id': 'open', 'name': 'Открытая'}  ...   \n",
              "69652  {'id': 'open', 'name': 'Открытая'}  ...   \n",
              "69653  {'id': 'open', 'name': 'Открытая'}  ...   \n",
              "69654  {'id': 'open', 'name': 'Открытая'}  ...   \n",
              "69655  {'id': 'open', 'name': 'Открытая'}  ...   \n",
              "\n",
              "                                              experience  \\\n",
              "0            {'id': 'noExperience', 'name': 'Нет опыта'}   \n",
              "1      {'id': 'between1And3', 'name': 'От 1 года до 3...   \n",
              "2        {'id': 'between3And6', 'name': 'От 3 до 6 лет'}   \n",
              "3            {'id': 'noExperience', 'name': 'Нет опыта'}   \n",
              "4            {'id': 'noExperience', 'name': 'Нет опыта'}   \n",
              "...                                                  ...   \n",
              "69651    {'id': 'between3And6', 'name': 'От 3 до 6 лет'}   \n",
              "69652  {'id': 'between1And3', 'name': 'От 1 года до 3...   \n",
              "69653  {'id': 'between1And3', 'name': 'От 1 года до 3...   \n",
              "69654    {'id': 'between3And6', 'name': 'От 3 до 6 лет'}   \n",
              "69655         {'id': 'moreThan6', 'name': 'Более 6 лет'}   \n",
              "\n",
              "                                              key_skills  \\\n",
              "0                                                     []   \n",
              "1      [{'name': 'Git'}, {'name': 'SQL'}, {'name': 'Т...   \n",
              "2      [{'name': 'SQL'}, {'name': 'Linux'}, {'name': ...   \n",
              "3      [{'name': 'Пользователь ПК'}, {'name': 'Работа...   \n",
              "4      [{'name': 'MS Dos'}, {'name': 'Диагностика ПК'...   \n",
              "...                                                  ...   \n",
              "69651                                                 []   \n",
              "69652  [{'name': '1С: Управление Торговлей'}, {'name'...   \n",
              "69653  [{'name': 'Организаторские навыки'}, {'name': ...   \n",
              "69654                                                 []   \n",
              "69655  [{'name': 'Информационная безопасность'}, {'na...   \n",
              "\n",
              "                                         specializations  \\\n",
              "0      [{'id': '1.172', 'name': 'Начальный уровень, М...   \n",
              "1      [{'id': '1.221', 'name': 'Программирование, Ра...   \n",
              "2      [{'id': '1.221', 'name': 'Программирование, Ра...   \n",
              "3      [{'id': '1.110', 'name': 'Компьютерная безопас...   \n",
              "4      [{'id': '1.110', 'name': 'Компьютерная безопас...   \n",
              "...                                                  ...   \n",
              "69651  [{'id': '1.221', 'name': 'Программирование, Ра...   \n",
              "69652  [{'id': '1.221', 'name': 'Программирование, Ра...   \n",
              "69653  [{'id': '9.94', 'name': 'Информационные технол...   \n",
              "69654  [{'id': '9.94', 'name': 'Информационные технол...   \n",
              "69655  [{'id': '9.94', 'name': 'Информационные технол...   \n",
              "\n",
              "                     region immediate_redirect_url  salary_from currency  \\\n",
              "0      Астраханская область                    NaN         <NA>      NaN   \n",
              "1      Астраханская область                    NaN        25000      RUR   \n",
              "2      Астраханская область                    NaN         <NA>      NaN   \n",
              "3      Астраханская область                    NaN        26000      RUR   \n",
              "4      Астраханская область                    NaN        20000      RUR   \n",
              "...                     ...                    ...          ...      ...   \n",
              "69651      Тульская область                    NaN         <NA>      NaN   \n",
              "69652      Тульская область                    NaN       130000      RUR   \n",
              "69653      Тульская область                    NaN        50000      RUR   \n",
              "69654      Тульская область                    NaN        85000      RUR   \n",
              "69655      Тульская область                    NaN         <NA>      NaN   \n",
              "\n",
              "      converted_salary key_skills_json key_skills_list  \n",
              "0                 <NA>              []              []  \n",
              "1                25000              []              []  \n",
              "2                 <NA>              []              []  \n",
              "3                26000              []              []  \n",
              "4                20000              []              []  \n",
              "...                ...             ...             ...  \n",
              "69651             <NA>              []              []  \n",
              "69652           130000              []              []  \n",
              "69653            50000              []              []  \n",
              "69654            85000              []              []  \n",
              "69655             <NA>              []              []  \n",
              "\n",
              "[50397 rows x 39 columns]"
            ],
            "text/html": [
              "\n",
              "  <div id=\"df-f4ccaf62-6096-4dae-b721-8171020ddfb3\" class=\"colab-df-container\">\n",
              "    <div>\n",
              "<style scoped>\n",
              "    .dataframe tbody tr th:only-of-type {\n",
              "        vertical-align: middle;\n",
              "    }\n",
              "\n",
              "    .dataframe tbody tr th {\n",
              "        vertical-align: top;\n",
              "    }\n",
              "\n",
              "    .dataframe thead th {\n",
              "        text-align: right;\n",
              "    }\n",
              "</style>\n",
              "<table border=\"1\" class=\"dataframe\">\n",
              "  <thead>\n",
              "    <tr style=\"text-align: right;\">\n",
              "      <th></th>\n",
              "      <th>Unnamed: 0</th>\n",
              "      <th>id</th>\n",
              "      <th>premium</th>\n",
              "      <th>name</th>\n",
              "      <th>department</th>\n",
              "      <th>has_test</th>\n",
              "      <th>response_letter_required</th>\n",
              "      <th>area</th>\n",
              "      <th>salary</th>\n",
              "      <th>type</th>\n",
              "      <th>...</th>\n",
              "      <th>experience</th>\n",
              "      <th>key_skills</th>\n",
              "      <th>specializations</th>\n",
              "      <th>region</th>\n",
              "      <th>immediate_redirect_url</th>\n",
              "      <th>salary_from</th>\n",
              "      <th>currency</th>\n",
              "      <th>converted_salary</th>\n",
              "      <th>key_skills_json</th>\n",
              "      <th>key_skills_list</th>\n",
              "    </tr>\n",
              "  </thead>\n",
              "  <tbody>\n",
              "    <tr>\n",
              "      <th>0</th>\n",
              "      <td>0</td>\n",
              "      <td>49059633</td>\n",
              "      <td>NaN</td>\n",
              "      <td>Младший специалист ручного тестирования</td>\n",
              "      <td>NaN</td>\n",
              "      <td>NaN</td>\n",
              "      <td>NaN</td>\n",
              "      <td>{'id': '15', 'name': 'Астрахань', 'url': 'http...</td>\n",
              "      <td>NaN</td>\n",
              "      <td>{'id': 'open', 'name': 'Открытая'}</td>\n",
              "      <td>...</td>\n",
              "      <td>{'id': 'noExperience', 'name': 'Нет опыта'}</td>\n",
              "      <td>[]</td>\n",
              "      <td>[{'id': '1.172', 'name': 'Начальный уровень, М...</td>\n",
              "      <td>Астраханская область</td>\n",
              "      <td>NaN</td>\n",
              "      <td>&lt;NA&gt;</td>\n",
              "      <td>NaN</td>\n",
              "      <td>&lt;NA&gt;</td>\n",
              "      <td>[]</td>\n",
              "      <td>[]</td>\n",
              "    </tr>\n",
              "    <tr>\n",
              "      <th>1</th>\n",
              "      <td>1</td>\n",
              "      <td>54653519</td>\n",
              "      <td>NaN</td>\n",
              "      <td>Тестировщик.Net</td>\n",
              "      <td>NaN</td>\n",
              "      <td>NaN</td>\n",
              "      <td>NaN</td>\n",
              "      <td>{'id': '15', 'name': 'Астрахань', 'url': 'http...</td>\n",
              "      <td>{'from': 25000, 'to': 50000, 'currency': 'RUR'...</td>\n",
              "      <td>{'id': 'open', 'name': 'Открытая'}</td>\n",
              "      <td>...</td>\n",
              "      <td>{'id': 'between1And3', 'name': 'От 1 года до 3...</td>\n",
              "      <td>[{'name': 'Git'}, {'name': 'SQL'}, {'name': 'Т...</td>\n",
              "      <td>[{'id': '1.221', 'name': 'Программирование, Ра...</td>\n",
              "      <td>Астраханская область</td>\n",
              "      <td>NaN</td>\n",
              "      <td>25000</td>\n",
              "      <td>RUR</td>\n",
              "      <td>25000</td>\n",
              "      <td>[]</td>\n",
              "      <td>[]</td>\n",
              "    </tr>\n",
              "    <tr>\n",
              "      <th>2</th>\n",
              "      <td>2</td>\n",
              "      <td>55116066</td>\n",
              "      <td>NaN</td>\n",
              "      <td>Пентестер</td>\n",
              "      <td>NaN</td>\n",
              "      <td>NaN</td>\n",
              "      <td>NaN</td>\n",
              "      <td>{'id': '15', 'name': 'Астрахань', 'url': 'http...</td>\n",
              "      <td>NaN</td>\n",
              "      <td>{'id': 'open', 'name': 'Открытая'}</td>\n",
              "      <td>...</td>\n",
              "      <td>{'id': 'between3And6', 'name': 'От 3 до 6 лет'}</td>\n",
              "      <td>[{'name': 'SQL'}, {'name': 'Linux'}, {'name': ...</td>\n",
              "      <td>[{'id': '1.221', 'name': 'Программирование, Ра...</td>\n",
              "      <td>Астраханская область</td>\n",
              "      <td>NaN</td>\n",
              "      <td>&lt;NA&gt;</td>\n",
              "      <td>NaN</td>\n",
              "      <td>&lt;NA&gt;</td>\n",
              "      <td>[]</td>\n",
              "      <td>[]</td>\n",
              "    </tr>\n",
              "    <tr>\n",
              "      <th>3</th>\n",
              "      <td>3</td>\n",
              "      <td>54031261</td>\n",
              "      <td>NaN</td>\n",
              "      <td>Ведущий Специалист по информационным технологиям</td>\n",
              "      <td>{'id': 'pochta-4352-office', 'name': '«Почта Р...</td>\n",
              "      <td>NaN</td>\n",
              "      <td>NaN</td>\n",
              "      <td>{'id': '15', 'name': 'Астрахань', 'url': 'http...</td>\n",
              "      <td>{'from': 26000, 'to': None, 'currency': 'RUR',...</td>\n",
              "      <td>{'id': 'open', 'name': 'Открытая'}</td>\n",
              "      <td>...</td>\n",
              "      <td>{'id': 'noExperience', 'name': 'Нет опыта'}</td>\n",
              "      <td>[{'name': 'Пользователь ПК'}, {'name': 'Работа...</td>\n",
              "      <td>[{'id': '1.110', 'name': 'Компьютерная безопас...</td>\n",
              "      <td>Астраханская область</td>\n",
              "      <td>NaN</td>\n",
              "      <td>26000</td>\n",
              "      <td>RUR</td>\n",
              "      <td>26000</td>\n",
              "      <td>[]</td>\n",
              "      <td>[]</td>\n",
              "    </tr>\n",
              "    <tr>\n",
              "      <th>4</th>\n",
              "      <td>4</td>\n",
              "      <td>55243040</td>\n",
              "      <td>NaN</td>\n",
              "      <td>Специалист по защите информации</td>\n",
              "      <td>NaN</td>\n",
              "      <td>NaN</td>\n",
              "      <td>NaN</td>\n",
              "      <td>{'id': '15', 'name': 'Астрахань', 'url': 'http...</td>\n",
              "      <td>{'from': 20000, 'to': 20000, 'currency': 'RUR'...</td>\n",
              "      <td>{'id': 'open', 'name': 'Открытая'}</td>\n",
              "      <td>...</td>\n",
              "      <td>{'id': 'noExperience', 'name': 'Нет опыта'}</td>\n",
              "      <td>[{'name': 'MS Dos'}, {'name': 'Диагностика ПК'...</td>\n",
              "      <td>[{'id': '1.110', 'name': 'Компьютерная безопас...</td>\n",
              "      <td>Астраханская область</td>\n",
              "      <td>NaN</td>\n",
              "      <td>20000</td>\n",
              "      <td>RUR</td>\n",
              "      <td>20000</td>\n",
              "      <td>[]</td>\n",
              "      <td>[]</td>\n",
              "    </tr>\n",
              "    <tr>\n",
              "      <th>...</th>\n",
              "      <td>...</td>\n",
              "      <td>...</td>\n",
              "      <td>...</td>\n",
              "      <td>...</td>\n",
              "      <td>...</td>\n",
              "      <td>...</td>\n",
              "      <td>...</td>\n",
              "      <td>...</td>\n",
              "      <td>...</td>\n",
              "      <td>...</td>\n",
              "      <td>...</td>\n",
              "      <td>...</td>\n",
              "      <td>...</td>\n",
              "      <td>...</td>\n",
              "      <td>...</td>\n",
              "      <td>...</td>\n",
              "      <td>...</td>\n",
              "      <td>...</td>\n",
              "      <td>...</td>\n",
              "      <td>...</td>\n",
              "      <td>...</td>\n",
              "    </tr>\n",
              "    <tr>\n",
              "      <th>69651</th>\n",
              "      <td>463</td>\n",
              "      <td>66113834</td>\n",
              "      <td>NaN</td>\n",
              "      <td>Программист Java</td>\n",
              "      <td>NaN</td>\n",
              "      <td>NaN</td>\n",
              "      <td>NaN</td>\n",
              "      <td>{'id': '92', 'name': 'Тула', 'url': 'https://a...</td>\n",
              "      <td>NaN</td>\n",
              "      <td>{'id': 'open', 'name': 'Открытая'}</td>\n",
              "      <td>...</td>\n",
              "      <td>{'id': 'between3And6', 'name': 'От 3 до 6 лет'}</td>\n",
              "      <td>[]</td>\n",
              "      <td>[{'id': '1.221', 'name': 'Программирование, Ра...</td>\n",
              "      <td>Тульская область</td>\n",
              "      <td>NaN</td>\n",
              "      <td>&lt;NA&gt;</td>\n",
              "      <td>NaN</td>\n",
              "      <td>&lt;NA&gt;</td>\n",
              "      <td>[]</td>\n",
              "      <td>[]</td>\n",
              "    </tr>\n",
              "    <tr>\n",
              "      <th>69652</th>\n",
              "      <td>464</td>\n",
              "      <td>66113885</td>\n",
              "      <td>NaN</td>\n",
              "      <td>Программист 1C</td>\n",
              "      <td>NaN</td>\n",
              "      <td>NaN</td>\n",
              "      <td>NaN</td>\n",
              "      <td>{'id': '92', 'name': 'Тула', 'url': 'https://a...</td>\n",
              "      <td>{'from': 130000, 'to': None, 'currency': 'RUR'...</td>\n",
              "      <td>{'id': 'open', 'name': 'Открытая'}</td>\n",
              "      <td>...</td>\n",
              "      <td>{'id': 'between1And3', 'name': 'От 1 года до 3...</td>\n",
              "      <td>[{'name': '1С: Управление Торговлей'}, {'name'...</td>\n",
              "      <td>[{'id': '1.221', 'name': 'Программирование, Ра...</td>\n",
              "      <td>Тульская область</td>\n",
              "      <td>NaN</td>\n",
              "      <td>130000</td>\n",
              "      <td>RUR</td>\n",
              "      <td>130000</td>\n",
              "      <td>[]</td>\n",
              "      <td>[]</td>\n",
              "    </tr>\n",
              "    <tr>\n",
              "      <th>69653</th>\n",
              "      <td>465</td>\n",
              "      <td>54749225</td>\n",
              "      <td>NaN</td>\n",
              "      <td>Начальник отдела информационных технологий</td>\n",
              "      <td>NaN</td>\n",
              "      <td>NaN</td>\n",
              "      <td>NaN</td>\n",
              "      <td>{'id': '92', 'name': 'Тула', 'url': 'https://a...</td>\n",
              "      <td>{'from': 50000, 'to': None, 'currency': 'RUR',...</td>\n",
              "      <td>{'id': 'open', 'name': 'Открытая'}</td>\n",
              "      <td>...</td>\n",
              "      <td>{'id': 'between1And3', 'name': 'От 1 года до 3...</td>\n",
              "      <td>[{'name': 'Организаторские навыки'}, {'name': ...</td>\n",
              "      <td>[{'id': '9.94', 'name': 'Информационные технол...</td>\n",
              "      <td>Тульская область</td>\n",
              "      <td>NaN</td>\n",
              "      <td>50000</td>\n",
              "      <td>RUR</td>\n",
              "      <td>50000</td>\n",
              "      <td>[]</td>\n",
              "      <td>[]</td>\n",
              "    </tr>\n",
              "    <tr>\n",
              "      <th>69654</th>\n",
              "      <td>466</td>\n",
              "      <td>55498724</td>\n",
              "      <td>NaN</td>\n",
              "      <td>Технический директор (DevOps, технолог)</td>\n",
              "      <td>NaN</td>\n",
              "      <td>NaN</td>\n",
              "      <td>NaN</td>\n",
              "      <td>{'id': '92', 'name': 'Тула', 'url': 'https://a...</td>\n",
              "      <td>{'from': 85000, 'to': None, 'currency': 'RUR',...</td>\n",
              "      <td>{'id': 'open', 'name': 'Открытая'}</td>\n",
              "      <td>...</td>\n",
              "      <td>{'id': 'between3And6', 'name': 'От 3 до 6 лет'}</td>\n",
              "      <td>[]</td>\n",
              "      <td>[{'id': '9.94', 'name': 'Информационные технол...</td>\n",
              "      <td>Тульская область</td>\n",
              "      <td>NaN</td>\n",
              "      <td>85000</td>\n",
              "      <td>RUR</td>\n",
              "      <td>85000</td>\n",
              "      <td>[]</td>\n",
              "      <td>[]</td>\n",
              "    </tr>\n",
              "    <tr>\n",
              "      <th>69655</th>\n",
              "      <td>467</td>\n",
              "      <td>55544352</td>\n",
              "      <td>NaN</td>\n",
              "      <td>Начальник отдела по защите информации и информ...</td>\n",
              "      <td>NaN</td>\n",
              "      <td>NaN</td>\n",
              "      <td>NaN</td>\n",
              "      <td>{'id': '92', 'name': 'Тула', 'url': 'https://a...</td>\n",
              "      <td>NaN</td>\n",
              "      <td>{'id': 'open', 'name': 'Открытая'}</td>\n",
              "      <td>...</td>\n",
              "      <td>{'id': 'moreThan6', 'name': 'Более 6 лет'}</td>\n",
              "      <td>[{'name': 'Информационная безопасность'}, {'na...</td>\n",
              "      <td>[{'id': '9.94', 'name': 'Информационные технол...</td>\n",
              "      <td>Тульская область</td>\n",
              "      <td>NaN</td>\n",
              "      <td>&lt;NA&gt;</td>\n",
              "      <td>NaN</td>\n",
              "      <td>&lt;NA&gt;</td>\n",
              "      <td>[]</td>\n",
              "      <td>[]</td>\n",
              "    </tr>\n",
              "  </tbody>\n",
              "</table>\n",
              "<p>50397 rows × 39 columns</p>\n",
              "</div>\n",
              "    <div class=\"colab-df-buttons\">\n",
              "\n",
              "  <div class=\"colab-df-container\">\n",
              "    <button class=\"colab-df-convert\" onclick=\"convertToInteractive('df-f4ccaf62-6096-4dae-b721-8171020ddfb3')\"\n",
              "            title=\"Convert this dataframe to an interactive table.\"\n",
              "            style=\"display:none;\">\n",
              "\n",
              "  <svg xmlns=\"http://www.w3.org/2000/svg\" height=\"24px\" viewBox=\"0 -960 960 960\">\n",
              "    <path d=\"M120-120v-720h720v720H120Zm60-500h600v-160H180v160Zm220 220h160v-160H400v160Zm0 220h160v-160H400v160ZM180-400h160v-160H180v160Zm440 0h160v-160H620v160ZM180-180h160v-160H180v160Zm440 0h160v-160H620v160Z\"/>\n",
              "  </svg>\n",
              "    </button>\n",
              "\n",
              "  <style>\n",
              "    .colab-df-container {\n",
              "      display:flex;\n",
              "      gap: 12px;\n",
              "    }\n",
              "\n",
              "    .colab-df-convert {\n",
              "      background-color: #E8F0FE;\n",
              "      border: none;\n",
              "      border-radius: 50%;\n",
              "      cursor: pointer;\n",
              "      display: none;\n",
              "      fill: #1967D2;\n",
              "      height: 32px;\n",
              "      padding: 0 0 0 0;\n",
              "      width: 32px;\n",
              "    }\n",
              "\n",
              "    .colab-df-convert:hover {\n",
              "      background-color: #E2EBFA;\n",
              "      box-shadow: 0px 1px 2px rgba(60, 64, 67, 0.3), 0px 1px 3px 1px rgba(60, 64, 67, 0.15);\n",
              "      fill: #174EA6;\n",
              "    }\n",
              "\n",
              "    .colab-df-buttons div {\n",
              "      margin-bottom: 4px;\n",
              "    }\n",
              "\n",
              "    [theme=dark] .colab-df-convert {\n",
              "      background-color: #3B4455;\n",
              "      fill: #D2E3FC;\n",
              "    }\n",
              "\n",
              "    [theme=dark] .colab-df-convert:hover {\n",
              "      background-color: #434B5C;\n",
              "      box-shadow: 0px 1px 3px 1px rgba(0, 0, 0, 0.15);\n",
              "      filter: drop-shadow(0px 1px 2px rgba(0, 0, 0, 0.3));\n",
              "      fill: #FFFFFF;\n",
              "    }\n",
              "  </style>\n",
              "\n",
              "    <script>\n",
              "      const buttonEl =\n",
              "        document.querySelector('#df-f4ccaf62-6096-4dae-b721-8171020ddfb3 button.colab-df-convert');\n",
              "      buttonEl.style.display =\n",
              "        google.colab.kernel.accessAllowed ? 'block' : 'none';\n",
              "\n",
              "      async function convertToInteractive(key) {\n",
              "        const element = document.querySelector('#df-f4ccaf62-6096-4dae-b721-8171020ddfb3');\n",
              "        const dataTable =\n",
              "          await google.colab.kernel.invokeFunction('convertToInteractive',\n",
              "                                                    [key], {});\n",
              "        if (!dataTable) return;\n",
              "\n",
              "        const docLinkHtml = 'Like what you see? Visit the ' +\n",
              "          '<a target=\"_blank\" href=https://colab.research.google.com/notebooks/data_table.ipynb>data table notebook</a>'\n",
              "          + ' to learn more about interactive tables.';\n",
              "        element.innerHTML = '';\n",
              "        dataTable['output_type'] = 'display_data';\n",
              "        await google.colab.output.renderOutput(dataTable, element);\n",
              "        const docLink = document.createElement('div');\n",
              "        docLink.innerHTML = docLinkHtml;\n",
              "        element.appendChild(docLink);\n",
              "      }\n",
              "    </script>\n",
              "  </div>\n",
              "\n",
              "\n",
              "<div id=\"df-38124b2a-eab4-497a-b4f2-9da4f5e94647\">\n",
              "  <button class=\"colab-df-quickchart\" onclick=\"quickchart('df-38124b2a-eab4-497a-b4f2-9da4f5e94647')\"\n",
              "            title=\"Suggest charts\"\n",
              "            style=\"display:none;\">\n",
              "\n",
              "<svg xmlns=\"http://www.w3.org/2000/svg\" height=\"24px\"viewBox=\"0 0 24 24\"\n",
              "     width=\"24px\">\n",
              "    <g>\n",
              "        <path d=\"M19 3H5c-1.1 0-2 .9-2 2v14c0 1.1.9 2 2 2h14c1.1 0 2-.9 2-2V5c0-1.1-.9-2-2-2zM9 17H7v-7h2v7zm4 0h-2V7h2v10zm4 0h-2v-4h2v4z\"/>\n",
              "    </g>\n",
              "</svg>\n",
              "  </button>\n",
              "\n",
              "<style>\n",
              "  .colab-df-quickchart {\n",
              "      --bg-color: #E8F0FE;\n",
              "      --fill-color: #1967D2;\n",
              "      --hover-bg-color: #E2EBFA;\n",
              "      --hover-fill-color: #174EA6;\n",
              "      --disabled-fill-color: #AAA;\n",
              "      --disabled-bg-color: #DDD;\n",
              "  }\n",
              "\n",
              "  [theme=dark] .colab-df-quickchart {\n",
              "      --bg-color: #3B4455;\n",
              "      --fill-color: #D2E3FC;\n",
              "      --hover-bg-color: #434B5C;\n",
              "      --hover-fill-color: #FFFFFF;\n",
              "      --disabled-bg-color: #3B4455;\n",
              "      --disabled-fill-color: #666;\n",
              "  }\n",
              "\n",
              "  .colab-df-quickchart {\n",
              "    background-color: var(--bg-color);\n",
              "    border: none;\n",
              "    border-radius: 50%;\n",
              "    cursor: pointer;\n",
              "    display: none;\n",
              "    fill: var(--fill-color);\n",
              "    height: 32px;\n",
              "    padding: 0;\n",
              "    width: 32px;\n",
              "  }\n",
              "\n",
              "  .colab-df-quickchart:hover {\n",
              "    background-color: var(--hover-bg-color);\n",
              "    box-shadow: 0 1px 2px rgba(60, 64, 67, 0.3), 0 1px 3px 1px rgba(60, 64, 67, 0.15);\n",
              "    fill: var(--button-hover-fill-color);\n",
              "  }\n",
              "\n",
              "  .colab-df-quickchart-complete:disabled,\n",
              "  .colab-df-quickchart-complete:disabled:hover {\n",
              "    background-color: var(--disabled-bg-color);\n",
              "    fill: var(--disabled-fill-color);\n",
              "    box-shadow: none;\n",
              "  }\n",
              "\n",
              "  .colab-df-spinner {\n",
              "    border: 2px solid var(--fill-color);\n",
              "    border-color: transparent;\n",
              "    border-bottom-color: var(--fill-color);\n",
              "    animation:\n",
              "      spin 1s steps(1) infinite;\n",
              "  }\n",
              "\n",
              "  @keyframes spin {\n",
              "    0% {\n",
              "      border-color: transparent;\n",
              "      border-bottom-color: var(--fill-color);\n",
              "      border-left-color: var(--fill-color);\n",
              "    }\n",
              "    20% {\n",
              "      border-color: transparent;\n",
              "      border-left-color: var(--fill-color);\n",
              "      border-top-color: var(--fill-color);\n",
              "    }\n",
              "    30% {\n",
              "      border-color: transparent;\n",
              "      border-left-color: var(--fill-color);\n",
              "      border-top-color: var(--fill-color);\n",
              "      border-right-color: var(--fill-color);\n",
              "    }\n",
              "    40% {\n",
              "      border-color: transparent;\n",
              "      border-right-color: var(--fill-color);\n",
              "      border-top-color: var(--fill-color);\n",
              "    }\n",
              "    60% {\n",
              "      border-color: transparent;\n",
              "      border-right-color: var(--fill-color);\n",
              "    }\n",
              "    80% {\n",
              "      border-color: transparent;\n",
              "      border-right-color: var(--fill-color);\n",
              "      border-bottom-color: var(--fill-color);\n",
              "    }\n",
              "    90% {\n",
              "      border-color: transparent;\n",
              "      border-bottom-color: var(--fill-color);\n",
              "    }\n",
              "  }\n",
              "</style>\n",
              "\n",
              "  <script>\n",
              "    async function quickchart(key) {\n",
              "      const quickchartButtonEl =\n",
              "        document.querySelector('#' + key + ' button');\n",
              "      quickchartButtonEl.disabled = true;  // To prevent multiple clicks.\n",
              "      quickchartButtonEl.classList.add('colab-df-spinner');\n",
              "      try {\n",
              "        const charts = await google.colab.kernel.invokeFunction(\n",
              "            'suggestCharts', [key], {});\n",
              "      } catch (error) {\n",
              "        console.error('Error during call to suggestCharts:', error);\n",
              "      }\n",
              "      quickchartButtonEl.classList.remove('colab-df-spinner');\n",
              "      quickchartButtonEl.classList.add('colab-df-quickchart-complete');\n",
              "    }\n",
              "    (() => {\n",
              "      let quickchartButtonEl =\n",
              "        document.querySelector('#df-38124b2a-eab4-497a-b4f2-9da4f5e94647 button');\n",
              "      quickchartButtonEl.style.display =\n",
              "        google.colab.kernel.accessAllowed ? 'block' : 'none';\n",
              "    })();\n",
              "  </script>\n",
              "</div>\n",
              "\n",
              "  <div id=\"id_51f92e75-5bee-4157-8f70-5aaba69e9e12\">\n",
              "    <style>\n",
              "      .colab-df-generate {\n",
              "        background-color: #E8F0FE;\n",
              "        border: none;\n",
              "        border-radius: 50%;\n",
              "        cursor: pointer;\n",
              "        display: none;\n",
              "        fill: #1967D2;\n",
              "        height: 32px;\n",
              "        padding: 0 0 0 0;\n",
              "        width: 32px;\n",
              "      }\n",
              "\n",
              "      .colab-df-generate:hover {\n",
              "        background-color: #E2EBFA;\n",
              "        box-shadow: 0px 1px 2px rgba(60, 64, 67, 0.3), 0px 1px 3px 1px rgba(60, 64, 67, 0.15);\n",
              "        fill: #174EA6;\n",
              "      }\n",
              "\n",
              "      [theme=dark] .colab-df-generate {\n",
              "        background-color: #3B4455;\n",
              "        fill: #D2E3FC;\n",
              "      }\n",
              "\n",
              "      [theme=dark] .colab-df-generate:hover {\n",
              "        background-color: #434B5C;\n",
              "        box-shadow: 0px 1px 3px 1px rgba(0, 0, 0, 0.15);\n",
              "        filter: drop-shadow(0px 1px 2px rgba(0, 0, 0, 0.3));\n",
              "        fill: #FFFFFF;\n",
              "      }\n",
              "    </style>\n",
              "    <button class=\"colab-df-generate\" onclick=\"generateWithVariable('df')\"\n",
              "            title=\"Generate code using this dataframe.\"\n",
              "            style=\"display:none;\">\n",
              "\n",
              "  <svg xmlns=\"http://www.w3.org/2000/svg\" height=\"24px\"viewBox=\"0 0 24 24\"\n",
              "       width=\"24px\">\n",
              "    <path d=\"M7,19H8.4L18.45,9,17,7.55,7,17.6ZM5,21V16.75L18.45,3.32a2,2,0,0,1,2.83,0l1.4,1.43a1.91,1.91,0,0,1,.58,1.4,1.91,1.91,0,0,1-.58,1.4L9.25,21ZM18.45,9,17,7.55Zm-12,3A5.31,5.31,0,0,0,4.9,8.1,5.31,5.31,0,0,0,1,6.5,5.31,5.31,0,0,0,4.9,4.9,5.31,5.31,0,0,0,6.5,1,5.31,5.31,0,0,0,8.1,4.9,5.31,5.31,0,0,0,12,6.5,5.46,5.46,0,0,0,6.5,12Z\"/>\n",
              "  </svg>\n",
              "    </button>\n",
              "    <script>\n",
              "      (() => {\n",
              "      const buttonEl =\n",
              "        document.querySelector('#id_51f92e75-5bee-4157-8f70-5aaba69e9e12 button.colab-df-generate');\n",
              "      buttonEl.style.display =\n",
              "        google.colab.kernel.accessAllowed ? 'block' : 'none';\n",
              "\n",
              "      buttonEl.onclick = () => {\n",
              "        google.colab.notebook.generateWithVariable('df');\n",
              "      }\n",
              "      })();\n",
              "    </script>\n",
              "  </div>\n",
              "\n",
              "    </div>\n",
              "  </div>\n"
            ]
          },
          "metadata": {},
          "execution_count": 49
        }
      ]
    },
    {
      "cell_type": "code",
      "source": [
        "vacancy_count = df['name'].value_counts()\n",
        "vacancy_count[:50]"
      ],
      "metadata": {
        "colab": {
          "base_uri": "https://localhost:8080/"
        },
        "id": "l3ukJPc6g4Ml",
        "outputId": "3777860c-d63f-4062-803f-ba4f2df317c3"
      },
      "execution_count": 50,
      "outputs": [
        {
          "output_type": "execute_result",
          "data": {
            "text/plain": [
              "Системный администратор                                                   1657\n",
              "Программист 1С                                                            1122\n",
              "Специалист технической поддержки                                           480\n",
              "Системный аналитик                                                         466\n",
              "Аналитик                                                                   343\n",
              "Инженер-программист                                                        328\n",
              "Программист 1C                                                             325\n",
              "Графический дизайнер                                                       314\n",
              "Инженер технической поддержки                                              273\n",
              "Бизнес-аналитик                                                            268\n",
              "Дизайнер                                                                   252\n",
              "Технический писатель                                                       214\n",
              "Руководитель проекта                                                       212\n",
              "Специалист по информационной безопасности                                  185\n",
              "Frontend-разработчик                                                       184\n",
              "DevOps инженер                                                             181\n",
              "Программист                                                                181\n",
              "Специалист службы поддержки в Яндекс Бизнес                                168\n",
              "Менеджер проектов                                                          163\n",
              "Руководитель проектов                                                      162\n",
              "Младший специалист ручного тестирования                                    159\n",
              "Java-разработчик                                                           143\n",
              "Специалист службы поддержки Рекламной сети Яндекса и ADFOX                 141\n",
              "Ведущий системный администратор                                            132\n",
              "Специалист службы поддержки пользователей                                  121\n",
              "PHP-разработчик                                                            116\n",
              "Сетевой инженер                                                            111\n",
              "Ведущий программист 1C                                                     109\n",
              "Менеджер проекта                                                           106\n",
              "Аналитик 1С                                                                105\n",
              "Системный администратор Linux                                              104\n",
              "Технический писатель (дистанционный автор)                                 100\n",
              "Сотрудник поддержки поиска Яндекса                                         100\n",
              "Ведущий программист 1С                                                      99\n",
              "Разработчик 1С                                                              98\n",
              "Специалист поддержки в Yandex Cloud                                         94\n",
              "Специалист службы поддержки с техническими знаниями (Умные устройства)      92\n",
              "Ведущий инженер-программист                                                 83\n",
              "Системный инженер                                                           77\n",
              "Маркетолог-аналитик                                                         77\n",
              "Консультант 1С                                                              77\n",
              "QA Engineer                                                                 76\n",
              "Специалист службы поддержки с техническими знаниями в Диск                  72\n",
              "Компьютерный Мастер                                                         70\n",
              "IOS разработчик                                                             70\n",
              "Продакт-менеджер                                                            69\n",
              "DevOps Engineer                                                             68\n",
              "Специалист поддержки в Толоку со знанием английского языка                  68\n",
              "Web-программист                                                             68\n",
              "Помощник системного администратора                                          63\n",
              "Name: name, dtype: int64"
            ]
          },
          "metadata": {},
          "execution_count": 50
        }
      ]
    },
    {
      "cell_type": "code",
      "source": [
        "df.info()"
      ],
      "metadata": {
        "colab": {
          "base_uri": "https://localhost:8080/"
        },
        "id": "xsFRUrKw6Zmo",
        "outputId": "727f48d7-2681-4a16-a663-16de62c6ee57"
      },
      "execution_count": 51,
      "outputs": [
        {
          "output_type": "stream",
          "name": "stdout",
          "text": [
            "<class 'pandas.core.frame.DataFrame'>\n",
            "Int64Index: 50397 entries, 0 to 69655\n",
            "Data columns (total 39 columns):\n",
            " #   Column                    Non-Null Count  Dtype  \n",
            "---  ------                    --------------  -----  \n",
            " 0   Unnamed: 0                50397 non-null  int64  \n",
            " 1   id                        50397 non-null  int64  \n",
            " 2   premium                   118 non-null    float64\n",
            " 3   name                      50397 non-null  object \n",
            " 4   department                4488 non-null   object \n",
            " 5   has_test                  1124 non-null   float64\n",
            " 6   response_letter_required  641 non-null    float64\n",
            " 7   area                      50397 non-null  object \n",
            " 8   salary                    22726 non-null  object \n",
            " 9   type                      50397 non-null  object \n",
            " 10  address                   26915 non-null  object \n",
            " 11  response_url              0 non-null      object \n",
            " 12  sort_point_distance       0 non-null      float64\n",
            " 13  published_at              50397 non-null  object \n",
            " 14  created_at                50397 non-null  object \n",
            " 15  archived                  2 non-null      float64\n",
            " 16  insider_interview         430 non-null    object \n",
            " 17  url                       50397 non-null  object \n",
            " 18  alternate_url             50397 non-null  object \n",
            " 19  relations                 50397 non-null  object \n",
            " 20  employer                  50397 non-null  object \n",
            " 21  snippet                   50397 non-null  object \n",
            " 22  contacts                  22374 non-null  object \n",
            " 23  schedule                  50397 non-null  object \n",
            " 24  working_days              50397 non-null  object \n",
            " 25  working_time_intervals    50397 non-null  object \n",
            " 26  working_time_modes        50397 non-null  object \n",
            " 27  accept_temporary          2595 non-null   float64\n",
            " 28  description               50397 non-null  object \n",
            " 29  experience                50397 non-null  object \n",
            " 30  key_skills                50397 non-null  object \n",
            " 31  specializations           50397 non-null  object \n",
            " 32  region                    50397 non-null  object \n",
            " 33  immediate_redirect_url    0 non-null      object \n",
            " 34  salary_from               20219 non-null  Int64  \n",
            " 35  currency                  22726 non-null  object \n",
            " 36  converted_salary          20219 non-null  Int64  \n",
            " 37  key_skills_json           50397 non-null  object \n",
            " 38  key_skills_list           50397 non-null  object \n",
            "dtypes: Int64(2), float64(6), int64(2), object(29)\n",
            "memory usage: 15.5+ MB\n"
          ]
        }
      ]
    },
    {
      "cell_type": "code",
      "source": [
        "converted_salary_value = df['converted_salary']"
      ],
      "metadata": {
        "id": "IcQkFJkDun4I"
      },
      "execution_count": 52,
      "outputs": []
    },
    {
      "cell_type": "code",
      "source": [
        "max_value = converted_salary_value.max()\n",
        "min_value = converted_salary_value.min()\n",
        "print('Maximum wage: ', max_value, 'Minimum wage: ', min_value)"
      ],
      "metadata": {
        "colab": {
          "base_uri": "https://localhost:8080/"
        },
        "id": "j6M_G9cRtcsq",
        "outputId": "b683394e-f27d-4f07-e807-3ab96606184c"
      },
      "execution_count": 74,
      "outputs": [
        {
          "output_type": "stream",
          "name": "stdout",
          "text": [
            "Maximum wage:  1000000 Minimum wage:  25\n"
          ]
        }
      ]
    },
    {
      "cell_type": "markdown",
      "source": [
        "Медианная зарплата:"
      ],
      "metadata": {
        "id": "BVfJEtThxG6k"
      }
    },
    {
      "cell_type": "code",
      "source": [
        "median_value = converted_salary_value.median()\n",
        "print('Median salary: ', median_value)"
      ],
      "metadata": {
        "colab": {
          "base_uri": "https://localhost:8080/"
        },
        "id": "EmU-aXEdxJ2z",
        "outputId": "f3981062-2ecb-47cb-b3ea-ec61feeca2c3"
      },
      "execution_count": 54,
      "outputs": [
        {
          "output_type": "stream",
          "name": "stdout",
          "text": [
            "Медиана заработной платы:  60000.0\n"
          ]
        }
      ]
    },
    {
      "cell_type": "markdown",
      "source": [
        "Процентили:"
      ],
      "metadata": {
        "id": "mzdHfTqPxWQI"
      }
    },
    {
      "cell_type": "code",
      "source": [
        "percentile_10_value = converted_salary_value.quantile(0.10)\n",
        "percentile_25_value = converted_salary_value.quantile(0.25)\n",
        "percentile_50_value = converted_salary_value.quantile(0.50)\n",
        "percentile_75_value = converted_salary_value.quantile(0.75)\n",
        "percentile_90_value = converted_salary_value.quantile(0.90)\n",
        "print('10th percentile salary: ', percentile_10_value)\n",
        "print('25th percentile salary: ', percentile_25_value)\n",
        "print('50th percentile salary: ', percentile_50_value)\n",
        "print('75th percentile salary: ', percentile_75_value)\n",
        "print('90th percentile salary: ', percentile_90_value)"
      ],
      "metadata": {
        "colab": {
          "base_uri": "https://localhost:8080/"
        },
        "id": "9Js21aVcxYJd",
        "outputId": "77a7c4d4-316b-49e9-8984-d0c41389b449"
      },
      "execution_count": 75,
      "outputs": [
        {
          "output_type": "stream",
          "name": "stdout",
          "text": [
            "10th percentile salary:  26000\n",
            "25th percentile salary:  40000\n",
            "50th percentile salary:  60000\n",
            "75th percentile salary:  100000\n",
            "90th percentile salary:  160000\n"
          ]
        }
      ]
    },
    {
      "cell_type": "markdown",
      "source": [
        "Average salary:"
      ],
      "metadata": {
        "id": "mEKTH-Z5O_OE"
      }
    },
    {
      "cell_type": "code",
      "source": [
        "mean_value = converted_salary_value.mean()\n",
        "print('Average salary: ', mean_value)"
      ],
      "metadata": {
        "colab": {
          "base_uri": "https://localhost:8080/"
        },
        "id": "s5ifA8EbPFnH",
        "outputId": "785cfdd1-2e85-4d7b-bf3e-5403720fe0de"
      },
      "execution_count": 76,
      "outputs": [
        {
          "output_type": "stream",
          "name": "stdout",
          "text": [
            "Average salary:  83194.42143528364\n"
          ]
        }
      ]
    },
    {
      "cell_type": "code",
      "source": [
        "converted_salary_value.describe()"
      ],
      "metadata": {
        "colab": {
          "base_uri": "https://localhost:8080/"
        },
        "id": "UFIhpYdnxuJu",
        "outputId": "966d578b-a5e5-482e-ed2f-caa41c8c8aac"
      },
      "execution_count": 57,
      "outputs": [
        {
          "output_type": "execute_result",
          "data": {
            "text/plain": [
              "count         20219.0\n",
              "mean     83194.421435\n",
              "std      64523.939928\n",
              "min              25.0\n",
              "25%           40000.0\n",
              "50%           60000.0\n",
              "75%          100000.0\n",
              "max         1000000.0\n",
              "Name: converted_salary, dtype: Float64"
            ]
          },
          "metadata": {},
          "execution_count": 57
        }
      ]
    },
    {
      "cell_type": "code",
      "source": [
        "df.describe()"
      ],
      "metadata": {
        "colab": {
          "base_uri": "https://localhost:8080/",
          "height": 300
        },
        "id": "_Hh48kLsx5PQ",
        "outputId": "a1bcdeea-10af-45da-c63e-cabd22a92ac8"
      },
      "execution_count": 58,
      "outputs": [
        {
          "output_type": "execute_result",
          "data": {
            "text/plain": [
              "         Unnamed: 0            id  premium  has_test  \\\n",
              "count  50397.000000  5.039700e+04    118.0    1124.0   \n",
              "mean    4011.464770  5.469764e+07      1.0       1.0   \n",
              "std     5298.202176  3.761967e+06      0.0       0.0   \n",
              "min        0.000000  6.555939e+06      1.0       1.0   \n",
              "25%      388.000000  5.441001e+07      1.0       1.0   \n",
              "50%     1396.000000  5.517766e+07      1.0       1.0   \n",
              "75%     6362.000000  5.546692e+07      1.0       1.0   \n",
              "max    20065.000000  6.611540e+07      1.0       1.0   \n",
              "\n",
              "       response_letter_required  sort_point_distance  archived  \\\n",
              "count                     641.0                  0.0       2.0   \n",
              "mean                        1.0                  NaN       1.0   \n",
              "std                         0.0                  NaN       0.0   \n",
              "min                         1.0                  NaN       1.0   \n",
              "25%                         1.0                  NaN       1.0   \n",
              "50%                         1.0                  NaN       1.0   \n",
              "75%                         1.0                  NaN       1.0   \n",
              "max                         1.0                  NaN       1.0   \n",
              "\n",
              "       accept_temporary   salary_from  converted_salary  \n",
              "count            2595.0       20219.0           20219.0  \n",
              "mean                1.0  79285.622781      83194.421435  \n",
              "std                 0.0  61960.538322      64523.939928  \n",
              "min                 1.0          25.0              25.0  \n",
              "25%                 1.0       36000.0           40000.0  \n",
              "50%                 1.0       60000.0           60000.0  \n",
              "75%                 1.0      100000.0          100000.0  \n",
              "max                 1.0     1000000.0         1000000.0  "
            ],
            "text/html": [
              "\n",
              "  <div id=\"df-284698de-39c9-4e54-aa1f-a4821ddc078f\" class=\"colab-df-container\">\n",
              "    <div>\n",
              "<style scoped>\n",
              "    .dataframe tbody tr th:only-of-type {\n",
              "        vertical-align: middle;\n",
              "    }\n",
              "\n",
              "    .dataframe tbody tr th {\n",
              "        vertical-align: top;\n",
              "    }\n",
              "\n",
              "    .dataframe thead th {\n",
              "        text-align: right;\n",
              "    }\n",
              "</style>\n",
              "<table border=\"1\" class=\"dataframe\">\n",
              "  <thead>\n",
              "    <tr style=\"text-align: right;\">\n",
              "      <th></th>\n",
              "      <th>Unnamed: 0</th>\n",
              "      <th>id</th>\n",
              "      <th>premium</th>\n",
              "      <th>has_test</th>\n",
              "      <th>response_letter_required</th>\n",
              "      <th>sort_point_distance</th>\n",
              "      <th>archived</th>\n",
              "      <th>accept_temporary</th>\n",
              "      <th>salary_from</th>\n",
              "      <th>converted_salary</th>\n",
              "    </tr>\n",
              "  </thead>\n",
              "  <tbody>\n",
              "    <tr>\n",
              "      <th>count</th>\n",
              "      <td>50397.000000</td>\n",
              "      <td>5.039700e+04</td>\n",
              "      <td>118.0</td>\n",
              "      <td>1124.0</td>\n",
              "      <td>641.0</td>\n",
              "      <td>0.0</td>\n",
              "      <td>2.0</td>\n",
              "      <td>2595.0</td>\n",
              "      <td>20219.0</td>\n",
              "      <td>20219.0</td>\n",
              "    </tr>\n",
              "    <tr>\n",
              "      <th>mean</th>\n",
              "      <td>4011.464770</td>\n",
              "      <td>5.469764e+07</td>\n",
              "      <td>1.0</td>\n",
              "      <td>1.0</td>\n",
              "      <td>1.0</td>\n",
              "      <td>NaN</td>\n",
              "      <td>1.0</td>\n",
              "      <td>1.0</td>\n",
              "      <td>79285.622781</td>\n",
              "      <td>83194.421435</td>\n",
              "    </tr>\n",
              "    <tr>\n",
              "      <th>std</th>\n",
              "      <td>5298.202176</td>\n",
              "      <td>3.761967e+06</td>\n",
              "      <td>0.0</td>\n",
              "      <td>0.0</td>\n",
              "      <td>0.0</td>\n",
              "      <td>NaN</td>\n",
              "      <td>0.0</td>\n",
              "      <td>0.0</td>\n",
              "      <td>61960.538322</td>\n",
              "      <td>64523.939928</td>\n",
              "    </tr>\n",
              "    <tr>\n",
              "      <th>min</th>\n",
              "      <td>0.000000</td>\n",
              "      <td>6.555939e+06</td>\n",
              "      <td>1.0</td>\n",
              "      <td>1.0</td>\n",
              "      <td>1.0</td>\n",
              "      <td>NaN</td>\n",
              "      <td>1.0</td>\n",
              "      <td>1.0</td>\n",
              "      <td>25.0</td>\n",
              "      <td>25.0</td>\n",
              "    </tr>\n",
              "    <tr>\n",
              "      <th>25%</th>\n",
              "      <td>388.000000</td>\n",
              "      <td>5.441001e+07</td>\n",
              "      <td>1.0</td>\n",
              "      <td>1.0</td>\n",
              "      <td>1.0</td>\n",
              "      <td>NaN</td>\n",
              "      <td>1.0</td>\n",
              "      <td>1.0</td>\n",
              "      <td>36000.0</td>\n",
              "      <td>40000.0</td>\n",
              "    </tr>\n",
              "    <tr>\n",
              "      <th>50%</th>\n",
              "      <td>1396.000000</td>\n",
              "      <td>5.517766e+07</td>\n",
              "      <td>1.0</td>\n",
              "      <td>1.0</td>\n",
              "      <td>1.0</td>\n",
              "      <td>NaN</td>\n",
              "      <td>1.0</td>\n",
              "      <td>1.0</td>\n",
              "      <td>60000.0</td>\n",
              "      <td>60000.0</td>\n",
              "    </tr>\n",
              "    <tr>\n",
              "      <th>75%</th>\n",
              "      <td>6362.000000</td>\n",
              "      <td>5.546692e+07</td>\n",
              "      <td>1.0</td>\n",
              "      <td>1.0</td>\n",
              "      <td>1.0</td>\n",
              "      <td>NaN</td>\n",
              "      <td>1.0</td>\n",
              "      <td>1.0</td>\n",
              "      <td>100000.0</td>\n",
              "      <td>100000.0</td>\n",
              "    </tr>\n",
              "    <tr>\n",
              "      <th>max</th>\n",
              "      <td>20065.000000</td>\n",
              "      <td>6.611540e+07</td>\n",
              "      <td>1.0</td>\n",
              "      <td>1.0</td>\n",
              "      <td>1.0</td>\n",
              "      <td>NaN</td>\n",
              "      <td>1.0</td>\n",
              "      <td>1.0</td>\n",
              "      <td>1000000.0</td>\n",
              "      <td>1000000.0</td>\n",
              "    </tr>\n",
              "  </tbody>\n",
              "</table>\n",
              "</div>\n",
              "    <div class=\"colab-df-buttons\">\n",
              "\n",
              "  <div class=\"colab-df-container\">\n",
              "    <button class=\"colab-df-convert\" onclick=\"convertToInteractive('df-284698de-39c9-4e54-aa1f-a4821ddc078f')\"\n",
              "            title=\"Convert this dataframe to an interactive table.\"\n",
              "            style=\"display:none;\">\n",
              "\n",
              "  <svg xmlns=\"http://www.w3.org/2000/svg\" height=\"24px\" viewBox=\"0 -960 960 960\">\n",
              "    <path d=\"M120-120v-720h720v720H120Zm60-500h600v-160H180v160Zm220 220h160v-160H400v160Zm0 220h160v-160H400v160ZM180-400h160v-160H180v160Zm440 0h160v-160H620v160ZM180-180h160v-160H180v160Zm440 0h160v-160H620v160Z\"/>\n",
              "  </svg>\n",
              "    </button>\n",
              "\n",
              "  <style>\n",
              "    .colab-df-container {\n",
              "      display:flex;\n",
              "      gap: 12px;\n",
              "    }\n",
              "\n",
              "    .colab-df-convert {\n",
              "      background-color: #E8F0FE;\n",
              "      border: none;\n",
              "      border-radius: 50%;\n",
              "      cursor: pointer;\n",
              "      display: none;\n",
              "      fill: #1967D2;\n",
              "      height: 32px;\n",
              "      padding: 0 0 0 0;\n",
              "      width: 32px;\n",
              "    }\n",
              "\n",
              "    .colab-df-convert:hover {\n",
              "      background-color: #E2EBFA;\n",
              "      box-shadow: 0px 1px 2px rgba(60, 64, 67, 0.3), 0px 1px 3px 1px rgba(60, 64, 67, 0.15);\n",
              "      fill: #174EA6;\n",
              "    }\n",
              "\n",
              "    .colab-df-buttons div {\n",
              "      margin-bottom: 4px;\n",
              "    }\n",
              "\n",
              "    [theme=dark] .colab-df-convert {\n",
              "      background-color: #3B4455;\n",
              "      fill: #D2E3FC;\n",
              "    }\n",
              "\n",
              "    [theme=dark] .colab-df-convert:hover {\n",
              "      background-color: #434B5C;\n",
              "      box-shadow: 0px 1px 3px 1px rgba(0, 0, 0, 0.15);\n",
              "      filter: drop-shadow(0px 1px 2px rgba(0, 0, 0, 0.3));\n",
              "      fill: #FFFFFF;\n",
              "    }\n",
              "  </style>\n",
              "\n",
              "    <script>\n",
              "      const buttonEl =\n",
              "        document.querySelector('#df-284698de-39c9-4e54-aa1f-a4821ddc078f button.colab-df-convert');\n",
              "      buttonEl.style.display =\n",
              "        google.colab.kernel.accessAllowed ? 'block' : 'none';\n",
              "\n",
              "      async function convertToInteractive(key) {\n",
              "        const element = document.querySelector('#df-284698de-39c9-4e54-aa1f-a4821ddc078f');\n",
              "        const dataTable =\n",
              "          await google.colab.kernel.invokeFunction('convertToInteractive',\n",
              "                                                    [key], {});\n",
              "        if (!dataTable) return;\n",
              "\n",
              "        const docLinkHtml = 'Like what you see? Visit the ' +\n",
              "          '<a target=\"_blank\" href=https://colab.research.google.com/notebooks/data_table.ipynb>data table notebook</a>'\n",
              "          + ' to learn more about interactive tables.';\n",
              "        element.innerHTML = '';\n",
              "        dataTable['output_type'] = 'display_data';\n",
              "        await google.colab.output.renderOutput(dataTable, element);\n",
              "        const docLink = document.createElement('div');\n",
              "        docLink.innerHTML = docLinkHtml;\n",
              "        element.appendChild(docLink);\n",
              "      }\n",
              "    </script>\n",
              "  </div>\n",
              "\n",
              "\n",
              "<div id=\"df-f7137fe4-25c9-4fe2-b327-f41941e6eab2\">\n",
              "  <button class=\"colab-df-quickchart\" onclick=\"quickchart('df-f7137fe4-25c9-4fe2-b327-f41941e6eab2')\"\n",
              "            title=\"Suggest charts\"\n",
              "            style=\"display:none;\">\n",
              "\n",
              "<svg xmlns=\"http://www.w3.org/2000/svg\" height=\"24px\"viewBox=\"0 0 24 24\"\n",
              "     width=\"24px\">\n",
              "    <g>\n",
              "        <path d=\"M19 3H5c-1.1 0-2 .9-2 2v14c0 1.1.9 2 2 2h14c1.1 0 2-.9 2-2V5c0-1.1-.9-2-2-2zM9 17H7v-7h2v7zm4 0h-2V7h2v10zm4 0h-2v-4h2v4z\"/>\n",
              "    </g>\n",
              "</svg>\n",
              "  </button>\n",
              "\n",
              "<style>\n",
              "  .colab-df-quickchart {\n",
              "      --bg-color: #E8F0FE;\n",
              "      --fill-color: #1967D2;\n",
              "      --hover-bg-color: #E2EBFA;\n",
              "      --hover-fill-color: #174EA6;\n",
              "      --disabled-fill-color: #AAA;\n",
              "      --disabled-bg-color: #DDD;\n",
              "  }\n",
              "\n",
              "  [theme=dark] .colab-df-quickchart {\n",
              "      --bg-color: #3B4455;\n",
              "      --fill-color: #D2E3FC;\n",
              "      --hover-bg-color: #434B5C;\n",
              "      --hover-fill-color: #FFFFFF;\n",
              "      --disabled-bg-color: #3B4455;\n",
              "      --disabled-fill-color: #666;\n",
              "  }\n",
              "\n",
              "  .colab-df-quickchart {\n",
              "    background-color: var(--bg-color);\n",
              "    border: none;\n",
              "    border-radius: 50%;\n",
              "    cursor: pointer;\n",
              "    display: none;\n",
              "    fill: var(--fill-color);\n",
              "    height: 32px;\n",
              "    padding: 0;\n",
              "    width: 32px;\n",
              "  }\n",
              "\n",
              "  .colab-df-quickchart:hover {\n",
              "    background-color: var(--hover-bg-color);\n",
              "    box-shadow: 0 1px 2px rgba(60, 64, 67, 0.3), 0 1px 3px 1px rgba(60, 64, 67, 0.15);\n",
              "    fill: var(--button-hover-fill-color);\n",
              "  }\n",
              "\n",
              "  .colab-df-quickchart-complete:disabled,\n",
              "  .colab-df-quickchart-complete:disabled:hover {\n",
              "    background-color: var(--disabled-bg-color);\n",
              "    fill: var(--disabled-fill-color);\n",
              "    box-shadow: none;\n",
              "  }\n",
              "\n",
              "  .colab-df-spinner {\n",
              "    border: 2px solid var(--fill-color);\n",
              "    border-color: transparent;\n",
              "    border-bottom-color: var(--fill-color);\n",
              "    animation:\n",
              "      spin 1s steps(1) infinite;\n",
              "  }\n",
              "\n",
              "  @keyframes spin {\n",
              "    0% {\n",
              "      border-color: transparent;\n",
              "      border-bottom-color: var(--fill-color);\n",
              "      border-left-color: var(--fill-color);\n",
              "    }\n",
              "    20% {\n",
              "      border-color: transparent;\n",
              "      border-left-color: var(--fill-color);\n",
              "      border-top-color: var(--fill-color);\n",
              "    }\n",
              "    30% {\n",
              "      border-color: transparent;\n",
              "      border-left-color: var(--fill-color);\n",
              "      border-top-color: var(--fill-color);\n",
              "      border-right-color: var(--fill-color);\n",
              "    }\n",
              "    40% {\n",
              "      border-color: transparent;\n",
              "      border-right-color: var(--fill-color);\n",
              "      border-top-color: var(--fill-color);\n",
              "    }\n",
              "    60% {\n",
              "      border-color: transparent;\n",
              "      border-right-color: var(--fill-color);\n",
              "    }\n",
              "    80% {\n",
              "      border-color: transparent;\n",
              "      border-right-color: var(--fill-color);\n",
              "      border-bottom-color: var(--fill-color);\n",
              "    }\n",
              "    90% {\n",
              "      border-color: transparent;\n",
              "      border-bottom-color: var(--fill-color);\n",
              "    }\n",
              "  }\n",
              "</style>\n",
              "\n",
              "  <script>\n",
              "    async function quickchart(key) {\n",
              "      const quickchartButtonEl =\n",
              "        document.querySelector('#' + key + ' button');\n",
              "      quickchartButtonEl.disabled = true;  // To prevent multiple clicks.\n",
              "      quickchartButtonEl.classList.add('colab-df-spinner');\n",
              "      try {\n",
              "        const charts = await google.colab.kernel.invokeFunction(\n",
              "            'suggestCharts', [key], {});\n",
              "      } catch (error) {\n",
              "        console.error('Error during call to suggestCharts:', error);\n",
              "      }\n",
              "      quickchartButtonEl.classList.remove('colab-df-spinner');\n",
              "      quickchartButtonEl.classList.add('colab-df-quickchart-complete');\n",
              "    }\n",
              "    (() => {\n",
              "      let quickchartButtonEl =\n",
              "        document.querySelector('#df-f7137fe4-25c9-4fe2-b327-f41941e6eab2 button');\n",
              "      quickchartButtonEl.style.display =\n",
              "        google.colab.kernel.accessAllowed ? 'block' : 'none';\n",
              "    })();\n",
              "  </script>\n",
              "</div>\n",
              "\n",
              "    </div>\n",
              "  </div>\n"
            ]
          },
          "metadata": {},
          "execution_count": 58
        }
      ]
    },
    {
      "cell_type": "code",
      "source": [
        "df[df['salary_from'] > 50000]"
      ],
      "metadata": {
        "colab": {
          "base_uri": "https://localhost:8080/",
          "height": 1000
        },
        "id": "QAnzjnLXNfQZ",
        "outputId": "e88a6d93-05c2-4a0b-a94a-aa63efdcf6b0"
      },
      "execution_count": 59,
      "outputs": [
        {
          "output_type": "execute_result",
          "data": {
            "text/plain": [
              "       Unnamed: 0        id  premium  \\\n",
              "33             33  55137619      NaN   \n",
              "94             94  55272632      NaN   \n",
              "109           109  55265017      NaN   \n",
              "110           110  47328794      NaN   \n",
              "112           112  49639319      NaN   \n",
              "...           ...       ...      ...   \n",
              "69645         457  55903651      NaN   \n",
              "69646         458  55904184      NaN   \n",
              "69647         459  55904191      NaN   \n",
              "69652         464  66113885      NaN   \n",
              "69654         466  55498724      NaN   \n",
              "\n",
              "                                              name department  has_test  \\\n",
              "33                            Руководитель проекта        NaN       NaN   \n",
              "94                             Компьютерный Мастер        NaN       NaN   \n",
              "109                 PHP-программист Middle, Senior        NaN       NaN   \n",
              "110    Программист 1С отдела управленческого учета        NaN       NaN   \n",
              "112                                 Программист 1C        NaN       NaN   \n",
              "...                                            ...        ...       ...   \n",
              "69645            Ведущий Web-разработчик/Team Lead        NaN       NaN   \n",
              "69646               Веб-программист (PHP, Битрикс)        NaN       NaN   \n",
              "69647       Ведущий веб-программист (PHP, Битрикс)        NaN       NaN   \n",
              "69652                               Программист 1C        NaN       NaN   \n",
              "69654      Технический директор (DevOps, технолог)        NaN       NaN   \n",
              "\n",
              "       response_letter_required  \\\n",
              "33                          NaN   \n",
              "94                          NaN   \n",
              "109                         NaN   \n",
              "110                         NaN   \n",
              "112                         NaN   \n",
              "...                         ...   \n",
              "69645                       NaN   \n",
              "69646                       NaN   \n",
              "69647                       NaN   \n",
              "69652                       NaN   \n",
              "69654                       NaN   \n",
              "\n",
              "                                                    area  \\\n",
              "33     {'id': '15', 'name': 'Астрахань', 'url': 'http...   \n",
              "94     {'id': '15', 'name': 'Астрахань', 'url': 'http...   \n",
              "109    {'id': '15', 'name': 'Астрахань', 'url': 'http...   \n",
              "110    {'id': '15', 'name': 'Астрахань', 'url': 'http...   \n",
              "112    {'id': '15', 'name': 'Астрахань', 'url': 'http...   \n",
              "...                                                  ...   \n",
              "69645  {'id': '92', 'name': 'Тула', 'url': 'https://a...   \n",
              "69646  {'id': '92', 'name': 'Тула', 'url': 'https://a...   \n",
              "69647  {'id': '92', 'name': 'Тула', 'url': 'https://a...   \n",
              "69652  {'id': '92', 'name': 'Тула', 'url': 'https://a...   \n",
              "69654  {'id': '92', 'name': 'Тула', 'url': 'https://a...   \n",
              "\n",
              "                                                  salary  \\\n",
              "33     {'from': 57500, 'to': None, 'currency': 'RUR',...   \n",
              "94     {'from': 64000, 'to': None, 'currency': 'RUR',...   \n",
              "109    {'from': 200000, 'to': 250000, 'currency': 'RU...   \n",
              "110    {'from': 100000, 'to': None, 'currency': 'RUR'...   \n",
              "112    {'from': 80000, 'to': 80000, 'currency': 'RUR'...   \n",
              "...                                                  ...   \n",
              "69645  {'from': 100000, 'to': None, 'currency': 'RUR'...   \n",
              "69646  {'from': 70000, 'to': 130000, 'currency': 'RUR...   \n",
              "69647  {'from': 130000, 'to': 200000, 'currency': 'RU...   \n",
              "69652  {'from': 130000, 'to': None, 'currency': 'RUR'...   \n",
              "69654  {'from': 85000, 'to': None, 'currency': 'RUR',...   \n",
              "\n",
              "                                     type  ...  \\\n",
              "33     {'id': 'open', 'name': 'Открытая'}  ...   \n",
              "94     {'id': 'open', 'name': 'Открытая'}  ...   \n",
              "109    {'id': 'open', 'name': 'Открытая'}  ...   \n",
              "110    {'id': 'open', 'name': 'Открытая'}  ...   \n",
              "112    {'id': 'open', 'name': 'Открытая'}  ...   \n",
              "...                                   ...  ...   \n",
              "69645  {'id': 'open', 'name': 'Открытая'}  ...   \n",
              "69646  {'id': 'open', 'name': 'Открытая'}  ...   \n",
              "69647  {'id': 'open', 'name': 'Открытая'}  ...   \n",
              "69652  {'id': 'open', 'name': 'Открытая'}  ...   \n",
              "69654  {'id': 'open', 'name': 'Открытая'}  ...   \n",
              "\n",
              "                                              experience  \\\n",
              "33     {'id': 'between1And3', 'name': 'От 1 года до 3...   \n",
              "94           {'id': 'noExperience', 'name': 'Нет опыта'}   \n",
              "109      {'id': 'between3And6', 'name': 'От 3 до 6 лет'}   \n",
              "110      {'id': 'between3And6', 'name': 'От 3 до 6 лет'}   \n",
              "112    {'id': 'between1And3', 'name': 'От 1 года до 3...   \n",
              "...                                                  ...   \n",
              "69645    {'id': 'between3And6', 'name': 'От 3 до 6 лет'}   \n",
              "69646  {'id': 'between1And3', 'name': 'От 1 года до 3...   \n",
              "69647    {'id': 'between3And6', 'name': 'От 3 до 6 лет'}   \n",
              "69652  {'id': 'between1And3', 'name': 'От 1 года до 3...   \n",
              "69654    {'id': 'between3And6', 'name': 'От 3 до 6 лет'}   \n",
              "\n",
              "                                              key_skills  \\\n",
              "33     [{'name': 'Работа в команде'}, {'name': 'Управ...   \n",
              "94     [{'name': 'Пользователь ПК'}, {'name': 'Работа...   \n",
              "109    [{'name': 'PHP'}, {'name': 'MySQL'}, {'name': ...   \n",
              "110    [{'name': 'Работа с базами данных'}, {'name': ...   \n",
              "112    [{'name': 'SQL'}, {'name': 'MS SQL'}, {'name':...   \n",
              "...                                                  ...   \n",
              "69645  [{'name': 'jQuery'}, {'name': 'PHP'}, {'name':...   \n",
              "69646  [{'name': 'PHP'}, {'name': 'HTML'}, {'name': '...   \n",
              "69647  [{'name': 'Веб-программирование'}, {'name': 'У...   \n",
              "69652  [{'name': '1С: Управление Торговлей'}, {'name'...   \n",
              "69654                                                 []   \n",
              "\n",
              "                                         specializations  \\\n",
              "33     [{'id': '1.221', 'name': 'Программирование, Ра...   \n",
              "94     [{'id': '1.270', 'name': 'Сетевые технологии',...   \n",
              "109    [{'id': '1.221', 'name': 'Программирование, Ра...   \n",
              "110    [{'id': '1.221', 'name': 'Программирование, Ра...   \n",
              "112    [{'id': '1.221', 'name': 'Программирование, Ра...   \n",
              "...                                                  ...   \n",
              "69645  [{'id': '1.221', 'name': 'Программирование, Ра...   \n",
              "69646  [{'id': '1.221', 'name': 'Программирование, Ра...   \n",
              "69647  [{'id': '1.221', 'name': 'Программирование, Ра...   \n",
              "69652  [{'id': '1.221', 'name': 'Программирование, Ра...   \n",
              "69654  [{'id': '9.94', 'name': 'Информационные технол...   \n",
              "\n",
              "                     region immediate_redirect_url  salary_from currency  \\\n",
              "33     Астраханская область                    NaN        57500      RUR   \n",
              "94     Астраханская область                    NaN        64000      RUR   \n",
              "109    Астраханская область                    NaN       200000      RUR   \n",
              "110    Астраханская область                    NaN       100000      RUR   \n",
              "112    Астраханская область                    NaN        80000      RUR   \n",
              "...                     ...                    ...          ...      ...   \n",
              "69645      Тульская область                    NaN       100000      RUR   \n",
              "69646      Тульская область                    NaN        70000      RUR   \n",
              "69647      Тульская область                    NaN       130000      RUR   \n",
              "69652      Тульская область                    NaN       130000      RUR   \n",
              "69654      Тульская область                    NaN        85000      RUR   \n",
              "\n",
              "      converted_salary key_skills_json key_skills_list  \n",
              "33               57500              []              []  \n",
              "94               64000              []              []  \n",
              "109             200000              []              []  \n",
              "110             100000              []              []  \n",
              "112              80000              []              []  \n",
              "...                ...             ...             ...  \n",
              "69645           100000              []              []  \n",
              "69646            70000              []              []  \n",
              "69647           130000              []              []  \n",
              "69652           130000              []              []  \n",
              "69654            85000              []              []  \n",
              "\n",
              "[11301 rows x 39 columns]"
            ],
            "text/html": [
              "\n",
              "  <div id=\"df-b2919aea-bc77-42b7-8ce4-42056fd8e100\" class=\"colab-df-container\">\n",
              "    <div>\n",
              "<style scoped>\n",
              "    .dataframe tbody tr th:only-of-type {\n",
              "        vertical-align: middle;\n",
              "    }\n",
              "\n",
              "    .dataframe tbody tr th {\n",
              "        vertical-align: top;\n",
              "    }\n",
              "\n",
              "    .dataframe thead th {\n",
              "        text-align: right;\n",
              "    }\n",
              "</style>\n",
              "<table border=\"1\" class=\"dataframe\">\n",
              "  <thead>\n",
              "    <tr style=\"text-align: right;\">\n",
              "      <th></th>\n",
              "      <th>Unnamed: 0</th>\n",
              "      <th>id</th>\n",
              "      <th>premium</th>\n",
              "      <th>name</th>\n",
              "      <th>department</th>\n",
              "      <th>has_test</th>\n",
              "      <th>response_letter_required</th>\n",
              "      <th>area</th>\n",
              "      <th>salary</th>\n",
              "      <th>type</th>\n",
              "      <th>...</th>\n",
              "      <th>experience</th>\n",
              "      <th>key_skills</th>\n",
              "      <th>specializations</th>\n",
              "      <th>region</th>\n",
              "      <th>immediate_redirect_url</th>\n",
              "      <th>salary_from</th>\n",
              "      <th>currency</th>\n",
              "      <th>converted_salary</th>\n",
              "      <th>key_skills_json</th>\n",
              "      <th>key_skills_list</th>\n",
              "    </tr>\n",
              "  </thead>\n",
              "  <tbody>\n",
              "    <tr>\n",
              "      <th>33</th>\n",
              "      <td>33</td>\n",
              "      <td>55137619</td>\n",
              "      <td>NaN</td>\n",
              "      <td>Руководитель проекта</td>\n",
              "      <td>NaN</td>\n",
              "      <td>NaN</td>\n",
              "      <td>NaN</td>\n",
              "      <td>{'id': '15', 'name': 'Астрахань', 'url': 'http...</td>\n",
              "      <td>{'from': 57500, 'to': None, 'currency': 'RUR',...</td>\n",
              "      <td>{'id': 'open', 'name': 'Открытая'}</td>\n",
              "      <td>...</td>\n",
              "      <td>{'id': 'between1And3', 'name': 'От 1 года до 3...</td>\n",
              "      <td>[{'name': 'Работа в команде'}, {'name': 'Управ...</td>\n",
              "      <td>[{'id': '1.221', 'name': 'Программирование, Ра...</td>\n",
              "      <td>Астраханская область</td>\n",
              "      <td>NaN</td>\n",
              "      <td>57500</td>\n",
              "      <td>RUR</td>\n",
              "      <td>57500</td>\n",
              "      <td>[]</td>\n",
              "      <td>[]</td>\n",
              "    </tr>\n",
              "    <tr>\n",
              "      <th>94</th>\n",
              "      <td>94</td>\n",
              "      <td>55272632</td>\n",
              "      <td>NaN</td>\n",
              "      <td>Компьютерный Мастер</td>\n",
              "      <td>NaN</td>\n",
              "      <td>NaN</td>\n",
              "      <td>NaN</td>\n",
              "      <td>{'id': '15', 'name': 'Астрахань', 'url': 'http...</td>\n",
              "      <td>{'from': 64000, 'to': None, 'currency': 'RUR',...</td>\n",
              "      <td>{'id': 'open', 'name': 'Открытая'}</td>\n",
              "      <td>...</td>\n",
              "      <td>{'id': 'noExperience', 'name': 'Нет опыта'}</td>\n",
              "      <td>[{'name': 'Пользователь ПК'}, {'name': 'Работа...</td>\n",
              "      <td>[{'id': '1.270', 'name': 'Сетевые технологии',...</td>\n",
              "      <td>Астраханская область</td>\n",
              "      <td>NaN</td>\n",
              "      <td>64000</td>\n",
              "      <td>RUR</td>\n",
              "      <td>64000</td>\n",
              "      <td>[]</td>\n",
              "      <td>[]</td>\n",
              "    </tr>\n",
              "    <tr>\n",
              "      <th>109</th>\n",
              "      <td>109</td>\n",
              "      <td>55265017</td>\n",
              "      <td>NaN</td>\n",
              "      <td>PHP-программист Middle, Senior</td>\n",
              "      <td>NaN</td>\n",
              "      <td>NaN</td>\n",
              "      <td>NaN</td>\n",
              "      <td>{'id': '15', 'name': 'Астрахань', 'url': 'http...</td>\n",
              "      <td>{'from': 200000, 'to': 250000, 'currency': 'RU...</td>\n",
              "      <td>{'id': 'open', 'name': 'Открытая'}</td>\n",
              "      <td>...</td>\n",
              "      <td>{'id': 'between3And6', 'name': 'От 3 до 6 лет'}</td>\n",
              "      <td>[{'name': 'PHP'}, {'name': 'MySQL'}, {'name': ...</td>\n",
              "      <td>[{'id': '1.221', 'name': 'Программирование, Ра...</td>\n",
              "      <td>Астраханская область</td>\n",
              "      <td>NaN</td>\n",
              "      <td>200000</td>\n",
              "      <td>RUR</td>\n",
              "      <td>200000</td>\n",
              "      <td>[]</td>\n",
              "      <td>[]</td>\n",
              "    </tr>\n",
              "    <tr>\n",
              "      <th>110</th>\n",
              "      <td>110</td>\n",
              "      <td>47328794</td>\n",
              "      <td>NaN</td>\n",
              "      <td>Программист 1С отдела управленческого учета</td>\n",
              "      <td>NaN</td>\n",
              "      <td>NaN</td>\n",
              "      <td>NaN</td>\n",
              "      <td>{'id': '15', 'name': 'Астрахань', 'url': 'http...</td>\n",
              "      <td>{'from': 100000, 'to': None, 'currency': 'RUR'...</td>\n",
              "      <td>{'id': 'open', 'name': 'Открытая'}</td>\n",
              "      <td>...</td>\n",
              "      <td>{'id': 'between3And6', 'name': 'От 3 до 6 лет'}</td>\n",
              "      <td>[{'name': 'Работа с базами данных'}, {'name': ...</td>\n",
              "      <td>[{'id': '1.221', 'name': 'Программирование, Ра...</td>\n",
              "      <td>Астраханская область</td>\n",
              "      <td>NaN</td>\n",
              "      <td>100000</td>\n",
              "      <td>RUR</td>\n",
              "      <td>100000</td>\n",
              "      <td>[]</td>\n",
              "      <td>[]</td>\n",
              "    </tr>\n",
              "    <tr>\n",
              "      <th>112</th>\n",
              "      <td>112</td>\n",
              "      <td>49639319</td>\n",
              "      <td>NaN</td>\n",
              "      <td>Программист 1C</td>\n",
              "      <td>NaN</td>\n",
              "      <td>NaN</td>\n",
              "      <td>NaN</td>\n",
              "      <td>{'id': '15', 'name': 'Астрахань', 'url': 'http...</td>\n",
              "      <td>{'from': 80000, 'to': 80000, 'currency': 'RUR'...</td>\n",
              "      <td>{'id': 'open', 'name': 'Открытая'}</td>\n",
              "      <td>...</td>\n",
              "      <td>{'id': 'between1And3', 'name': 'От 1 года до 3...</td>\n",
              "      <td>[{'name': 'SQL'}, {'name': 'MS SQL'}, {'name':...</td>\n",
              "      <td>[{'id': '1.221', 'name': 'Программирование, Ра...</td>\n",
              "      <td>Астраханская область</td>\n",
              "      <td>NaN</td>\n",
              "      <td>80000</td>\n",
              "      <td>RUR</td>\n",
              "      <td>80000</td>\n",
              "      <td>[]</td>\n",
              "      <td>[]</td>\n",
              "    </tr>\n",
              "    <tr>\n",
              "      <th>...</th>\n",
              "      <td>...</td>\n",
              "      <td>...</td>\n",
              "      <td>...</td>\n",
              "      <td>...</td>\n",
              "      <td>...</td>\n",
              "      <td>...</td>\n",
              "      <td>...</td>\n",
              "      <td>...</td>\n",
              "      <td>...</td>\n",
              "      <td>...</td>\n",
              "      <td>...</td>\n",
              "      <td>...</td>\n",
              "      <td>...</td>\n",
              "      <td>...</td>\n",
              "      <td>...</td>\n",
              "      <td>...</td>\n",
              "      <td>...</td>\n",
              "      <td>...</td>\n",
              "      <td>...</td>\n",
              "      <td>...</td>\n",
              "      <td>...</td>\n",
              "    </tr>\n",
              "    <tr>\n",
              "      <th>69645</th>\n",
              "      <td>457</td>\n",
              "      <td>55903651</td>\n",
              "      <td>NaN</td>\n",
              "      <td>Ведущий Web-разработчик/Team Lead</td>\n",
              "      <td>NaN</td>\n",
              "      <td>NaN</td>\n",
              "      <td>NaN</td>\n",
              "      <td>{'id': '92', 'name': 'Тула', 'url': 'https://a...</td>\n",
              "      <td>{'from': 100000, 'to': None, 'currency': 'RUR'...</td>\n",
              "      <td>{'id': 'open', 'name': 'Открытая'}</td>\n",
              "      <td>...</td>\n",
              "      <td>{'id': 'between3And6', 'name': 'От 3 до 6 лет'}</td>\n",
              "      <td>[{'name': 'jQuery'}, {'name': 'PHP'}, {'name':...</td>\n",
              "      <td>[{'id': '1.221', 'name': 'Программирование, Ра...</td>\n",
              "      <td>Тульская область</td>\n",
              "      <td>NaN</td>\n",
              "      <td>100000</td>\n",
              "      <td>RUR</td>\n",
              "      <td>100000</td>\n",
              "      <td>[]</td>\n",
              "      <td>[]</td>\n",
              "    </tr>\n",
              "    <tr>\n",
              "      <th>69646</th>\n",
              "      <td>458</td>\n",
              "      <td>55904184</td>\n",
              "      <td>NaN</td>\n",
              "      <td>Веб-программист (PHP, Битрикс)</td>\n",
              "      <td>NaN</td>\n",
              "      <td>NaN</td>\n",
              "      <td>NaN</td>\n",
              "      <td>{'id': '92', 'name': 'Тула', 'url': 'https://a...</td>\n",
              "      <td>{'from': 70000, 'to': 130000, 'currency': 'RUR...</td>\n",
              "      <td>{'id': 'open', 'name': 'Открытая'}</td>\n",
              "      <td>...</td>\n",
              "      <td>{'id': 'between1And3', 'name': 'От 1 года до 3...</td>\n",
              "      <td>[{'name': 'PHP'}, {'name': 'HTML'}, {'name': '...</td>\n",
              "      <td>[{'id': '1.221', 'name': 'Программирование, Ра...</td>\n",
              "      <td>Тульская область</td>\n",
              "      <td>NaN</td>\n",
              "      <td>70000</td>\n",
              "      <td>RUR</td>\n",
              "      <td>70000</td>\n",
              "      <td>[]</td>\n",
              "      <td>[]</td>\n",
              "    </tr>\n",
              "    <tr>\n",
              "      <th>69647</th>\n",
              "      <td>459</td>\n",
              "      <td>55904191</td>\n",
              "      <td>NaN</td>\n",
              "      <td>Ведущий веб-программист (PHP, Битрикс)</td>\n",
              "      <td>NaN</td>\n",
              "      <td>NaN</td>\n",
              "      <td>NaN</td>\n",
              "      <td>{'id': '92', 'name': 'Тула', 'url': 'https://a...</td>\n",
              "      <td>{'from': 130000, 'to': 200000, 'currency': 'RU...</td>\n",
              "      <td>{'id': 'open', 'name': 'Открытая'}</td>\n",
              "      <td>...</td>\n",
              "      <td>{'id': 'between3And6', 'name': 'От 3 до 6 лет'}</td>\n",
              "      <td>[{'name': 'Веб-программирование'}, {'name': 'У...</td>\n",
              "      <td>[{'id': '1.221', 'name': 'Программирование, Ра...</td>\n",
              "      <td>Тульская область</td>\n",
              "      <td>NaN</td>\n",
              "      <td>130000</td>\n",
              "      <td>RUR</td>\n",
              "      <td>130000</td>\n",
              "      <td>[]</td>\n",
              "      <td>[]</td>\n",
              "    </tr>\n",
              "    <tr>\n",
              "      <th>69652</th>\n",
              "      <td>464</td>\n",
              "      <td>66113885</td>\n",
              "      <td>NaN</td>\n",
              "      <td>Программист 1C</td>\n",
              "      <td>NaN</td>\n",
              "      <td>NaN</td>\n",
              "      <td>NaN</td>\n",
              "      <td>{'id': '92', 'name': 'Тула', 'url': 'https://a...</td>\n",
              "      <td>{'from': 130000, 'to': None, 'currency': 'RUR'...</td>\n",
              "      <td>{'id': 'open', 'name': 'Открытая'}</td>\n",
              "      <td>...</td>\n",
              "      <td>{'id': 'between1And3', 'name': 'От 1 года до 3...</td>\n",
              "      <td>[{'name': '1С: Управление Торговлей'}, {'name'...</td>\n",
              "      <td>[{'id': '1.221', 'name': 'Программирование, Ра...</td>\n",
              "      <td>Тульская область</td>\n",
              "      <td>NaN</td>\n",
              "      <td>130000</td>\n",
              "      <td>RUR</td>\n",
              "      <td>130000</td>\n",
              "      <td>[]</td>\n",
              "      <td>[]</td>\n",
              "    </tr>\n",
              "    <tr>\n",
              "      <th>69654</th>\n",
              "      <td>466</td>\n",
              "      <td>55498724</td>\n",
              "      <td>NaN</td>\n",
              "      <td>Технический директор (DevOps, технолог)</td>\n",
              "      <td>NaN</td>\n",
              "      <td>NaN</td>\n",
              "      <td>NaN</td>\n",
              "      <td>{'id': '92', 'name': 'Тула', 'url': 'https://a...</td>\n",
              "      <td>{'from': 85000, 'to': None, 'currency': 'RUR',...</td>\n",
              "      <td>{'id': 'open', 'name': 'Открытая'}</td>\n",
              "      <td>...</td>\n",
              "      <td>{'id': 'between3And6', 'name': 'От 3 до 6 лет'}</td>\n",
              "      <td>[]</td>\n",
              "      <td>[{'id': '9.94', 'name': 'Информационные технол...</td>\n",
              "      <td>Тульская область</td>\n",
              "      <td>NaN</td>\n",
              "      <td>85000</td>\n",
              "      <td>RUR</td>\n",
              "      <td>85000</td>\n",
              "      <td>[]</td>\n",
              "      <td>[]</td>\n",
              "    </tr>\n",
              "  </tbody>\n",
              "</table>\n",
              "<p>11301 rows × 39 columns</p>\n",
              "</div>\n",
              "    <div class=\"colab-df-buttons\">\n",
              "\n",
              "  <div class=\"colab-df-container\">\n",
              "    <button class=\"colab-df-convert\" onclick=\"convertToInteractive('df-b2919aea-bc77-42b7-8ce4-42056fd8e100')\"\n",
              "            title=\"Convert this dataframe to an interactive table.\"\n",
              "            style=\"display:none;\">\n",
              "\n",
              "  <svg xmlns=\"http://www.w3.org/2000/svg\" height=\"24px\" viewBox=\"0 -960 960 960\">\n",
              "    <path d=\"M120-120v-720h720v720H120Zm60-500h600v-160H180v160Zm220 220h160v-160H400v160Zm0 220h160v-160H400v160ZM180-400h160v-160H180v160Zm440 0h160v-160H620v160ZM180-180h160v-160H180v160Zm440 0h160v-160H620v160Z\"/>\n",
              "  </svg>\n",
              "    </button>\n",
              "\n",
              "  <style>\n",
              "    .colab-df-container {\n",
              "      display:flex;\n",
              "      gap: 12px;\n",
              "    }\n",
              "\n",
              "    .colab-df-convert {\n",
              "      background-color: #E8F0FE;\n",
              "      border: none;\n",
              "      border-radius: 50%;\n",
              "      cursor: pointer;\n",
              "      display: none;\n",
              "      fill: #1967D2;\n",
              "      height: 32px;\n",
              "      padding: 0 0 0 0;\n",
              "      width: 32px;\n",
              "    }\n",
              "\n",
              "    .colab-df-convert:hover {\n",
              "      background-color: #E2EBFA;\n",
              "      box-shadow: 0px 1px 2px rgba(60, 64, 67, 0.3), 0px 1px 3px 1px rgba(60, 64, 67, 0.15);\n",
              "      fill: #174EA6;\n",
              "    }\n",
              "\n",
              "    .colab-df-buttons div {\n",
              "      margin-bottom: 4px;\n",
              "    }\n",
              "\n",
              "    [theme=dark] .colab-df-convert {\n",
              "      background-color: #3B4455;\n",
              "      fill: #D2E3FC;\n",
              "    }\n",
              "\n",
              "    [theme=dark] .colab-df-convert:hover {\n",
              "      background-color: #434B5C;\n",
              "      box-shadow: 0px 1px 3px 1px rgba(0, 0, 0, 0.15);\n",
              "      filter: drop-shadow(0px 1px 2px rgba(0, 0, 0, 0.3));\n",
              "      fill: #FFFFFF;\n",
              "    }\n",
              "  </style>\n",
              "\n",
              "    <script>\n",
              "      const buttonEl =\n",
              "        document.querySelector('#df-b2919aea-bc77-42b7-8ce4-42056fd8e100 button.colab-df-convert');\n",
              "      buttonEl.style.display =\n",
              "        google.colab.kernel.accessAllowed ? 'block' : 'none';\n",
              "\n",
              "      async function convertToInteractive(key) {\n",
              "        const element = document.querySelector('#df-b2919aea-bc77-42b7-8ce4-42056fd8e100');\n",
              "        const dataTable =\n",
              "          await google.colab.kernel.invokeFunction('convertToInteractive',\n",
              "                                                    [key], {});\n",
              "        if (!dataTable) return;\n",
              "\n",
              "        const docLinkHtml = 'Like what you see? Visit the ' +\n",
              "          '<a target=\"_blank\" href=https://colab.research.google.com/notebooks/data_table.ipynb>data table notebook</a>'\n",
              "          + ' to learn more about interactive tables.';\n",
              "        element.innerHTML = '';\n",
              "        dataTable['output_type'] = 'display_data';\n",
              "        await google.colab.output.renderOutput(dataTable, element);\n",
              "        const docLink = document.createElement('div');\n",
              "        docLink.innerHTML = docLinkHtml;\n",
              "        element.appendChild(docLink);\n",
              "      }\n",
              "    </script>\n",
              "  </div>\n",
              "\n",
              "\n",
              "<div id=\"df-16e2c27a-416b-45ab-be1c-66b86afc7306\">\n",
              "  <button class=\"colab-df-quickchart\" onclick=\"quickchart('df-16e2c27a-416b-45ab-be1c-66b86afc7306')\"\n",
              "            title=\"Suggest charts\"\n",
              "            style=\"display:none;\">\n",
              "\n",
              "<svg xmlns=\"http://www.w3.org/2000/svg\" height=\"24px\"viewBox=\"0 0 24 24\"\n",
              "     width=\"24px\">\n",
              "    <g>\n",
              "        <path d=\"M19 3H5c-1.1 0-2 .9-2 2v14c0 1.1.9 2 2 2h14c1.1 0 2-.9 2-2V5c0-1.1-.9-2-2-2zM9 17H7v-7h2v7zm4 0h-2V7h2v10zm4 0h-2v-4h2v4z\"/>\n",
              "    </g>\n",
              "</svg>\n",
              "  </button>\n",
              "\n",
              "<style>\n",
              "  .colab-df-quickchart {\n",
              "      --bg-color: #E8F0FE;\n",
              "      --fill-color: #1967D2;\n",
              "      --hover-bg-color: #E2EBFA;\n",
              "      --hover-fill-color: #174EA6;\n",
              "      --disabled-fill-color: #AAA;\n",
              "      --disabled-bg-color: #DDD;\n",
              "  }\n",
              "\n",
              "  [theme=dark] .colab-df-quickchart {\n",
              "      --bg-color: #3B4455;\n",
              "      --fill-color: #D2E3FC;\n",
              "      --hover-bg-color: #434B5C;\n",
              "      --hover-fill-color: #FFFFFF;\n",
              "      --disabled-bg-color: #3B4455;\n",
              "      --disabled-fill-color: #666;\n",
              "  }\n",
              "\n",
              "  .colab-df-quickchart {\n",
              "    background-color: var(--bg-color);\n",
              "    border: none;\n",
              "    border-radius: 50%;\n",
              "    cursor: pointer;\n",
              "    display: none;\n",
              "    fill: var(--fill-color);\n",
              "    height: 32px;\n",
              "    padding: 0;\n",
              "    width: 32px;\n",
              "  }\n",
              "\n",
              "  .colab-df-quickchart:hover {\n",
              "    background-color: var(--hover-bg-color);\n",
              "    box-shadow: 0 1px 2px rgba(60, 64, 67, 0.3), 0 1px 3px 1px rgba(60, 64, 67, 0.15);\n",
              "    fill: var(--button-hover-fill-color);\n",
              "  }\n",
              "\n",
              "  .colab-df-quickchart-complete:disabled,\n",
              "  .colab-df-quickchart-complete:disabled:hover {\n",
              "    background-color: var(--disabled-bg-color);\n",
              "    fill: var(--disabled-fill-color);\n",
              "    box-shadow: none;\n",
              "  }\n",
              "\n",
              "  .colab-df-spinner {\n",
              "    border: 2px solid var(--fill-color);\n",
              "    border-color: transparent;\n",
              "    border-bottom-color: var(--fill-color);\n",
              "    animation:\n",
              "      spin 1s steps(1) infinite;\n",
              "  }\n",
              "\n",
              "  @keyframes spin {\n",
              "    0% {\n",
              "      border-color: transparent;\n",
              "      border-bottom-color: var(--fill-color);\n",
              "      border-left-color: var(--fill-color);\n",
              "    }\n",
              "    20% {\n",
              "      border-color: transparent;\n",
              "      border-left-color: var(--fill-color);\n",
              "      border-top-color: var(--fill-color);\n",
              "    }\n",
              "    30% {\n",
              "      border-color: transparent;\n",
              "      border-left-color: var(--fill-color);\n",
              "      border-top-color: var(--fill-color);\n",
              "      border-right-color: var(--fill-color);\n",
              "    }\n",
              "    40% {\n",
              "      border-color: transparent;\n",
              "      border-right-color: var(--fill-color);\n",
              "      border-top-color: var(--fill-color);\n",
              "    }\n",
              "    60% {\n",
              "      border-color: transparent;\n",
              "      border-right-color: var(--fill-color);\n",
              "    }\n",
              "    80% {\n",
              "      border-color: transparent;\n",
              "      border-right-color: var(--fill-color);\n",
              "      border-bottom-color: var(--fill-color);\n",
              "    }\n",
              "    90% {\n",
              "      border-color: transparent;\n",
              "      border-bottom-color: var(--fill-color);\n",
              "    }\n",
              "  }\n",
              "</style>\n",
              "\n",
              "  <script>\n",
              "    async function quickchart(key) {\n",
              "      const quickchartButtonEl =\n",
              "        document.querySelector('#' + key + ' button');\n",
              "      quickchartButtonEl.disabled = true;  // To prevent multiple clicks.\n",
              "      quickchartButtonEl.classList.add('colab-df-spinner');\n",
              "      try {\n",
              "        const charts = await google.colab.kernel.invokeFunction(\n",
              "            'suggestCharts', [key], {});\n",
              "      } catch (error) {\n",
              "        console.error('Error during call to suggestCharts:', error);\n",
              "      }\n",
              "      quickchartButtonEl.classList.remove('colab-df-spinner');\n",
              "      quickchartButtonEl.classList.add('colab-df-quickchart-complete');\n",
              "    }\n",
              "    (() => {\n",
              "      let quickchartButtonEl =\n",
              "        document.querySelector('#df-16e2c27a-416b-45ab-be1c-66b86afc7306 button');\n",
              "      quickchartButtonEl.style.display =\n",
              "        google.colab.kernel.accessAllowed ? 'block' : 'none';\n",
              "    })();\n",
              "  </script>\n",
              "</div>\n",
              "\n",
              "    </div>\n",
              "  </div>\n"
            ]
          },
          "metadata": {},
          "execution_count": 59
        }
      ]
    },
    {
      "cell_type": "code",
      "source": [
        "df['converted_salary'].describe().astype(int)"
      ],
      "metadata": {
        "colab": {
          "base_uri": "https://localhost:8080/"
        },
        "id": "LEgTY8h_QDLT",
        "outputId": "a016c3ca-efaa-418a-989e-9f8f976e8ba0"
      },
      "execution_count": 60,
      "outputs": [
        {
          "output_type": "execute_result",
          "data": {
            "text/plain": [
              "count      20219\n",
              "mean       83194\n",
              "std        64523\n",
              "min           25\n",
              "25%        40000\n",
              "50%        60000\n",
              "75%       100000\n",
              "max      1000000\n",
              "Name: converted_salary, dtype: int64"
            ]
          },
          "metadata": {},
          "execution_count": 60
        }
      ]
    },
    {
      "cell_type": "code",
      "source": [
        "salary_value=df['converted_salary']"
      ],
      "metadata": {
        "id": "TyMpAmYvT0YO"
      },
      "execution_count": 61,
      "outputs": []
    },
    {
      "cell_type": "code",
      "source": [
        "plt.boxplot(df['converted_salary'].dropna())\n",
        "plt.ylim((None,600000))\n",
        "plt.show"
      ],
      "metadata": {
        "colab": {
          "base_uri": "https://localhost:8080/",
          "height": 452
        },
        "id": "WhoPQn61UCu9",
        "outputId": "a5265f91-139f-4d51-c44c-6f0646a4e519"
      },
      "execution_count": 62,
      "outputs": [
        {
          "output_type": "execute_result",
          "data": {
            "text/plain": [
              "<function matplotlib.pyplot.show(close=None, block=None)>"
            ]
          },
          "metadata": {},
          "execution_count": 62
        },
        {
          "output_type": "display_data",
          "data": {
            "text/plain": [
              "<Figure size 640x480 with 1 Axes>"
            ],
            "image/png": "[encoded data removed]"
          },
          "metadata": {}
        }
      ]
    },
    {
      "cell_type": "markdown",
      "source": [
        "Experience:"
      ],
      "metadata": {
        "id": "9j1qqcR9Y137"
      }
    },
    {
      "cell_type": "code",
      "source": [
        "df['experience'].describe()"
      ],
      "metadata": {
        "colab": {
          "base_uri": "https://localhost:8080/"
        },
        "id": "1ZbNyyTkX1uw",
        "outputId": "b7bdd524-0310-4651-952a-ab2ed40ec6db"
      },
      "execution_count": 77,
      "outputs": [
        {
          "output_type": "execute_result",
          "data": {
            "text/plain": [
              "count                                                 50397\n",
              "unique                                                    4\n",
              "top       {'id': 'between1And3', 'name': 'От 1 года до 3...\n",
              "freq                                                  26163\n",
              "Name: experience, dtype: object"
            ]
          },
          "metadata": {},
          "execution_count": 77
        }
      ]
    },
    {
      "cell_type": "code",
      "source": [
        "exp_count = df['experience'].value_counts()\n",
        "exp_count"
      ],
      "metadata": {
        "colab": {
          "base_uri": "https://localhost:8080/"
        },
        "id": "Tg8k9vX6Y7pp",
        "outputId": "dc096524-7dd4-484e-a18c-a5e3df5541e6"
      },
      "execution_count": 78,
      "outputs": [
        {
          "output_type": "execute_result",
          "data": {
            "text/plain": [
              "{'id': 'between1And3', 'name': 'От 1 года до 3 лет'}    26163\n",
              "{'id': 'between3And6', 'name': 'От 3 до 6 лет'}         16548\n",
              "{'id': 'noExperience', 'name': 'Нет опыта'}              6011\n",
              "{'id': 'moreThan6', 'name': 'Более 6 лет'}               1675\n",
              "Name: experience, dtype: int64"
            ]
          },
          "metadata": {},
          "execution_count": 78
        }
      ]
    },
    {
      "cell_type": "code",
      "source": [
        "experience = df['experience'].apply(lambda x: eval(x)['name'])\n",
        "df['experience_name'] = experience\n",
        "df['experience_name']"
      ],
      "metadata": {
        "colab": {
          "base_uri": "https://localhost:8080/"
        },
        "id": "Kw99F7f4ZGXu",
        "outputId": "06dc8b5c-50ba-40dc-f540-f6371f10a46f"
      },
      "execution_count": 79,
      "outputs": [
        {
          "output_type": "stream",
          "name": "stderr",
          "text": [
            "<ipython-input-79-0c4bf9c22cc6>:2: SettingWithCopyWarning: \n",
            "A value is trying to be set on a copy of a slice from a DataFrame.\n",
            "Try using .loc[row_indexer,col_indexer] = value instead\n",
            "\n",
            "See the caveats in the documentation: https://pandas.pydata.org/pandas-docs/stable/user_guide/indexing.html#returning-a-view-versus-a-copy\n",
            "  df['experience_name'] = experience\n"
          ]
        },
        {
          "output_type": "execute_result",
          "data": {
            "text/plain": [
              "0                 Нет опыта\n",
              "1        От 1 года до 3 лет\n",
              "2             От 3 до 6 лет\n",
              "3                 Нет опыта\n",
              "4                 Нет опыта\n",
              "                ...        \n",
              "69651         От 3 до 6 лет\n",
              "69652    От 1 года до 3 лет\n",
              "69653    От 1 года до 3 лет\n",
              "69654         От 3 до 6 лет\n",
              "69655           Более 6 лет\n",
              "Name: experience_name, Length: 50397, dtype: object"
            ]
          },
          "metadata": {},
          "execution_count": 79
        }
      ]
    },
    {
      "cell_type": "code",
      "source": [
        "df['experience_name'].describe()"
      ],
      "metadata": {
        "colab": {
          "base_uri": "https://localhost:8080/"
        },
        "id": "N6V7uKm9ZPhf",
        "outputId": "d07cdb47-b8bf-42a2-a32f-e90ede7d80ad"
      },
      "execution_count": 66,
      "outputs": [
        {
          "output_type": "execute_result",
          "data": {
            "text/plain": [
              "count                  50397\n",
              "unique                     4\n",
              "top       От 1 года до 3 лет\n",
              "freq                   26163\n",
              "Name: experience_name, dtype: object"
            ]
          },
          "metadata": {},
          "execution_count": 66
        }
      ]
    },
    {
      "cell_type": "code",
      "source": [
        "experience_count = df['experience_name'].value_counts()\n",
        "experience_count"
      ],
      "metadata": {
        "colab": {
          "base_uri": "https://localhost:8080/"
        },
        "id": "9qPYUc2YZU1Q",
        "outputId": "c12402ea-11c5-4a6a-d2d4-1d8d364befe0"
      },
      "execution_count": 67,
      "outputs": [
        {
          "output_type": "execute_result",
          "data": {
            "text/plain": [
              "От 1 года до 3 лет    26163\n",
              "От 3 до 6 лет         16548\n",
              "Нет опыта              6011\n",
              "Более 6 лет            1675\n",
              "Name: experience_name, dtype: int64"
            ]
          },
          "metadata": {},
          "execution_count": 67
        }
      ]
    },
    {
      "cell_type": "code",
      "source": [
        "plt.style.use('seaborn')\n",
        "plt.bar(experience_count.index, experience_count.values)\n",
        "plt.title('Required work experience')\n",
        "plt.show()"
      ],
      "metadata": {
        "colab": {
          "base_uri": "https://localhost:8080/",
          "height": 559
        },
        "id": "rap_LdbxZkwD",
        "outputId": "9a467214-d15f-4d3b-f2ee-c6c07560ecb8"
      },
      "execution_count": 80,
      "outputs": [
        {
          "output_type": "stream",
          "name": "stderr",
          "text": [
            "<ipython-input-80-5bec81f2346c>:1: MatplotlibDeprecationWarning: The seaborn styles shipped by Matplotlib are deprecated since 3.6, as they no longer correspond to the styles shipped by seaborn. However, they will remain available as 'seaborn-v0_8-<style>'. Alternatively, directly use the seaborn API instead.\n",
            "  plt.style.use('seaborn')\n"
          ]
        },
        {
          "output_type": "display_data",
          "data": {
            "text/plain": [
              "<Figure size 800x550 with 1 Axes>"
            ],
            "image/png": "[encoded data removed]"
          },
          "metadata": {}
        }
      ]
    },
    {
      "cell_type": "code",
      "source": [
        "plt.pie(experience_count.values, autopct='%.1f')\n",
        "plt.legend(bbox_to_anchor = (-0.15, 0.50, 0.25, 0.25), labels = experience_count.index)\n",
        "plt.title('Distribution of work experience in %')\n",
        "plt.show()"
      ],
      "metadata": {
        "colab": {
          "base_uri": "https://localhost:8080/",
          "height": 480
        },
        "id": "9O76ImbFZwau",
        "outputId": "d96ddd6c-8a3e-498f-c1b8-0698dcc9295b"
      },
      "execution_count": 81,
      "outputs": [
        {
          "output_type": "display_data",
          "data": {
            "text/plain": [
              "<Figure size 800x550 with 1 Axes>"
            ],
            "image/png": "[encoded data removed]"
          },
          "metadata": {}
        }
      ]
    },
    {
      "cell_type": "markdown",
      "source": [
        "Top 50 vacancies in the IT sector"
      ],
      "metadata": {
        "id": "xqsGbaWtH5-s"
      }
    },
    {
      "cell_type": "code",
      "source": [
        "ds['name'].describe()"
      ],
      "metadata": {
        "colab": {
          "base_uri": "https://localhost:8080/"
        },
        "id": "eqd1qEMKH_ZP",
        "outputId": "33cd1f28-2927-4785-e5b9-20c89bdc7b5e"
      },
      "execution_count": 70,
      "outputs": [
        {
          "output_type": "execute_result",
          "data": {
            "text/plain": [
              "count                       69656\n",
              "unique                      31756\n",
              "top       Системный администратор\n",
              "freq                         1659\n",
              "Name: name, dtype: object"
            ]
          },
          "metadata": {},
          "execution_count": 70
        }
      ]
    },
    {
      "cell_type": "code",
      "source": [
        "vacancy_count = ds['name'].value_counts()\n",
        "vacancy_count[:50]"
      ],
      "metadata": {
        "colab": {
          "base_uri": "https://localhost:8080/"
        },
        "id": "YYrQUiwnLxWX",
        "outputId": "186ff430-f433-4dd7-f72f-b885c99b208d"
      },
      "execution_count": 71,
      "outputs": [
        {
          "output_type": "execute_result",
          "data": {
            "text/plain": [
              "Системный администратор                                       1659\n",
              "Программист 1С                                                1123\n",
              "Менеджер по персоналу                                          680\n",
              "Менеджер по подбору персонала                                  571\n",
              "Специалист технической поддержки                               483\n",
              "Специалист по кадрам                                           469\n",
              "Системный аналитик                                             466\n",
              "Агент по недвижимости                                          374\n",
              "Аналитик                                                       346\n",
              "SMM-менеджер                                                   342\n",
              "Инженер-программист                                            330\n",
              "Программист 1C                                                 325\n",
              "Графический дизайнер                                           316\n",
              "Специалист отдела кадров                                       284\n",
              "Бизнес-аналитик                                                273\n",
              "Инженер технической поддержки                                  273\n",
              "Дизайнер                                                       259\n",
              "Специалист по подбору персонала                                257\n",
              "Менеджер по продаже недвижимости                               244\n",
              "HR менеджер                                                    238\n",
              "Специалист по кадровому делопроизводству                       231\n",
              "Специалист по недвижимости                                     222\n",
              "Руководитель проекта                                           220\n",
              "Технический писатель                                           215\n",
              "Рекрутер                                                       196\n",
              "Риэлтор                                                        190\n",
              "Специалист по информационной безопасности                      185\n",
              "Frontend-разработчик                                           184\n",
              "Специалист по продаже недвижимости                             183\n",
              "DevOps инженер                                                 182\n",
              "Программист                                                    181\n",
              "Менеджер проектов                                              168\n",
              "Специалист службы поддержки в Яндекс Бизнес                    168\n",
              "Риелтор                                                        167\n",
              "Агент по продаже недвижимости                                  166\n",
              "Руководитель проектов                                          165\n",
              "Младший специалист ручного тестирования                        159\n",
              "Java-разработчик                                               143\n",
              "Менеджер по продажам недвижимости                              141\n",
              "Специалист службы поддержки Рекламной сети Яндекса и ADFOX     141\n",
              "Контент-менеджер                                               132\n",
              "Ведущий системный администратор                                132\n",
              "Специалист службы поддержки пользователей                      121\n",
              "Директор по персоналу                                          118\n",
              "PHP-разработчик                                                116\n",
              "Начальник отдела кадров                                        111\n",
              "Сетевой инженер                                                111\n",
              "Ведущий программист 1C                                         109\n",
              "Менеджер проекта                                               108\n",
              "Аналитик 1С                                                    105\n",
              "Name: name, dtype: int64"
            ]
          },
          "metadata": {},
          "execution_count": 71
        }
      ]
    },
    {
      "cell_type": "code",
      "source": [],
      "metadata": {
        "id": "aaeCrUlajNjk"
      },
      "execution_count": 71,
      "outputs": []
    }
  ]
}
