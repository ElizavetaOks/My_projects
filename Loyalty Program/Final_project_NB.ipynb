{
 "cells": [
  {
   "cell_type": "markdown",
   "id": "eeca47b3",
   "metadata": {},
   "source": [
    "# Loyalty Program Analysis in Retail Company"
   ]
  },
  {
   "cell_type": "markdown",
   "id": "1b9f7320",
   "metadata": {},
   "source": [
    "Home World is a company engaged in the retail of building materials. Each customer has a membership card, where to join the loyalty program you can subscribe for $20/month. The program includes discounts, special offers, and gifts. As data analysts we have the task to check how effective the loyalty program is. We have to answer a few questions:\n",
    "\n",
    "- Is the average purchase for loyalty program users higher than for non-loyalty program users?\n",
    "- Is the purchase frequency for loyalty program users higher than for non-loyalty program users?\n",
    "- Test the hypothesis that the average purchase size is higher for loyalty program members than non-members."
   ]
  },
  {
   "cell_type": "markdown",
   "id": "85da0866",
   "metadata": {},
   "source": [
    "**Dataset Description**\n",
    "There are 2 datasets namely retail_dataset_us.csv and product_codes_us.csv. This dataset includes the following columns:\n",
    "\n",
    "Dataset retail_dataset.csv:\n",
    "\n",
    "purchaseId — A unique identification number for each purchase transaction.\n",
    "\n",
    "item_ID — A unique identification number for each item purchased in a transaction.\n",
    "\n",
    "purchasedate — The date and time the purchase transaction was made.\n",
    "\n",
    "Quantity — The number of items purchased in one transaction.\n",
    "\n",
    "CustomerID — A unique identification number for each customer.\n",
    "\n",
    "ShopID — A unique identification number for each retail store.\n",
    "\n",
    "loyalty_program — Indicates whether the customer is a member of the loyalty program or not.\n",
    "\n",
    "\n",
    "Dataset new_product_codes.csv:\n",
    "\n",
    "productID — A unique identification number for each product.\n",
    "\n",
    "price_per_one — Price per unit (units) of the product."
   ]
  },
  {
   "cell_type": "code",
   "execution_count": 1208,
   "id": "b0bdae5c",
   "metadata": {},
   "outputs": [],
   "source": [
    "# import all nessesary libraries\n",
    "import pandas as pd\n",
    "import matplotlib.pyplot as plt \n",
    "import seaborn as sns \n",
    "import numpy as np\n",
    "from scipy import stats as st\n",
    "import math as mth\n",
    "import datetime as dt\n",
    "import plotly.express as px\n",
    "import matplotlib.gridspec as gridspec\n",
    "import statsmodels.api as sm\n",
    "from scipy.stats import pearsonr\n",
    "from scipy.stats import ttest_ind"
   ]
  },
  {
   "cell_type": "code",
   "execution_count": 1209,
   "id": "8433169e",
   "metadata": {},
   "outputs": [
    {
     "data": {
      "text/html": [
       "<div>\n",
       "<style scoped>\n",
       "    .dataframe tbody tr th:only-of-type {\n",
       "        vertical-align: middle;\n",
       "    }\n",
       "\n",
       "    .dataframe tbody tr th {\n",
       "        vertical-align: top;\n",
       "    }\n",
       "\n",
       "    .dataframe thead th {\n",
       "        text-align: right;\n",
       "    }\n",
       "</style>\n",
       "<table border=\"1\" class=\"dataframe\">\n",
       "  <thead>\n",
       "    <tr style=\"text-align: right;\">\n",
       "      <th></th>\n",
       "      <th>purchaseid</th>\n",
       "      <th>item_ID</th>\n",
       "      <th>Quantity</th>\n",
       "      <th>purchasedate</th>\n",
       "      <th>CustomerID</th>\n",
       "      <th>ShopID</th>\n",
       "      <th>loyalty_program</th>\n",
       "    </tr>\n",
       "  </thead>\n",
       "  <tbody>\n",
       "    <tr>\n",
       "      <th>0</th>\n",
       "      <td>538280</td>\n",
       "      <td>21873</td>\n",
       "      <td>11</td>\n",
       "      <td>2016-12-10 12:50:00</td>\n",
       "      <td>18427.0</td>\n",
       "      <td>Shop 0</td>\n",
       "      <td>0.0</td>\n",
       "    </tr>\n",
       "    <tr>\n",
       "      <th>1</th>\n",
       "      <td>538862</td>\n",
       "      <td>22195</td>\n",
       "      <td>0</td>\n",
       "      <td>2016-12-14 14:11:00</td>\n",
       "      <td>22389.0</td>\n",
       "      <td>Shop 0</td>\n",
       "      <td>1.0</td>\n",
       "    </tr>\n",
       "    <tr>\n",
       "      <th>2</th>\n",
       "      <td>538855</td>\n",
       "      <td>21239</td>\n",
       "      <td>7</td>\n",
       "      <td>2016-12-14 13:50:00</td>\n",
       "      <td>22182.0</td>\n",
       "      <td>Shop 0</td>\n",
       "      <td>1.0</td>\n",
       "    </tr>\n",
       "    <tr>\n",
       "      <th>3</th>\n",
       "      <td>543543</td>\n",
       "      <td>22271</td>\n",
       "      <td>0</td>\n",
       "      <td>2017-02-09 15:33:00</td>\n",
       "      <td>23522.0</td>\n",
       "      <td>Shop 0</td>\n",
       "      <td>1.0</td>\n",
       "    </tr>\n",
       "    <tr>\n",
       "      <th>4</th>\n",
       "      <td>543812</td>\n",
       "      <td>79321</td>\n",
       "      <td>0</td>\n",
       "      <td>2017-02-13 14:40:00</td>\n",
       "      <td>23151.0</td>\n",
       "      <td>Shop 0</td>\n",
       "      <td>1.0</td>\n",
       "    </tr>\n",
       "  </tbody>\n",
       "</table>\n",
       "</div>"
      ],
      "text/plain": [
       "  purchaseid item_ID  Quantity        purchasedate  CustomerID  ShopID  \\\n",
       "0     538280   21873        11 2016-12-10 12:50:00     18427.0  Shop 0   \n",
       "1     538862   22195         0 2016-12-14 14:11:00     22389.0  Shop 0   \n",
       "2     538855   21239         7 2016-12-14 13:50:00     22182.0  Shop 0   \n",
       "3     543543   22271         0 2017-02-09 15:33:00     23522.0  Shop 0   \n",
       "4     543812   79321         0 2017-02-13 14:40:00     23151.0  Shop 0   \n",
       "\n",
       "   loyalty_program  \n",
       "0              0.0  \n",
       "1              1.0  \n",
       "2              1.0  \n",
       "3              1.0  \n",
       "4              1.0  "
      ]
     },
     "execution_count": 1209,
     "metadata": {},
     "output_type": "execute_result"
    }
   ],
   "source": [
    "# load the data\n",
    "retail = pd.read_csv('retail_dataset.csv', parse_dates = ['purchasedate'])\n",
    "retail.head()"
   ]
  },
  {
   "cell_type": "code",
   "execution_count": 1210,
   "id": "d70aed58",
   "metadata": {},
   "outputs": [
    {
     "name": "stdout",
     "output_type": "stream",
     "text": [
      "<class 'pandas.core.frame.DataFrame'>\n",
      "RangeIndex: 105335 entries, 0 to 105334\n",
      "Data columns (total 7 columns):\n",
      " #   Column           Non-Null Count   Dtype         \n",
      "---  ------           --------------   -----         \n",
      " 0   purchaseid       105335 non-null  object        \n",
      " 1   item_ID          105335 non-null  object        \n",
      " 2   Quantity         105335 non-null  int64         \n",
      " 3   purchasedate     105335 non-null  datetime64[ns]\n",
      " 4   CustomerID       69125 non-null   float64       \n",
      " 5   ShopID           105335 non-null  object        \n",
      " 6   loyalty_program  105335 non-null  float64       \n",
      "dtypes: datetime64[ns](1), float64(2), int64(1), object(3)\n",
      "memory usage: 5.6+ MB\n"
     ]
    }
   ],
   "source": [
    "retail.info()"
   ]
  },
  {
   "cell_type": "markdown",
   "id": "b5ea3676",
   "metadata": {},
   "source": [
    "From the information above, we know that there are 105335 rows and 7 columns. Where we can see that the CustomerID column has a missing value."
   ]
  },
  {
   "cell_type": "code",
   "execution_count": 1211,
   "id": "ca33d709",
   "metadata": {},
   "outputs": [
    {
     "data": {
      "text/html": [
       "<div>\n",
       "<style scoped>\n",
       "    .dataframe tbody tr th:only-of-type {\n",
       "        vertical-align: middle;\n",
       "    }\n",
       "\n",
       "    .dataframe tbody tr th {\n",
       "        vertical-align: top;\n",
       "    }\n",
       "\n",
       "    .dataframe thead th {\n",
       "        text-align: right;\n",
       "    }\n",
       "</style>\n",
       "<table border=\"1\" class=\"dataframe\">\n",
       "  <thead>\n",
       "    <tr style=\"text-align: right;\">\n",
       "      <th></th>\n",
       "      <th>productID</th>\n",
       "      <th>price_per_one</th>\n",
       "    </tr>\n",
       "  </thead>\n",
       "  <tbody>\n",
       "    <tr>\n",
       "      <th>0</th>\n",
       "      <td>10002</td>\n",
       "      <td>1.66</td>\n",
       "    </tr>\n",
       "    <tr>\n",
       "      <th>1</th>\n",
       "      <td>10080</td>\n",
       "      <td>0.85</td>\n",
       "    </tr>\n",
       "    <tr>\n",
       "      <th>2</th>\n",
       "      <td>10120</td>\n",
       "      <td>0.21</td>\n",
       "    </tr>\n",
       "    <tr>\n",
       "      <th>3</th>\n",
       "      <td>10123C</td>\n",
       "      <td>0.65</td>\n",
       "    </tr>\n",
       "    <tr>\n",
       "      <th>4</th>\n",
       "      <td>10124A</td>\n",
       "      <td>0.42</td>\n",
       "    </tr>\n",
       "  </tbody>\n",
       "</table>\n",
       "</div>"
      ],
      "text/plain": [
       "  productID  price_per_one\n",
       "0     10002           1.66\n",
       "1     10080           0.85\n",
       "2     10120           0.21\n",
       "3    10123C           0.65\n",
       "4    10124A           0.42"
      ]
     },
     "execution_count": 1211,
     "metadata": {},
     "output_type": "execute_result"
    }
   ],
   "source": [
    "products = pd.read_csv('new_product_codes.csv')\n",
    "products.head()"
   ]
  },
  {
   "cell_type": "code",
   "execution_count": 1212,
   "id": "bbb7c75a",
   "metadata": {},
   "outputs": [
    {
     "name": "stdout",
     "output_type": "stream",
     "text": [
      "<class 'pandas.core.frame.DataFrame'>\n",
      "RangeIndex: 3159 entries, 0 to 3158\n",
      "Data columns (total 2 columns):\n",
      " #   Column         Non-Null Count  Dtype  \n",
      "---  ------         --------------  -----  \n",
      " 0   productID      3159 non-null   object \n",
      " 1   price_per_one  3159 non-null   float64\n",
      "dtypes: float64(1), object(1)\n",
      "memory usage: 49.5+ KB\n"
     ]
    }
   ],
   "source": [
    "products.info()"
   ]
  },
  {
   "cell_type": "markdown",
   "id": "0baf6fcf",
   "metadata": {},
   "source": [
    "From the information above, we know that there are 3159 rows and 2 columns, where there are no missing values in this dataset."
   ]
  },
  {
   "cell_type": "markdown",
   "id": "4b0942bf",
   "metadata": {},
   "source": [
    "## Preprocessing Data"
   ]
  },
  {
   "cell_type": "code",
   "execution_count": 1213,
   "id": "6cb34ad3",
   "metadata": {},
   "outputs": [
    {
     "name": "stdout",
     "output_type": "stream",
     "text": [
      "Number of duplicated rows in Products:  0\n",
      "Number of duplicated rows in Retail:  1033\n"
     ]
    }
   ],
   "source": [
    "# Remove duplicate values\n",
    "print('Number of duplicated rows in Products: ', products.duplicated().sum())\n",
    "print('Number of duplicated rows in Retail: ', retail.duplicated().sum())"
   ]
  },
  {
   "cell_type": "code",
   "execution_count": 1214,
   "id": "efa70c8e",
   "metadata": {},
   "outputs": [
    {
     "data": {
      "text/plain": [
       "0.9806806854321926"
      ]
     },
     "execution_count": 1214,
     "metadata": {},
     "output_type": "execute_result"
    }
   ],
   "source": [
    "# Find percent of duplicates\n",
    "len_data= len(retail)\n",
    "total_duplicates= retail.duplicated().sum()\n",
    "percentage_duplicates= (total_duplicates/ len_data)* 100\n",
    "percentage_duplicates"
   ]
  },
  {
   "cell_type": "markdown",
   "id": "3f3cd408",
   "metadata": {},
   "source": [
    "The total duplicate values in the Retail dataset is 0.98%, this value is not too big and we decided to delete duplicated values."
   ]
  },
  {
   "cell_type": "code",
   "execution_count": 1215,
   "id": "5c11b61d",
   "metadata": {},
   "outputs": [
    {
     "name": "stdout",
     "output_type": "stream",
     "text": [
      "Number of duplicated rows in Retail:  0\n"
     ]
    }
   ],
   "source": [
    "retail.drop_duplicates(inplace = True)\n",
    "print('Number of duplicated rows in Retail: ', retail.duplicated().sum())"
   ]
  },
  {
   "cell_type": "markdown",
   "id": "0bde9131",
   "metadata": {},
   "source": [
    "No more duplicate values were found in the retail dataset."
   ]
  },
  {
   "cell_type": "code",
   "execution_count": 1216,
   "id": "01dd2f66",
   "metadata": {},
   "outputs": [
    {
     "data": {
      "text/plain": [
       "productID        0\n",
       "price_per_one    0\n",
       "dtype: int64"
      ]
     },
     "execution_count": 1216,
     "metadata": {},
     "output_type": "execute_result"
    }
   ],
   "source": [
    "# handle missing values\n",
    "products.isnull().sum()"
   ]
  },
  {
   "cell_type": "markdown",
   "id": "040bd9a5",
   "metadata": {},
   "source": [
    "There are no empty values in the Product dataset."
   ]
  },
  {
   "cell_type": "code",
   "execution_count": 1217,
   "id": "91db65e5",
   "metadata": {},
   "outputs": [
    {
     "data": {
      "text/plain": [
       "purchaseid             0\n",
       "item_ID                0\n",
       "Quantity               0\n",
       "purchasedate           0\n",
       "CustomerID         36148\n",
       "ShopID                 0\n",
       "loyalty_program        0\n",
       "dtype: int64"
      ]
     },
     "execution_count": 1217,
     "metadata": {},
     "output_type": "execute_result"
    }
   ],
   "source": [
    "retail.isnull().sum()"
   ]
  },
  {
   "cell_type": "code",
   "execution_count": 1218,
   "id": "56cf3507",
   "metadata": {},
   "outputs": [
    {
     "data": {
      "text/plain": [
       "purchaseid          0.000000\n",
       "item_ID             0.000000\n",
       "Quantity            0.000000\n",
       "purchasedate        0.000000\n",
       "CustomerID         34.657054\n",
       "ShopID              0.000000\n",
       "loyalty_program     0.000000\n",
       "dtype: float64"
      ]
     },
     "execution_count": 1218,
     "metadata": {},
     "output_type": "execute_result"
    }
   ],
   "source": [
    "missing_percentage= retail.isna().mean()* 100\n",
    "missing_percentage"
   ]
  },
  {
   "cell_type": "markdown",
   "id": "490da08e",
   "metadata": {},
   "source": [
    "There are about 34% missing values in the CustomerID column. The amount of data is too much to do the deletion process."
   ]
  },
  {
   "cell_type": "code",
   "execution_count": 1219,
   "id": "3a61c3ff",
   "metadata": {},
   "outputs": [
    {
     "data": {
      "text/html": [
       "<div>\n",
       "<style scoped>\n",
       "    .dataframe tbody tr th:only-of-type {\n",
       "        vertical-align: middle;\n",
       "    }\n",
       "\n",
       "    .dataframe tbody tr th {\n",
       "        vertical-align: top;\n",
       "    }\n",
       "\n",
       "    .dataframe thead th {\n",
       "        text-align: right;\n",
       "    }\n",
       "</style>\n",
       "<table border=\"1\" class=\"dataframe\">\n",
       "  <thead>\n",
       "    <tr style=\"text-align: right;\">\n",
       "      <th></th>\n",
       "      <th>purchaseid</th>\n",
       "      <th>item_ID</th>\n",
       "      <th>Quantity</th>\n",
       "      <th>purchasedate</th>\n",
       "      <th>CustomerID</th>\n",
       "      <th>ShopID</th>\n",
       "      <th>loyalty_program</th>\n",
       "    </tr>\n",
       "  </thead>\n",
       "  <tbody>\n",
       "    <tr>\n",
       "      <th>6</th>\n",
       "      <td>540468</td>\n",
       "      <td>22189</td>\n",
       "      <td>0</td>\n",
       "      <td>2017-01-07 13:55:00</td>\n",
       "      <td>NaN</td>\n",
       "      <td>Shop 0</td>\n",
       "      <td>0.0</td>\n",
       "    </tr>\n",
       "    <tr>\n",
       "      <th>7</th>\n",
       "      <td>541424</td>\n",
       "      <td>79321</td>\n",
       "      <td>1</td>\n",
       "      <td>2017-01-17 17:57:00</td>\n",
       "      <td>NaN</td>\n",
       "      <td>Shop 0</td>\n",
       "      <td>0.0</td>\n",
       "    </tr>\n",
       "    <tr>\n",
       "      <th>8</th>\n",
       "      <td>538883</td>\n",
       "      <td>22891</td>\n",
       "      <td>0</td>\n",
       "      <td>2016-12-14 15:56:00</td>\n",
       "      <td>NaN</td>\n",
       "      <td>Shop 0</td>\n",
       "      <td>0.0</td>\n",
       "    </tr>\n",
       "    <tr>\n",
       "      <th>11</th>\n",
       "      <td>541696</td>\n",
       "      <td>22197</td>\n",
       "      <td>4</td>\n",
       "      <td>2017-01-20 18:08:00</td>\n",
       "      <td>NaN</td>\n",
       "      <td>Shop 0</td>\n",
       "      <td>0.0</td>\n",
       "    </tr>\n",
       "    <tr>\n",
       "      <th>16</th>\n",
       "      <td>539744</td>\n",
       "      <td>22300</td>\n",
       "      <td>5</td>\n",
       "      <td>2016-12-21 15:21:00</td>\n",
       "      <td>NaN</td>\n",
       "      <td>Shop 0</td>\n",
       "      <td>0.0</td>\n",
       "    </tr>\n",
       "  </tbody>\n",
       "</table>\n",
       "</div>"
      ],
      "text/plain": [
       "   purchaseid item_ID  Quantity        purchasedate  CustomerID  ShopID  \\\n",
       "6      540468   22189         0 2017-01-07 13:55:00         NaN  Shop 0   \n",
       "7      541424   79321         1 2017-01-17 17:57:00         NaN  Shop 0   \n",
       "8      538883   22891         0 2016-12-14 15:56:00         NaN  Shop 0   \n",
       "11     541696   22197         4 2017-01-20 18:08:00         NaN  Shop 0   \n",
       "16     539744   22300         5 2016-12-21 15:21:00         NaN  Shop 0   \n",
       "\n",
       "    loyalty_program  \n",
       "6               0.0  \n",
       "7               0.0  \n",
       "8               0.0  \n",
       "11              0.0  \n",
       "16              0.0  "
      ]
     },
     "execution_count": 1219,
     "metadata": {},
     "output_type": "execute_result"
    }
   ],
   "source": [
    "null_customers = retail.loc[retail['CustomerID'].isnull()]\n",
    "null_customers.head()"
   ]
  },
  {
   "cell_type": "code",
   "execution_count": 1220,
   "id": "5249bc00",
   "metadata": {},
   "outputs": [
    {
     "data": {
      "text/plain": [
       "array([0.])"
      ]
     },
     "execution_count": 1220,
     "metadata": {},
     "output_type": "execute_result"
    }
   ],
   "source": [
    "null_customers['loyalty_program'].unique()"
   ]
  },
  {
   "cell_type": "code",
   "execution_count": 1221,
   "id": "1034f675",
   "metadata": {},
   "outputs": [
    {
     "data": {
      "text/plain": [
       "array(['Shop 0', 'Shop 25', 'Shop 6', 'Shop 21', 'Shop 23'], dtype=object)"
      ]
     },
     "execution_count": 1221,
     "metadata": {},
     "output_type": "execute_result"
    }
   ],
   "source": [
    "null_customers['ShopID'].unique()"
   ]
  },
  {
   "cell_type": "markdown",
   "id": "6a25b1b8",
   "metadata": {},
   "source": [
    "If we check, CustomerID and ShopID are not representative enough to fill in the missing value in CustomerID because the missing CustomerID is found in shop 0, 25, 21 and 23. What we know is that customers with missing CustomerID are customers who not involved in the loyalty_program. Therefore we decided to fill in missing values with 0."
   ]
  },
  {
   "cell_type": "code",
   "execution_count": 1222,
   "id": "ad3285a6",
   "metadata": {},
   "outputs": [
    {
     "data": {
      "text/plain": [
       "purchaseid         0\n",
       "item_ID            0\n",
       "Quantity           0\n",
       "purchasedate       0\n",
       "CustomerID         0\n",
       "ShopID             0\n",
       "loyalty_program    0\n",
       "dtype: int64"
      ]
     },
     "execution_count": 1222,
     "metadata": {},
     "output_type": "execute_result"
    }
   ],
   "source": [
    "retail['CustomerID']= retail['CustomerID'].fillna(0)\n",
    "retail.isna().sum()"
   ]
  },
  {
   "cell_type": "markdown",
   "id": "714f8c73",
   "metadata": {},
   "source": [
    "There are no more missing values in the CustomerID column."
   ]
  },
  {
   "cell_type": "code",
   "execution_count": 1223,
   "id": "bf0b73d5",
   "metadata": {},
   "outputs": [
    {
     "data": {
      "text/plain": [
       "Index(['purchaseid', 'item_ID', 'Quantity', 'purchasedate', 'CustomerID',\n",
       "       'ShopID', 'loyalty_program'],\n",
       "      dtype='object')"
      ]
     },
     "execution_count": 1223,
     "metadata": {},
     "output_type": "execute_result"
    }
   ],
   "source": [
    "#  Fix Column Name\n",
    "retail.columns"
   ]
  },
  {
   "cell_type": "code",
   "execution_count": 1224,
   "id": "9ab755e3",
   "metadata": {},
   "outputs": [],
   "source": [
    "retail.columns = retail.columns.str.lower()\n",
    "retail.rename(columns={\"purchaseid\": \"purchase_id\", \"customerid\": \n",
    "                      \"customer_id\", \"purchasedate\": \"purchase_date\",\n",
    "                       \"shopid\": \"shop_id\"}, inplace=True)"
   ]
  },
  {
   "cell_type": "code",
   "execution_count": 1225,
   "id": "5d94b452",
   "metadata": {},
   "outputs": [
    {
     "data": {
      "text/html": [
       "<div>\n",
       "<style scoped>\n",
       "    .dataframe tbody tr th:only-of-type {\n",
       "        vertical-align: middle;\n",
       "    }\n",
       "\n",
       "    .dataframe tbody tr th {\n",
       "        vertical-align: top;\n",
       "    }\n",
       "\n",
       "    .dataframe thead th {\n",
       "        text-align: right;\n",
       "    }\n",
       "</style>\n",
       "<table border=\"1\" class=\"dataframe\">\n",
       "  <thead>\n",
       "    <tr style=\"text-align: right;\">\n",
       "      <th></th>\n",
       "      <th>purchase_id</th>\n",
       "      <th>item_id</th>\n",
       "      <th>quantity</th>\n",
       "      <th>purchase_date</th>\n",
       "      <th>customer_id</th>\n",
       "      <th>shop_id</th>\n",
       "      <th>loyalty_program</th>\n",
       "    </tr>\n",
       "  </thead>\n",
       "  <tbody>\n",
       "    <tr>\n",
       "      <th>0</th>\n",
       "      <td>538280</td>\n",
       "      <td>21873</td>\n",
       "      <td>11</td>\n",
       "      <td>2016-12-10 12:50:00</td>\n",
       "      <td>18427.0</td>\n",
       "      <td>Shop 0</td>\n",
       "      <td>0.0</td>\n",
       "    </tr>\n",
       "    <tr>\n",
       "      <th>1</th>\n",
       "      <td>538862</td>\n",
       "      <td>22195</td>\n",
       "      <td>0</td>\n",
       "      <td>2016-12-14 14:11:00</td>\n",
       "      <td>22389.0</td>\n",
       "      <td>Shop 0</td>\n",
       "      <td>1.0</td>\n",
       "    </tr>\n",
       "    <tr>\n",
       "      <th>2</th>\n",
       "      <td>538855</td>\n",
       "      <td>21239</td>\n",
       "      <td>7</td>\n",
       "      <td>2016-12-14 13:50:00</td>\n",
       "      <td>22182.0</td>\n",
       "      <td>Shop 0</td>\n",
       "      <td>1.0</td>\n",
       "    </tr>\n",
       "    <tr>\n",
       "      <th>3</th>\n",
       "      <td>543543</td>\n",
       "      <td>22271</td>\n",
       "      <td>0</td>\n",
       "      <td>2017-02-09 15:33:00</td>\n",
       "      <td>23522.0</td>\n",
       "      <td>Shop 0</td>\n",
       "      <td>1.0</td>\n",
       "    </tr>\n",
       "    <tr>\n",
       "      <th>4</th>\n",
       "      <td>543812</td>\n",
       "      <td>79321</td>\n",
       "      <td>0</td>\n",
       "      <td>2017-02-13 14:40:00</td>\n",
       "      <td>23151.0</td>\n",
       "      <td>Shop 0</td>\n",
       "      <td>1.0</td>\n",
       "    </tr>\n",
       "  </tbody>\n",
       "</table>\n",
       "</div>"
      ],
      "text/plain": [
       "  purchase_id item_id  quantity       purchase_date  customer_id shop_id  \\\n",
       "0      538280   21873        11 2016-12-10 12:50:00      18427.0  Shop 0   \n",
       "1      538862   22195         0 2016-12-14 14:11:00      22389.0  Shop 0   \n",
       "2      538855   21239         7 2016-12-14 13:50:00      22182.0  Shop 0   \n",
       "3      543543   22271         0 2017-02-09 15:33:00      23522.0  Shop 0   \n",
       "4      543812   79321         0 2017-02-13 14:40:00      23151.0  Shop 0   \n",
       "\n",
       "   loyalty_program  \n",
       "0              0.0  \n",
       "1              1.0  \n",
       "2              1.0  \n",
       "3              1.0  \n",
       "4              1.0  "
      ]
     },
     "execution_count": 1225,
     "metadata": {},
     "output_type": "execute_result"
    }
   ],
   "source": [
    "retail.head()"
   ]
  },
  {
   "cell_type": "code",
   "execution_count": 1226,
   "id": "3e685e51",
   "metadata": {},
   "outputs": [
    {
     "data": {
      "text/plain": [
       "Index(['productID', 'price_per_one'], dtype='object')"
      ]
     },
     "execution_count": 1226,
     "metadata": {},
     "output_type": "execute_result"
    }
   ],
   "source": [
    "products.columns"
   ]
  },
  {
   "cell_type": "code",
   "execution_count": 1227,
   "id": "4fd67bc0",
   "metadata": {},
   "outputs": [
    {
     "data": {
      "text/plain": [
       "Index(['product_id', 'price_per_one'], dtype='object')"
      ]
     },
     "execution_count": 1227,
     "metadata": {},
     "output_type": "execute_result"
    }
   ],
   "source": [
    "products.columns = products.columns.str.lower()\n",
    "products.rename(columns={\"productid\": \"product_id\"}, inplace=True)\n",
    "products.columns"
   ]
  },
  {
   "cell_type": "markdown",
   "id": "769e0154",
   "metadata": {},
   "source": [
    "We updated the column names in both datasets and made them lowercase."
   ]
  },
  {
   "cell_type": "code",
   "execution_count": 1228,
   "id": "eb211e20",
   "metadata": {},
   "outputs": [
    {
     "data": {
      "text/plain": [
       "purchase_id                object\n",
       "item_id                    object\n",
       "quantity                    int64\n",
       "purchase_date      datetime64[ns]\n",
       "customer_id               float64\n",
       "shop_id                    object\n",
       "loyalty_program           float64\n",
       "dtype: object"
      ]
     },
     "execution_count": 1228,
     "metadata": {},
     "output_type": "execute_result"
    }
   ],
   "source": [
    "# Convert Data Types\n",
    "retail.dtypes"
   ]
  },
  {
   "cell_type": "markdown",
   "id": "0379bb4b",
   "metadata": {},
   "source": [
    "Based on my observations, customer_id should have an object data type, because it is a customer_id which does not need to be done mathematically."
   ]
  },
  {
   "cell_type": "code",
   "execution_count": 1229,
   "id": "ccb98ef9",
   "metadata": {},
   "outputs": [
    {
     "data": {
      "text/plain": [
       "purchase_id                object\n",
       "item_id                    object\n",
       "quantity                    int64\n",
       "purchase_date      datetime64[ns]\n",
       "customer_id                object\n",
       "shop_id                    object\n",
       "loyalty_program           float64\n",
       "dtype: object"
      ]
     },
     "execution_count": 1229,
     "metadata": {},
     "output_type": "execute_result"
    }
   ],
   "source": [
    "retail['customer_id']= retail['customer_id'].astype(str)\n",
    "retail.dtypes"
   ]
  },
  {
   "cell_type": "code",
   "execution_count": 1230,
   "id": "94b0f696",
   "metadata": {},
   "outputs": [
    {
     "data": {
      "text/plain": [
       "product_id        object\n",
       "price_per_one    float64\n",
       "dtype: object"
      ]
     },
     "execution_count": 1230,
     "metadata": {},
     "output_type": "execute_result"
    }
   ],
   "source": [
    "products.dtypes"
   ]
  },
  {
   "cell_type": "markdown",
   "id": "2a722e01",
   "metadata": {},
   "source": [
    "The data type in the product dataset is appropriate."
   ]
  },
  {
   "cell_type": "code",
   "execution_count": 1231,
   "id": "997a17df",
   "metadata": {},
   "outputs": [
    {
     "data": {
      "text/html": [
       "<div>\n",
       "<style scoped>\n",
       "    .dataframe tbody tr th:only-of-type {\n",
       "        vertical-align: middle;\n",
       "    }\n",
       "\n",
       "    .dataframe tbody tr th {\n",
       "        vertical-align: top;\n",
       "    }\n",
       "\n",
       "    .dataframe thead th {\n",
       "        text-align: right;\n",
       "    }\n",
       "</style>\n",
       "<table border=\"1\" class=\"dataframe\">\n",
       "  <thead>\n",
       "    <tr style=\"text-align: right;\">\n",
       "      <th></th>\n",
       "      <th>purchase_id</th>\n",
       "      <th>item_id</th>\n",
       "      <th>quantity</th>\n",
       "      <th>purchase_date</th>\n",
       "      <th>customer_id</th>\n",
       "      <th>shop_id</th>\n",
       "      <th>loyalty_program</th>\n",
       "      <th>price_per_one</th>\n",
       "    </tr>\n",
       "  </thead>\n",
       "  <tbody>\n",
       "    <tr>\n",
       "      <th>0</th>\n",
       "      <td>538280</td>\n",
       "      <td>21873</td>\n",
       "      <td>11</td>\n",
       "      <td>2016-12-10 12:50:00</td>\n",
       "      <td>18427.0</td>\n",
       "      <td>Shop 0</td>\n",
       "      <td>0.0</td>\n",
       "      <td>3.36</td>\n",
       "    </tr>\n",
       "    <tr>\n",
       "      <th>1</th>\n",
       "      <td>538862</td>\n",
       "      <td>22195</td>\n",
       "      <td>0</td>\n",
       "      <td>2016-12-14 14:11:00</td>\n",
       "      <td>22389.0</td>\n",
       "      <td>Shop 0</td>\n",
       "      <td>1.0</td>\n",
       "      <td>3.36</td>\n",
       "    </tr>\n",
       "    <tr>\n",
       "      <th>2</th>\n",
       "      <td>538855</td>\n",
       "      <td>21239</td>\n",
       "      <td>7</td>\n",
       "      <td>2016-12-14 13:50:00</td>\n",
       "      <td>22182.0</td>\n",
       "      <td>Shop 0</td>\n",
       "      <td>1.0</td>\n",
       "      <td>2.51</td>\n",
       "    </tr>\n",
       "    <tr>\n",
       "      <th>3</th>\n",
       "      <td>543543</td>\n",
       "      <td>22271</td>\n",
       "      <td>0</td>\n",
       "      <td>2017-02-09 15:33:00</td>\n",
       "      <td>23522.0</td>\n",
       "      <td>Shop 0</td>\n",
       "      <td>1.0</td>\n",
       "      <td>5.91</td>\n",
       "    </tr>\n",
       "    <tr>\n",
       "      <th>4</th>\n",
       "      <td>543812</td>\n",
       "      <td>79321</td>\n",
       "      <td>0</td>\n",
       "      <td>2017-02-13 14:40:00</td>\n",
       "      <td>23151.0</td>\n",
       "      <td>Shop 0</td>\n",
       "      <td>1.0</td>\n",
       "      <td>12.46</td>\n",
       "    </tr>\n",
       "  </tbody>\n",
       "</table>\n",
       "</div>"
      ],
      "text/plain": [
       "  purchase_id item_id  quantity       purchase_date customer_id shop_id  \\\n",
       "0      538280   21873        11 2016-12-10 12:50:00     18427.0  Shop 0   \n",
       "1      538862   22195         0 2016-12-14 14:11:00     22389.0  Shop 0   \n",
       "2      538855   21239         7 2016-12-14 13:50:00     22182.0  Shop 0   \n",
       "3      543543   22271         0 2017-02-09 15:33:00     23522.0  Shop 0   \n",
       "4      543812   79321         0 2017-02-13 14:40:00     23151.0  Shop 0   \n",
       "\n",
       "   loyalty_program  price_per_one  \n",
       "0              0.0           3.36  \n",
       "1              1.0           3.36  \n",
       "2              1.0           2.51  \n",
       "3              1.0           5.91  \n",
       "4              1.0          12.46  "
      ]
     },
     "execution_count": 1231,
     "metadata": {},
     "output_type": "execute_result"
    }
   ],
   "source": [
    "# Merge our datasets in one\n",
    "df = pd.merge(retail, products, left_on = 'item_id', right_on = 'product_id', how = 'left')\n",
    "df.drop('product_id', axis = 1, inplace = True)\n",
    "df.head()"
   ]
  },
  {
   "cell_type": "markdown",
   "id": "50cbf629",
   "metadata": {},
   "source": [
    "## Exploratory Data Analysis (EDA)"
   ]
  },
  {
   "cell_type": "markdown",
   "id": "d7716f06",
   "metadata": {},
   "source": [
    "In the EDA phase, we take a close look at the structure and characteristics of the data to fully understand what we are dealing with. This includes reviewing the size of the dataset, types of variables, presence of missing values, duplicates, and other important aspects. Exploration at this level allows us to form a clear picture of the data, which becomes the foundation for further analysis."
   ]
  },
  {
   "cell_type": "code",
   "execution_count": 1232,
   "id": "ce31fbab",
   "metadata": {},
   "outputs": [
    {
     "data": {
      "text/html": [
       "<div>\n",
       "<style scoped>\n",
       "    .dataframe tbody tr th:only-of-type {\n",
       "        vertical-align: middle;\n",
       "    }\n",
       "\n",
       "    .dataframe tbody tr th {\n",
       "        vertical-align: top;\n",
       "    }\n",
       "\n",
       "    .dataframe thead th {\n",
       "        text-align: right;\n",
       "    }\n",
       "</style>\n",
       "<table border=\"1\" class=\"dataframe\">\n",
       "  <thead>\n",
       "    <tr style=\"text-align: right;\">\n",
       "      <th></th>\n",
       "      <th>quantity</th>\n",
       "      <th>purchase_date</th>\n",
       "      <th>loyalty_program</th>\n",
       "      <th>price_per_one</th>\n",
       "    </tr>\n",
       "  </thead>\n",
       "  <tbody>\n",
       "    <tr>\n",
       "      <th>count</th>\n",
       "      <td>104302.000000</td>\n",
       "      <td>104302</td>\n",
       "      <td>104302.000000</td>\n",
       "      <td>104302.000000</td>\n",
       "    </tr>\n",
       "    <tr>\n",
       "      <th>mean</th>\n",
       "      <td>7.883003</td>\n",
       "      <td>2017-01-09 19:21:51.981553664</td>\n",
       "      <td>0.224464</td>\n",
       "      <td>11.161206</td>\n",
       "    </tr>\n",
       "    <tr>\n",
       "      <th>min</th>\n",
       "      <td>-74216.000000</td>\n",
       "      <td>2016-12-01 08:26:00</td>\n",
       "      <td>0.000000</td>\n",
       "      <td>0.000000</td>\n",
       "    </tr>\n",
       "    <tr>\n",
       "      <th>25%</th>\n",
       "      <td>0.000000</td>\n",
       "      <td>2016-12-12 14:27:00</td>\n",
       "      <td>0.000000</td>\n",
       "      <td>2.510000</td>\n",
       "    </tr>\n",
       "    <tr>\n",
       "      <th>50%</th>\n",
       "      <td>2.000000</td>\n",
       "      <td>2017-01-11 12:55:00</td>\n",
       "      <td>0.000000</td>\n",
       "      <td>4.210000</td>\n",
       "    </tr>\n",
       "    <tr>\n",
       "      <th>75%</th>\n",
       "      <td>7.000000</td>\n",
       "      <td>2017-02-01 15:12:00</td>\n",
       "      <td>0.000000</td>\n",
       "      <td>7.620000</td>\n",
       "    </tr>\n",
       "    <tr>\n",
       "      <th>max</th>\n",
       "      <td>74214.000000</td>\n",
       "      <td>2017-02-28 17:04:00</td>\n",
       "      <td>1.000000</td>\n",
       "      <td>16888.020000</td>\n",
       "    </tr>\n",
       "    <tr>\n",
       "      <th>std</th>\n",
       "      <td>329.565540</td>\n",
       "      <td>NaN</td>\n",
       "      <td>0.417231</td>\n",
       "      <td>184.603090</td>\n",
       "    </tr>\n",
       "  </tbody>\n",
       "</table>\n",
       "</div>"
      ],
      "text/plain": [
       "            quantity                  purchase_date  loyalty_program  \\\n",
       "count  104302.000000                         104302    104302.000000   \n",
       "mean        7.883003  2017-01-09 19:21:51.981553664         0.224464   \n",
       "min    -74216.000000            2016-12-01 08:26:00         0.000000   \n",
       "25%         0.000000            2016-12-12 14:27:00         0.000000   \n",
       "50%         2.000000            2017-01-11 12:55:00         0.000000   \n",
       "75%         7.000000            2017-02-01 15:12:00         0.000000   \n",
       "max     74214.000000            2017-02-28 17:04:00         1.000000   \n",
       "std       329.565540                            NaN         0.417231   \n",
       "\n",
       "       price_per_one  \n",
       "count  104302.000000  \n",
       "mean       11.161206  \n",
       "min         0.000000  \n",
       "25%         2.510000  \n",
       "50%         4.210000  \n",
       "75%         7.620000  \n",
       "max     16888.020000  \n",
       "std       184.603090  "
      ]
     },
     "execution_count": 1232,
     "metadata": {},
     "output_type": "execute_result"
    }
   ],
   "source": [
    "df.describe()"
   ]
  },
  {
   "cell_type": "markdown",
   "id": "7498333c",
   "metadata": {},
   "source": [
    "Conclusion :\n",
    "\n",
    "There are a total of 104,302 data where there is a fairly large gap between the mean and the median which indicates that the distribution of the data may be asymmetrical and have a long tail on one side of the distribution. In such cases, the data distribution tends to have skewness. But of course we have to do further analysis to determine the distribution.\n",
    "\n",
    "There is a minus (-) value in the quantity column, this is quite strange because every purchase should have a quantity of 1. So we need to check the data in the quantity column again.\n",
    "\n",
    "It seems that the loyalty_program column only has a value of 0 and 1 indicating whether the customer is included in the loyalty program or not. Not much can be concluded from this column, because if you look at the data this column might be categorical."
   ]
  },
  {
   "cell_type": "code",
   "execution_count": 1233,
   "id": "add6f25a",
   "metadata": {},
   "outputs": [
    {
     "data": {
      "text/html": [
       "<div>\n",
       "<style scoped>\n",
       "    .dataframe tbody tr th:only-of-type {\n",
       "        vertical-align: middle;\n",
       "    }\n",
       "\n",
       "    .dataframe tbody tr th {\n",
       "        vertical-align: top;\n",
       "    }\n",
       "\n",
       "    .dataframe thead th {\n",
       "        text-align: right;\n",
       "    }\n",
       "</style>\n",
       "<table border=\"1\" class=\"dataframe\">\n",
       "  <thead>\n",
       "    <tr style=\"text-align: right;\">\n",
       "      <th></th>\n",
       "      <th>Condition</th>\n",
       "      <th>Count</th>\n",
       "      <th>Percentage</th>\n",
       "    </tr>\n",
       "  </thead>\n",
       "  <tbody>\n",
       "    <tr>\n",
       "      <th>0</th>\n",
       "      <td>= 0</td>\n",
       "      <td>32362</td>\n",
       "      <td>31.027209</td>\n",
       "    </tr>\n",
       "    <tr>\n",
       "      <th>1</th>\n",
       "      <td>&lt; 0</td>\n",
       "      <td>2076</td>\n",
       "      <td>1.990374</td>\n",
       "    </tr>\n",
       "  </tbody>\n",
       "</table>\n",
       "</div>"
      ],
      "text/plain": [
       "  Condition  Count  Percentage\n",
       "0       = 0  32362   31.027209\n",
       "1       < 0   2076    1.990374"
      ]
     },
     "execution_count": 1233,
     "metadata": {},
     "output_type": "execute_result"
    }
   ],
   "source": [
    "# Check Column Quantity\n",
    "count_negative = (df['quantity'] < 0).sum()\n",
    "count_nol = (df['quantity'] == 0).sum()\n",
    "total_data = len(df)\n",
    "\n",
    "percentage_negative = (count_negative / total_data) * 100\n",
    "percentage_nol = (count_nol / total_data) * 100\n",
    "\n",
    "df_output = pd.DataFrame({'Condition': ['= 0', '< 0'],\n",
    "                          'Count': [count_nol, count_negative],\n",
    "                          'Percentage': [percentage_nol, percentage_negative]})\n",
    "\n",
    "df_output"
   ]
  },
  {
   "cell_type": "markdown",
   "id": "b9df4bcc",
   "metadata": {},
   "source": [
    "There are 31% of the data quantity whose value is zero in one transaction, while 2% of the data has a minus (-) quantity in one transaction.\n"
   ]
  },
  {
   "cell_type": "code",
   "execution_count": 1234,
   "id": "b49a67fb",
   "metadata": {},
   "outputs": [
    {
     "data": {
      "text/html": [
       "<div>\n",
       "<style scoped>\n",
       "    .dataframe tbody tr th:only-of-type {\n",
       "        vertical-align: middle;\n",
       "    }\n",
       "\n",
       "    .dataframe tbody tr th {\n",
       "        vertical-align: top;\n",
       "    }\n",
       "\n",
       "    .dataframe thead th {\n",
       "        text-align: right;\n",
       "    }\n",
       "</style>\n",
       "<table border=\"1\" class=\"dataframe\">\n",
       "  <thead>\n",
       "    <tr style=\"text-align: right;\">\n",
       "      <th></th>\n",
       "      <th>purchase_id</th>\n",
       "      <th>item_id</th>\n",
       "      <th>quantity</th>\n",
       "      <th>purchase_date</th>\n",
       "      <th>customer_id</th>\n",
       "      <th>shop_id</th>\n",
       "      <th>loyalty_program</th>\n",
       "      <th>price_per_one</th>\n",
       "    </tr>\n",
       "  </thead>\n",
       "  <tbody>\n",
       "    <tr>\n",
       "      <th>1</th>\n",
       "      <td>538862</td>\n",
       "      <td>22195</td>\n",
       "      <td>0</td>\n",
       "      <td>2016-12-14 14:11:00</td>\n",
       "      <td>22389.0</td>\n",
       "      <td>Shop 0</td>\n",
       "      <td>1.0</td>\n",
       "      <td>3.36</td>\n",
       "    </tr>\n",
       "    <tr>\n",
       "      <th>3</th>\n",
       "      <td>543543</td>\n",
       "      <td>22271</td>\n",
       "      <td>0</td>\n",
       "      <td>2017-02-09 15:33:00</td>\n",
       "      <td>23522.0</td>\n",
       "      <td>Shop 0</td>\n",
       "      <td>1.0</td>\n",
       "      <td>5.91</td>\n",
       "    </tr>\n",
       "    <tr>\n",
       "      <th>4</th>\n",
       "      <td>543812</td>\n",
       "      <td>79321</td>\n",
       "      <td>0</td>\n",
       "      <td>2017-02-13 14:40:00</td>\n",
       "      <td>23151.0</td>\n",
       "      <td>Shop 0</td>\n",
       "      <td>1.0</td>\n",
       "      <td>12.46</td>\n",
       "    </tr>\n",
       "    <tr>\n",
       "      <th>5</th>\n",
       "      <td>538379</td>\n",
       "      <td>22965</td>\n",
       "      <td>0</td>\n",
       "      <td>2016-12-12 11:26:00</td>\n",
       "      <td>22805.0</td>\n",
       "      <td>Shop 0</td>\n",
       "      <td>1.0</td>\n",
       "      <td>4.21</td>\n",
       "    </tr>\n",
       "    <tr>\n",
       "      <th>6</th>\n",
       "      <td>540468</td>\n",
       "      <td>22189</td>\n",
       "      <td>0</td>\n",
       "      <td>2017-01-07 13:55:00</td>\n",
       "      <td>0.0</td>\n",
       "      <td>Shop 0</td>\n",
       "      <td>0.0</td>\n",
       "      <td>8.47</td>\n",
       "    </tr>\n",
       "  </tbody>\n",
       "</table>\n",
       "</div>"
      ],
      "text/plain": [
       "  purchase_id item_id  quantity       purchase_date customer_id shop_id  \\\n",
       "1      538862   22195         0 2016-12-14 14:11:00     22389.0  Shop 0   \n",
       "3      543543   22271         0 2017-02-09 15:33:00     23522.0  Shop 0   \n",
       "4      543812   79321         0 2017-02-13 14:40:00     23151.0  Shop 0   \n",
       "5      538379   22965         0 2016-12-12 11:26:00     22805.0  Shop 0   \n",
       "6      540468   22189         0 2017-01-07 13:55:00         0.0  Shop 0   \n",
       "\n",
       "   loyalty_program  price_per_one  \n",
       "1              1.0           3.36  \n",
       "3              1.0           5.91  \n",
       "4              1.0          12.46  \n",
       "5              1.0           4.21  \n",
       "6              0.0           8.47  "
      ]
     },
     "execution_count": 1234,
     "metadata": {},
     "output_type": "execute_result"
    }
   ],
   "source": [
    "df_zero_quantity = df.loc[df['quantity'] == 0]\n",
    "df_zero_quantity.head()"
   ]
  },
  {
   "cell_type": "code",
   "execution_count": 1235,
   "id": "1c3cc1fc",
   "metadata": {},
   "outputs": [
    {
     "data": {
      "text/plain": [
       "array([1., 0.])"
      ]
     },
     "execution_count": 1235,
     "metadata": {},
     "output_type": "execute_result"
    }
   ],
   "source": [
    "df_zero_quantity['loyalty_program'].unique()"
   ]
  },
  {
   "cell_type": "code",
   "execution_count": 1236,
   "id": "7141e2c8",
   "metadata": {},
   "outputs": [
    {
     "data": {
      "text/plain": [
       "array(['Shop 0', 'Shop 12', 'Shop 1', 'Shop 11', 'Shop 8', 'Shop 10',\n",
       "       'Shop 4', 'Shop 6', 'Shop 14', 'Shop 18', 'Shop 3', 'Shop 20',\n",
       "       'Shop 19', 'Shop 7', 'Shop 22', 'Shop 16', 'Shop 5'], dtype=object)"
      ]
     },
     "execution_count": 1236,
     "metadata": {},
     "output_type": "execute_result"
    }
   ],
   "source": [
    "df_zero_quantity['shop_id'].unique()"
   ]
  },
  {
   "cell_type": "markdown",
   "id": "7841fb6d",
   "metadata": {},
   "source": [
    "After comparing quantity with loyalty_program and shop_id, there were no corresponding patterns to describe the data set with quantity zero. Both loyal and disloyal customers have transactions with a quantity of 0, and transactions with a zero quantity are also found in almost all shop_id."
   ]
  },
  {
   "cell_type": "code",
   "execution_count": 1237,
   "id": "f2f30c39",
   "metadata": {},
   "outputs": [
    {
     "data": {
      "text/html": [
       "<div>\n",
       "<style scoped>\n",
       "    .dataframe tbody tr th:only-of-type {\n",
       "        vertical-align: middle;\n",
       "    }\n",
       "\n",
       "    .dataframe tbody tr th {\n",
       "        vertical-align: top;\n",
       "    }\n",
       "\n",
       "    .dataframe thead th {\n",
       "        text-align: right;\n",
       "    }\n",
       "</style>\n",
       "<table border=\"1\" class=\"dataframe\">\n",
       "  <thead>\n",
       "    <tr style=\"text-align: right;\">\n",
       "      <th></th>\n",
       "      <th>purchase_id</th>\n",
       "      <th>item_id</th>\n",
       "      <th>quantity</th>\n",
       "      <th>purchase_date</th>\n",
       "      <th>customer_id</th>\n",
       "      <th>shop_id</th>\n",
       "      <th>loyalty_program</th>\n",
       "      <th>price_per_one</th>\n",
       "    </tr>\n",
       "  </thead>\n",
       "  <tbody>\n",
       "    <tr>\n",
       "      <th>64</th>\n",
       "      <td>C539944</td>\n",
       "      <td>22776</td>\n",
       "      <td>-2</td>\n",
       "      <td>2016-12-23 11:38:00</td>\n",
       "      <td>20239.0</td>\n",
       "      <td>Shop 0</td>\n",
       "      <td>0.0</td>\n",
       "      <td>20.38</td>\n",
       "    </tr>\n",
       "    <tr>\n",
       "      <th>109</th>\n",
       "      <td>C542910</td>\n",
       "      <td>20726</td>\n",
       "      <td>-2</td>\n",
       "      <td>2017-02-01 15:38:00</td>\n",
       "      <td>23190.0</td>\n",
       "      <td>Shop 0</td>\n",
       "      <td>1.0</td>\n",
       "      <td>5.06</td>\n",
       "    </tr>\n",
       "    <tr>\n",
       "      <th>112</th>\n",
       "      <td>C542426</td>\n",
       "      <td>22418</td>\n",
       "      <td>-25</td>\n",
       "      <td>2017-01-28 09:32:00</td>\n",
       "      <td>19825.0</td>\n",
       "      <td>Shop 0</td>\n",
       "      <td>0.0</td>\n",
       "      <td>2.51</td>\n",
       "    </tr>\n",
       "    <tr>\n",
       "      <th>253</th>\n",
       "      <td>C539726</td>\n",
       "      <td>22791</td>\n",
       "      <td>-11</td>\n",
       "      <td>2016-12-21 14:24:00</td>\n",
       "      <td>22686.0</td>\n",
       "      <td>Shop 0</td>\n",
       "      <td>1.0</td>\n",
       "      <td>2.51</td>\n",
       "    </tr>\n",
       "    <tr>\n",
       "      <th>344</th>\n",
       "      <td>C544034</td>\n",
       "      <td>21878</td>\n",
       "      <td>-2</td>\n",
       "      <td>2017-02-15 11:28:00</td>\n",
       "      <td>20380.0</td>\n",
       "      <td>Shop 0</td>\n",
       "      <td>0.0</td>\n",
       "      <td>1.66</td>\n",
       "    </tr>\n",
       "    <tr>\n",
       "      <th>...</th>\n",
       "      <td>...</td>\n",
       "      <td>...</td>\n",
       "      <td>...</td>\n",
       "      <td>...</td>\n",
       "      <td>...</td>\n",
       "      <td>...</td>\n",
       "      <td>...</td>\n",
       "      <td>...</td>\n",
       "    </tr>\n",
       "    <tr>\n",
       "      <th>104132</th>\n",
       "      <td>C541650</td>\n",
       "      <td>M</td>\n",
       "      <td>-2</td>\n",
       "      <td>2017-01-20 11:44:00</td>\n",
       "      <td>0.0</td>\n",
       "      <td>Shop 0</td>\n",
       "      <td>0.0</td>\n",
       "      <td>1715.85</td>\n",
       "    </tr>\n",
       "    <tr>\n",
       "      <th>104143</th>\n",
       "      <td>C540246</td>\n",
       "      <td>79320</td>\n",
       "      <td>-2</td>\n",
       "      <td>2017-01-05 15:43:00</td>\n",
       "      <td>18760.0</td>\n",
       "      <td>Shop 0</td>\n",
       "      <td>0.0</td>\n",
       "      <td>4.95</td>\n",
       "    </tr>\n",
       "    <tr>\n",
       "      <th>104180</th>\n",
       "      <td>C539467</td>\n",
       "      <td>22801</td>\n",
       "      <td>-2</td>\n",
       "      <td>2016-12-19 12:46:00</td>\n",
       "      <td>20723.0</td>\n",
       "      <td>Shop 0</td>\n",
       "      <td>0.0</td>\n",
       "      <td>7.62</td>\n",
       "    </tr>\n",
       "    <tr>\n",
       "      <th>104217</th>\n",
       "      <td>C540847</td>\n",
       "      <td>22197</td>\n",
       "      <td>-3</td>\n",
       "      <td>2017-01-11 17:35:00</td>\n",
       "      <td>19137.0</td>\n",
       "      <td>Shop 0</td>\n",
       "      <td>0.0</td>\n",
       "      <td>1.66</td>\n",
       "    </tr>\n",
       "    <tr>\n",
       "      <th>104267</th>\n",
       "      <td>C540164</td>\n",
       "      <td>21144</td>\n",
       "      <td>-13</td>\n",
       "      <td>2017-01-05 12:02:00</td>\n",
       "      <td>20590.0</td>\n",
       "      <td>Shop 6</td>\n",
       "      <td>0.0</td>\n",
       "      <td>3.36</td>\n",
       "    </tr>\n",
       "  </tbody>\n",
       "</table>\n",
       "<p>2076 rows × 8 columns</p>\n",
       "</div>"
      ],
      "text/plain": [
       "       purchase_id item_id  quantity       purchase_date customer_id shop_id  \\\n",
       "64         C539944   22776        -2 2016-12-23 11:38:00     20239.0  Shop 0   \n",
       "109        C542910   20726        -2 2017-02-01 15:38:00     23190.0  Shop 0   \n",
       "112        C542426   22418       -25 2017-01-28 09:32:00     19825.0  Shop 0   \n",
       "253        C539726   22791       -11 2016-12-21 14:24:00     22686.0  Shop 0   \n",
       "344        C544034   21878        -2 2017-02-15 11:28:00     20380.0  Shop 0   \n",
       "...            ...     ...       ...                 ...         ...     ...   \n",
       "104132     C541650       M        -2 2017-01-20 11:44:00         0.0  Shop 0   \n",
       "104143     C540246   79320        -2 2017-01-05 15:43:00     18760.0  Shop 0   \n",
       "104180     C539467   22801        -2 2016-12-19 12:46:00     20723.0  Shop 0   \n",
       "104217     C540847   22197        -3 2017-01-11 17:35:00     19137.0  Shop 0   \n",
       "104267     C540164   21144       -13 2017-01-05 12:02:00     20590.0  Shop 6   \n",
       "\n",
       "        loyalty_program  price_per_one  \n",
       "64                  0.0          20.38  \n",
       "109                 1.0           5.06  \n",
       "112                 0.0           2.51  \n",
       "253                 1.0           2.51  \n",
       "344                 0.0           1.66  \n",
       "...                 ...            ...  \n",
       "104132              0.0        1715.85  \n",
       "104143              0.0           4.95  \n",
       "104180              0.0           7.62  \n",
       "104217              0.0           1.66  \n",
       "104267              0.0           3.36  \n",
       "\n",
       "[2076 rows x 8 columns]"
      ]
     },
     "execution_count": 1237,
     "metadata": {},
     "output_type": "execute_result"
    }
   ],
   "source": [
    "# handle negative value (cancel items) \n",
    "cancelled = df[df['quantity']<0] \n",
    "cancelled"
   ]
  },
  {
   "cell_type": "code",
   "execution_count": 1238,
   "id": "a9105b78",
   "metadata": {},
   "outputs": [
    {
     "data": {
      "text/plain": [
       "array([0., 1.])"
      ]
     },
     "execution_count": 1238,
     "metadata": {},
     "output_type": "execute_result"
    }
   ],
   "source": [
    "cancelled['loyalty_program'].unique()"
   ]
  },
  {
   "cell_type": "code",
   "execution_count": 1239,
   "id": "67bf2379",
   "metadata": {},
   "outputs": [
    {
     "data": {
      "text/plain": [
       "array(['Shop 0', 'Shop 4', 'Shop 7', 'Shop 19', 'Shop 12', 'Shop 2',\n",
       "       'Shop 11', 'Shop 6', 'Shop 3', 'Shop 1', 'Shop 21', 'Shop 8',\n",
       "       'Shop 23', 'Shop 16', 'Shop 14', 'Shop 10', 'Shop 18', 'Shop 20'],\n",
       "      dtype=object)"
      ]
     },
     "execution_count": 1239,
     "metadata": {},
     "output_type": "execute_result"
    }
   ],
   "source": [
    "cancelled['shop_id'].unique()"
   ]
  },
  {
   "cell_type": "markdown",
   "id": "096df4cb",
   "metadata": {},
   "source": [
    "After comparing quantity with loyalty_program and shop_id, there was no pattern related to explaining the data group with negative quantity. Both loyal and disloyal customers have transactions with a negative quantity, and transactions with a negative quantity are also found in almost all shop_id."
   ]
  },
  {
   "cell_type": "markdown",
   "id": "3fc76fe1",
   "metadata": {},
   "source": [
    "The amount of data that has a value of 0 and negative exceeds 32% of the total data, so we will perform a 2 step process, namely:\n",
    "\n",
    "* Removing transaction values with quantity 0 because they are only 2% of the total quantity.\n",
    "* Replacing the transaction value with negative value with the average quantity value."
   ]
  },
  {
   "cell_type": "code",
   "execution_count": 1240,
   "id": "820ebed6",
   "metadata": {},
   "outputs": [],
   "source": [
    "# make a new_df without zero values\n",
    "#new_df = df.drop(df[df['quantity'] < 0].index).reset_index(drop=True)"
   ]
  },
  {
   "cell_type": "code",
   "execution_count": 1241,
   "id": "a6007825",
   "metadata": {},
   "outputs": [],
   "source": [
    "# find avarege value of quantity\n",
    "median_quantity = round(df['quantity'].median())\n",
    "df_modified = df.copy()  \n",
    "df_modified.loc[df['quantity'] < 1, 'quantity'] = median_quantity"
   ]
  },
  {
   "cell_type": "code",
   "execution_count": 1242,
   "id": "1a3a28ce",
   "metadata": {},
   "outputs": [
    {
     "data": {
      "text/plain": [
       "151"
      ]
     },
     "execution_count": 1242,
     "metadata": {},
     "output_type": "execute_result"
    }
   ],
   "source": [
    "# check duplicates in modified df\n",
    "df_modified.duplicated().sum()"
   ]
  },
  {
   "cell_type": "code",
   "execution_count": 1243,
   "id": "d3b2292a",
   "metadata": {},
   "outputs": [
    {
     "data": {
      "text/plain": [
       "0.1"
      ]
     },
     "execution_count": 1243,
     "metadata": {},
     "output_type": "execute_result"
    }
   ],
   "source": [
    "percentage_duplicates = round(((df_modified.duplicated().sum()) / (len(df_modified))) * 100,1)\n",
    "percentage_duplicates"
   ]
  },
  {
   "cell_type": "code",
   "execution_count": 1244,
   "id": "b731d901",
   "metadata": {},
   "outputs": [
    {
     "data": {
      "text/plain": [
       "0"
      ]
     },
     "execution_count": 1244,
     "metadata": {},
     "output_type": "execute_result"
    }
   ],
   "source": [
    "# drop duplicates\n",
    "df_modified = df_modified.drop_duplicates()\n",
    "df_modified.duplicated().sum()"
   ]
  },
  {
   "cell_type": "code",
   "execution_count": 1245,
   "id": "5c73cd53",
   "metadata": {},
   "outputs": [
    {
     "data": {
      "image/png": "[encoded data removed]",
      "text/plain": [
       "<Figure size 640x480 with 1 Axes>"
      ]
     },
     "metadata": {},
     "output_type": "display_data"
    }
   ],
   "source": [
    "# Checking data for outliers\n",
    "'''In our data there is only one column with numeric values, let's check it'''\n",
    "plt.boxplot(df_modified.quantity)\n",
    "plt.ylabel('Values')\n",
    "plt.title('BoxPlot of Item Quantity')\n",
    "plt.show()"
   ]
  },
  {
   "cell_type": "markdown",
   "id": "945d2137",
   "metadata": {},
   "source": [
    "There are quite a lot of outliners found in the quantity column based on the observation of the boxplot graph. "
   ]
  },
  {
   "cell_type": "code",
   "execution_count": 1246,
   "id": "a4421616",
   "metadata": {},
   "outputs": [
    {
     "data": {
      "image/png": "[encoded data removed]",
      "text/plain": [
       "<Figure size 1000x500 with 1 Axes>"
      ]
     },
     "metadata": {},
     "output_type": "display_data"
    }
   ],
   "source": [
    "fig, ax = plt.subplots(figsize=(10, 5))\n",
    "ax.scatter(range(len(df_modified)), df_modified['quantity'])\n",
    "ax.set_title('Scatter Plot of Quantity')\n",
    "ax.set_xlabel('Index')\n",
    "ax.set_ylabel('Quantity')\n",
    "plt.show()"
   ]
  },
  {
   "cell_type": "markdown",
   "id": "22b7dad7",
   "metadata": {},
   "source": [
    "We try to display the quantity data using a scatter plot, where the distribution is more visible, but we find outliers with quite striking values."
   ]
  },
  {
   "cell_type": "code",
   "execution_count": 1247,
   "id": "7633303b",
   "metadata": {},
   "outputs": [
    {
     "data": {
      "text/plain": [
       "count    104151.000000\n",
       "mean          9.700733\n",
       "std         234.207369\n",
       "min           1.000000\n",
       "25%           2.000000\n",
       "50%           2.000000\n",
       "75%           7.000000\n",
       "max       74214.000000\n",
       "Name: quantity, dtype: float64"
      ]
     },
     "execution_count": 1247,
     "metadata": {},
     "output_type": "execute_result"
    }
   ],
   "source": [
    "df_modified.quantity.describe()"
   ]
  },
  {
   "cell_type": "code",
   "execution_count": 1248,
   "id": "301db7dd",
   "metadata": {},
   "outputs": [
    {
     "name": "stdout",
     "output_type": "stream",
     "text": [
      "Count of outliers in column 'quantity': 11616\n",
      "Percentage of outliers in column 'quantity': 11.15%\n",
      "\n"
     ]
    }
   ],
   "source": [
    "# find outliers with Interquartile Range\n",
    "columns = ['quantity']\n",
    "outlier_percentage = {}\n",
    "\n",
    "for column in columns:\n",
    "    column_data = df_modified[column]\n",
    "\n",
    "    Q1 = np.percentile(column_data, 25)\n",
    "    Q3 = np.percentile(column_data, 75)\n",
    "    IQR = Q3 - Q1\n",
    "\n",
    "    lower_bound = Q1 - 1.5 * IQR\n",
    "    upper_bound = Q3 + 1.5 * IQR\n",
    "\n",
    "    outliers = column_data[(column_data < lower_bound) | (column_data > upper_bound)]\n",
    "    outlier_percentage[column] = len(outliers) / len(column_data) * 100\n",
    "\n",
    "# Display the outlier percentage for each column\n",
    "for column, percentage in outlier_percentage.items():\n",
    "    print(f\"Count of outliers in column '{column}': {len(outliers)}\")\n",
    "    print(f\"Percentage of outliers in column '{column}': {percentage:.2f}%\")\n",
    "    print()"
   ]
  },
  {
   "cell_type": "markdown",
   "id": "4172fe1c",
   "metadata": {},
   "source": [
    "There are 9831 data which are outliners. We decided to change the values of the outliners to the values of the upper and lower bounds, to preserve the number of samples."
   ]
  },
  {
   "cell_type": "code",
   "execution_count": 1249,
   "id": "dd8da206",
   "metadata": {},
   "outputs": [],
   "source": [
    "# define lower and upper bounds\n",
    "columns = ['quantity']\n",
    "lower_bounds, upper_bounds = [], []\n",
    "for column in columns :\n",
    "    lower_bound = retail_modified[column].describe()['25%'] - (1.5 * (retail_modified[column].describe()['75%'] -\n",
    "                                                                          retail_modified[column].describe()['25%']))\n",
    "    upper_bound = retail_modified[column].describe()['75%'] + (1.5 * (retail_modified[column].describe()['75%'] -\n",
    "                                                                          retail_modified[column].describe()['25%']))\n",
    "    lower_bounds.append(lower_bound)\n",
    "    upper_bounds.append(upper_bound)"
   ]
  },
  {
   "cell_type": "code",
   "execution_count": 1250,
   "id": "c96c7d19",
   "metadata": {},
   "outputs": [],
   "source": [
    "# create new df with outliers replaced with upper bounds and lower bounds\n",
    "new_df_modified = df_modified.copy()\n",
    "for n, column in enumerate(columns):\n",
    "    new_df_modified[column] = np.where(new_df_modified[column] < lower_bounds[n], lower_bounds[n], new_df_modified[column])\n",
    "    new_df_modified[column] = np.where(new_df_modified[column] > upper_bounds[n], upper_bounds[n], new_df_modified[column])"
   ]
  },
  {
   "cell_type": "markdown",
   "id": "a4ba923e",
   "metadata": {},
   "source": [
    "The outliner has been successfully changed to upper/lower bounds and after checking again, no outliers were found."
   ]
  },
  {
   "cell_type": "code",
   "execution_count": 1251,
   "id": "e82e87f5",
   "metadata": {},
   "outputs": [
    {
     "data": {
      "image/png": "[encoded data removed]",
      "text/plain": [
       "<Figure size 640x480 with 1 Axes>"
      ]
     },
     "metadata": {},
     "output_type": "display_data"
    }
   ],
   "source": [
    "# Checking data for outliers\n",
    "'''In our data there is only one column with numeric values, let's check it'''\n",
    "plt.boxplot(new_df_modified.quantity)\n",
    "plt.ylabel('Values')\n",
    "plt.title('BoxPlot of Item Quantity')\n",
    "plt.show()"
   ]
  },
  {
   "cell_type": "code",
   "execution_count": 1252,
   "id": "6215f5c3",
   "metadata": {},
   "outputs": [
    {
     "data": {
      "text/plain": [
       "16"
      ]
     },
     "execution_count": 1252,
     "metadata": {},
     "output_type": "execute_result"
    }
   ],
   "source": [
    "new_df_modified.duplicated().sum()"
   ]
  },
  {
   "cell_type": "code",
   "execution_count": 1253,
   "id": "b788dc0c",
   "metadata": {},
   "outputs": [
    {
     "data": {
      "text/plain": [
       "0"
      ]
     },
     "execution_count": 1253,
     "metadata": {},
     "output_type": "execute_result"
    }
   ],
   "source": [
    "new_df_modified = new_df_modified.drop_duplicates()\n",
    "new_df_modified.duplicated().sum()"
   ]
  },
  {
   "cell_type": "code",
   "execution_count": 1254,
   "id": "59a3f8a3",
   "metadata": {},
   "outputs": [
    {
     "data": {
      "text/plain": [
       "purchase_date\n",
       "2016-12-01    3049\n",
       "2016-12-02    2064\n",
       "2016-12-03    2183\n",
       "2016-12-05    2606\n",
       "2016-12-06    3826\n",
       "              ... \n",
       "2017-02-23    1574\n",
       "2017-02-24    1289\n",
       "2017-02-25     977\n",
       "2017-02-27     782\n",
       "2017-02-28    1716\n",
       "Length: 68, dtype: int64"
      ]
     },
     "execution_count": 1254,
     "metadata": {},
     "output_type": "execute_result"
    }
   ],
   "source": [
    "# Number of Purchases per Day\n",
    "purchases_by_day = new_df_modified.groupby(new_df_modified['purchase_date'].dt.date).size()\n",
    "purchases_by_day"
   ]
  },
  {
   "cell_type": "code",
   "execution_count": 1255,
   "id": "6a845692",
   "metadata": {},
   "outputs": [
    {
     "data": {
      "image/png": "[encoded data removed]",
      "text/plain": [
       "<Figure size 2000x600 with 1 Axes>"
      ]
     },
     "metadata": {},
     "output_type": "display_data"
    }
   ],
   "source": [
    "plt.figure(figsize=(20, 6))\n",
    "plt.bar(purchases_by_day.index, purchases_by_day.values)\n",
    "plt.xlabel('Date')\n",
    "plt.ylabel('Number of Purchases')\n",
    "plt.title('Number of Purchases by Day')\n",
    "plt.xticks(rotation=45)\n",
    "plt.show()"
   ]
  },
  {
   "cell_type": "code",
   "execution_count": 1256,
   "id": "b76dfdf2",
   "metadata": {},
   "outputs": [
    {
     "name": "stdout",
     "output_type": "stream",
     "text": [
      "Minimum purchase date: 2016-12-01 08:26:00\n",
      "Maximum purchase date: 2017-02-28 17:04:00\n"
     ]
    }
   ],
   "source": [
    "# Calculate the minimum and maximum purchase_date\n",
    "min_purchase_date= new_df_modified['purchase_date'].min()\n",
    "max_purchase_date= new_df_modified['purchase_date'].max()\n",
    "\n",
    "print(\"Minimum purchase date:\", min_purchase_date)\n",
    "print(\"Maximum purchase date:\", max_purchase_date)"
   ]
  },
  {
   "cell_type": "markdown",
   "id": "4fc030fa",
   "metadata": {},
   "source": [
    "* This dataset contains retail data from 1 December 2016 to 28 February 2017 or 3 months.\n",
    "* Transactions do not occur every day, especially from the end of December to January 1. There may be no transactions due to the year-end holiday.\n",
    "* The highest transaction was at the beginning of December, after that the transaction rose and fell but never exceeded the highest transaction in December."
   ]
  },
  {
   "cell_type": "code",
   "execution_count": 1257,
   "id": "adc7eb2c",
   "metadata": {},
   "outputs": [
    {
     "data": {
      "text/html": [
       "<div>\n",
       "<style scoped>\n",
       "    .dataframe tbody tr th:only-of-type {\n",
       "        vertical-align: middle;\n",
       "    }\n",
       "\n",
       "    .dataframe tbody tr th {\n",
       "        vertical-align: top;\n",
       "    }\n",
       "\n",
       "    .dataframe thead th {\n",
       "        text-align: right;\n",
       "    }\n",
       "</style>\n",
       "<table border=\"1\" class=\"dataframe\">\n",
       "  <thead>\n",
       "    <tr style=\"text-align: right;\">\n",
       "      <th></th>\n",
       "      <th>purchase_date</th>\n",
       "      <th>loyalty_program</th>\n",
       "      <th>Transaction Count</th>\n",
       "    </tr>\n",
       "  </thead>\n",
       "  <tbody>\n",
       "    <tr>\n",
       "      <th>0</th>\n",
       "      <td>2016-12-01 08:26:00</td>\n",
       "      <td>1.0</td>\n",
       "      <td>7</td>\n",
       "    </tr>\n",
       "    <tr>\n",
       "      <th>1</th>\n",
       "      <td>2016-12-01 08:28:00</td>\n",
       "      <td>1.0</td>\n",
       "      <td>2</td>\n",
       "    </tr>\n",
       "    <tr>\n",
       "      <th>2</th>\n",
       "      <td>2016-12-01 08:34:00</td>\n",
       "      <td>0.0</td>\n",
       "      <td>16</td>\n",
       "    </tr>\n",
       "    <tr>\n",
       "      <th>3</th>\n",
       "      <td>2016-12-01 08:35:00</td>\n",
       "      <td>0.0</td>\n",
       "      <td>1</td>\n",
       "    </tr>\n",
       "    <tr>\n",
       "      <th>4</th>\n",
       "      <td>2016-12-01 08:45:00</td>\n",
       "      <td>0.0</td>\n",
       "      <td>20</td>\n",
       "    </tr>\n",
       "    <tr>\n",
       "      <th>...</th>\n",
       "      <td>...</td>\n",
       "      <td>...</td>\n",
       "      <td>...</td>\n",
       "    </tr>\n",
       "    <tr>\n",
       "      <th>4556</th>\n",
       "      <td>2017-02-28 16:47:00</td>\n",
       "      <td>0.0</td>\n",
       "      <td>225</td>\n",
       "    </tr>\n",
       "    <tr>\n",
       "      <th>4557</th>\n",
       "      <td>2017-02-28 16:50:00</td>\n",
       "      <td>0.0</td>\n",
       "      <td>179</td>\n",
       "    </tr>\n",
       "    <tr>\n",
       "      <th>4558</th>\n",
       "      <td>2017-02-28 16:59:00</td>\n",
       "      <td>0.0</td>\n",
       "      <td>167</td>\n",
       "    </tr>\n",
       "    <tr>\n",
       "      <th>4559</th>\n",
       "      <td>2017-02-28 17:01:00</td>\n",
       "      <td>1.0</td>\n",
       "      <td>14</td>\n",
       "    </tr>\n",
       "    <tr>\n",
       "      <th>4560</th>\n",
       "      <td>2017-02-28 17:04:00</td>\n",
       "      <td>0.0</td>\n",
       "      <td>1</td>\n",
       "    </tr>\n",
       "  </tbody>\n",
       "</table>\n",
       "<p>4561 rows × 3 columns</p>\n",
       "</div>"
      ],
      "text/plain": [
       "           purchase_date  loyalty_program  Transaction Count\n",
       "0    2016-12-01 08:26:00              1.0                  7\n",
       "1    2016-12-01 08:28:00              1.0                  2\n",
       "2    2016-12-01 08:34:00              0.0                 16\n",
       "3    2016-12-01 08:35:00              0.0                  1\n",
       "4    2016-12-01 08:45:00              0.0                 20\n",
       "...                  ...              ...                ...\n",
       "4556 2017-02-28 16:47:00              0.0                225\n",
       "4557 2017-02-28 16:50:00              0.0                179\n",
       "4558 2017-02-28 16:59:00              0.0                167\n",
       "4559 2017-02-28 17:01:00              1.0                 14\n",
       "4560 2017-02-28 17:04:00              0.0                  1\n",
       "\n",
       "[4561 rows x 3 columns]"
      ]
     },
     "execution_count": 1257,
     "metadata": {},
     "output_type": "execute_result"
    }
   ],
   "source": [
    "transactions_per_date= new_df_modified.groupby(\n",
    "                  ['purchase_date', 'loyalty_program']).size().reset_index(\n",
    "                  name='Transaction Count')\n",
    "transactions_per_date"
   ]
  },
  {
   "cell_type": "code",
   "execution_count": 1258,
   "id": "97e76783",
   "metadata": {},
   "outputs": [],
   "source": [
    "# Calculate the number of transactions per date with loyalty_program\n",
    "transactions_per_date = new_df_modified.groupby(\n",
    "                  ['purchase_date', 'loyalty_program']).size().reset_index(\n",
    "                  name='Transaction Count')"
   ]
  },
  {
   "cell_type": "code",
   "execution_count": 1259,
   "id": "f9802d0c",
   "metadata": {},
   "outputs": [
    {
     "data": {
      "image/png": "[encoded data removed]",
      "text/plain": [
       "<Figure size 2000x600 with 1 Axes>"
      ]
     },
     "metadata": {},
     "output_type": "display_data"
    }
   ],
   "source": [
    "# Create a new DataFrame for each loyalty_program category\n",
    "loyalty_program_0 = transactions_per_date[transactions_per_date[\n",
    "                  'loyalty_program'] == 0]\n",
    "loyalty_program_1 = transactions_per_date[transactions_per_date[\n",
    "                  'loyalty_program'] == 1]\n",
    "\n",
    "plt.figure(figsize=(20, 6))\n",
    "\n",
    "# Plot the transactions for loyalty_program \n",
    "plt.bar(loyalty_program_0['purchase_date'], loyalty_program_0[\n",
    "                    'Transaction Count'], label='Loyalty Program 0')\n",
    "plt.bar(loyalty_program_1['purchase_date'], loyalty_program_1[\n",
    "                    'Transaction Count'], label='Loyalty Program 1')\n",
    "\n",
    "plt.xlabel('Date')\n",
    "plt.ylabel('Transaction Count')\n",
    "plt.title('Number of Transactions per Date with Loyalty Program Breakdown')\n",
    "\n",
    "plt.xticks(rotation=45)\n",
    "\n",
    "plt.legend(title='Loyalty Program')\n",
    "plt.show()"
   ]
  },
  {
   "cell_type": "markdown",
   "id": "550de157",
   "metadata": {},
   "source": [
    "Based on transaction data, only a small portion of transactions are made by customers who have a loyalty program.\n",
    "Customers without a loyalty program are always larger than customer transactions with a non-loyalty program except for the beginning of February.\n"
   ]
  },
  {
   "cell_type": "code",
   "execution_count": 1260,
   "id": "7f5f6193",
   "metadata": {},
   "outputs": [
    {
     "data": {
      "text/plain": [
       "purchase_id                object\n",
       "item_id                    object\n",
       "quantity                  float64\n",
       "purchase_date      datetime64[ns]\n",
       "customer_id                object\n",
       "shop_id                    object\n",
       "loyalty_program           float64\n",
       "price_per_one             float64\n",
       "dtype: object"
      ]
     },
     "execution_count": 1260,
     "metadata": {},
     "output_type": "execute_result"
    }
   ],
   "source": [
    "new_df_modified.dtypes"
   ]
  },
  {
   "cell_type": "code",
   "execution_count": 1261,
   "id": "7f84e03e",
   "metadata": {},
   "outputs": [
    {
     "name": "stdout",
     "output_type": "stream",
     "text": [
      "Total number of users: 1749\n"
     ]
    }
   ],
   "source": [
    "# Number of Customers\n",
    "'''Calculate the total number of users, \n",
    "the number of loyal and non-loyal users, \n",
    "and the number of users by shop'''\n",
    "\n",
    "# Exclude rows with customer_id = 0\n",
    "filtered_data = new_df_modified[new_df_modified['customer_id']!= \"0.0\"]\n",
    "total_users= filtered_data['customer_id'].nunique()\n",
    "\n",
    "print('Total number of users:', total_users)"
   ]
  },
  {
   "cell_type": "code",
   "execution_count": 1262,
   "id": "e05af803",
   "metadata": {},
   "outputs": [
    {
     "data": {
      "text/html": [
       "<div>\n",
       "<style scoped>\n",
       "    .dataframe tbody tr th:only-of-type {\n",
       "        vertical-align: middle;\n",
       "    }\n",
       "\n",
       "    .dataframe tbody tr th {\n",
       "        vertical-align: top;\n",
       "    }\n",
       "\n",
       "    .dataframe thead th {\n",
       "        text-align: right;\n",
       "    }\n",
       "</style>\n",
       "<table border=\"1\" class=\"dataframe\">\n",
       "  <thead>\n",
       "    <tr style=\"text-align: right;\">\n",
       "      <th></th>\n",
       "      <th>loyalty_program</th>\n",
       "      <th>customer_id</th>\n",
       "      <th>%</th>\n",
       "    </tr>\n",
       "  </thead>\n",
       "  <tbody>\n",
       "    <tr>\n",
       "      <th>0</th>\n",
       "      <td>0.0</td>\n",
       "      <td>1162</td>\n",
       "      <td>66.437965</td>\n",
       "    </tr>\n",
       "    <tr>\n",
       "      <th>1</th>\n",
       "      <td>1.0</td>\n",
       "      <td>587</td>\n",
       "      <td>33.562035</td>\n",
       "    </tr>\n",
       "  </tbody>\n",
       "</table>\n",
       "</div>"
      ],
      "text/plain": [
       "   loyalty_program  customer_id          %\n",
       "0              0.0         1162  66.437965\n",
       "1              1.0          587  33.562035"
      ]
     },
     "execution_count": 1262,
     "metadata": {},
     "output_type": "execute_result"
    }
   ],
   "source": [
    "# Group by loyalty program and calculate the count of unique customer IDs\n",
    "customer_count_by_loyalty_program = filtered_data.groupby(\n",
    "                'loyalty_program')['customer_id'].nunique().reset_index()\n",
    "\n",
    "# Calculate the percentage contribution of each loyalty program category\n",
    "customer_count_by_loyalty_program['%'] = (customer_count_by_loyalty_program\n",
    "                ['customer_id'] / total_users) * 100\n",
    "\n",
    "customer_count_by_loyalty_program"
   ]
  },
  {
   "cell_type": "code",
   "execution_count": 1263,
   "id": "4e5f9f63",
   "metadata": {},
   "outputs": [
    {
     "data": {
      "image/png": "[encoded data removed]",
      "text/plain": [
       "<Figure size 600x600 with 1 Axes>"
      ]
     },
     "metadata": {},
     "output_type": "display_data"
    }
   ],
   "source": [
    "# Create a pie chart\n",
    "labels = customer_count_by_loyalty_program['loyalty_program']\n",
    "sizes = customer_count_by_loyalty_program['%']\n",
    "explode = (0.1, 0) \n",
    "\n",
    "plt.figure(figsize=(6, 6))\n",
    "plt.pie(sizes, explode=explode, labels=labels, autopct='%1.1f%%', \n",
    "            shadow=True, startangle=90)\n",
    "plt.title('Loyalty Program Distribution')\n",
    "sns.set()\n",
    "\n",
    "plt.show()"
   ]
  },
  {
   "cell_type": "markdown",
   "id": "880a6e1e",
   "metadata": {},
   "source": [
    "Only 33.6% or 565 users joined program_loyalty. The majority of users have not used yet the loyalty program in their transactions."
   ]
  },
  {
   "cell_type": "code",
   "execution_count": 1264,
   "id": "da6a67c9",
   "metadata": {},
   "outputs": [
    {
     "name": "stdout",
     "output_type": "stream",
     "text": [
      "Number of Purchases: 104135\n",
      "Number of Unique Customers: 1750\n",
      "Average Purchases per Customer: 59.5\n"
     ]
    }
   ],
   "source": [
    "# Number of Purchases per Customer (Average Purchase)\n",
    "'''Calculate the number of purchases per customer \n",
    "and the number of purchases per loyal and non-loyal customers.'''\n",
    "number_purchases = len(new_df_modified)\n",
    "number_unique_customers = new_df_modified[\"customer_id\"].nunique()\n",
    "average_purchase_per_customer = number_purchases/ number_unique_customers\n",
    "\n",
    "print(\"Number of Purchases:\", number_purchases)\n",
    "print(\"Number of Unique Customers:\", number_unique_customers)\n",
    "print(\"Average Purchases per Customer:\", round(average_purchase_per_customer,1))"
   ]
  },
  {
   "cell_type": "code",
   "execution_count": 1265,
   "id": "c2be24b5",
   "metadata": {},
   "outputs": [
    {
     "name": "stdout",
     "output_type": "stream",
     "text": [
      "Number of Loyal Customers: 587\n",
      "Number of Non-Loyal Customers: 1163\n",
      "Average Purchase per Loyal Customer: 39.8\n",
      "Average Purchase per Non-Loyal Customer: 69.5\n"
     ]
    }
   ],
   "source": [
    "number_purchase_per_loyalty = new_df_modified.groupby('loyalty_program')['purchase_id'].count()\n",
    "number_of_loyal_customers = new_df_modified[new_df_modified[\"loyalty_program\"]== 1][\"customer_id\"].nunique()\n",
    "number_customers_nonloyal= new_df_modified[new_df_modified[\"loyalty_program\"]== 0][\"customer_id\"].nunique()\n",
    "\n",
    "average_purchase_per_customer_loyal= number_purchase_per_loyalty[1] / number_of_loyal_customers\n",
    "average_purchases_per_customer_nonloyal= number_purchase_per_loyalty[0] / number_customers_nonloyal\n",
    "\n",
    "print(\"Number of Loyal Customers:\", number_of_loyal_customers)\n",
    "print(\"Number of Non-Loyal Customers:\", number_customers_nonloyal)\n",
    "print(\"Average Purchase per Loyal Customer:\", round(average_purchase_per_customer_loyal, 1))\n",
    "print(\"Average Purchase per Non-Loyal Customer:\", round(average_purchases_per_customer_nonloyal, 1))"
   ]
  },
  {
   "cell_type": "code",
   "execution_count": null,
   "id": "9befcd39",
   "metadata": {},
   "outputs": [],
   "source": []
  },
  {
   "cell_type": "markdown",
   "id": "b56e34cf",
   "metadata": {},
   "source": [
    "There is a difference between the average purchase per customer between loyal and non-loyal customers. Loyal customers have an average of 40 purchases per customer, while non-loyal customers have an average of 70 purchases per customer. The average purchase per non-loyal customer is greater than the average purchase per loyal customer."
   ]
  },
  {
   "cell_type": "code",
   "execution_count": 1266,
   "id": "0ce83c27",
   "metadata": {},
   "outputs": [
    {
     "name": "stdout",
     "output_type": "stream",
     "text": [
      "Average Purchase Size for Loyalty Program Customers: 5.5\n",
      "Average Purchase Size for Non-Loyalty Program Customers: 5.1\n"
     ]
    }
   ],
   "source": [
    "# Purchases Size and Purchases Frequency\n",
    "'''Average purchase based on the loyalty program and non-loyalty program'''\n",
    "# Calculating average purchase size by loyalty program\n",
    "loyal_customers = new_df_modified[new_df_modified['loyalty_program'] == 1]\n",
    "average_quantity_loyal = loyal_customers['quantity'].mean()\n",
    "\n",
    "non_loyal_customers = new_df_modified[new_df_modified['loyalty_program'] == 0]\n",
    "average_quantity_non_loyal = non_loyal_customers['quantity'].mean()\n",
    "\n",
    "print(\"Average Purchase Size for Loyalty Program Customers:\", round(average_quantity_loyal,1))\n",
    "print(\"Average Purchase Size for Non-Loyalty Program Customers:\", round(average_quantity_non_loyal,1))"
   ]
  },
  {
   "cell_type": "code",
   "execution_count": 1267,
   "id": "52543a22",
   "metadata": {},
   "outputs": [
    {
     "name": "stdout",
     "output_type": "stream",
     "text": [
      "Frequency of Purchases for Loyalty Program Customers: 23347\n",
      "Frequency of Purchases for Non-Loyalty Program Customers: 80788\n"
     ]
    }
   ],
   "source": [
    "# Calculating frequency of purchases by loyalty program\n",
    "loyal_customers_freq = new_df_modified[new_df_modified['loyalty_program']== 1].shape[0]\n",
    "non_loyal_customers_freq = new_df_modified[new_df_modified['loyalty_program']== 0].shape[0]\n",
    "\n",
    "print(\"Frequency of Purchases for Loyalty Program Customers:\", loyal_customers_freq)\n",
    "print(\"Frequency of Purchases for Non-Loyalty Program Customers:\", non_loyal_customers_freq)"
   ]
  },
  {
   "cell_type": "markdown",
   "id": "29225eb6",
   "metadata": {},
   "source": [
    "The magnitude of customer transactions with the loyalty program is greater than the non-loyalty program, which is 5,6 and the non-loyal program is 5,1. While the frequency of purchase for the loyalty program is smaller than that of the non-loyalty program. With the loyalty program, it is 22912 and 79163 without the loyalty program."
   ]
  },
  {
   "cell_type": "code",
   "execution_count": 1268,
   "id": "fa25936b",
   "metadata": {},
   "outputs": [
    {
     "data": {
      "text/html": [
       "<div>\n",
       "<style scoped>\n",
       "    .dataframe tbody tr th:only-of-type {\n",
       "        vertical-align: middle;\n",
       "    }\n",
       "\n",
       "    .dataframe tbody tr th {\n",
       "        vertical-align: top;\n",
       "    }\n",
       "\n",
       "    .dataframe thead th {\n",
       "        text-align: right;\n",
       "    }\n",
       "</style>\n",
       "<table border=\"1\" class=\"dataframe\">\n",
       "  <thead>\n",
       "    <tr style=\"text-align: right;\">\n",
       "      <th></th>\n",
       "      <th>purchase_id</th>\n",
       "      <th>item_id</th>\n",
       "      <th>quantity</th>\n",
       "      <th>purchase_date</th>\n",
       "      <th>customer_id</th>\n",
       "      <th>shop_id</th>\n",
       "      <th>loyalty_program</th>\n",
       "      <th>price_per_one</th>\n",
       "      <th>total_sales</th>\n",
       "    </tr>\n",
       "  </thead>\n",
       "  <tbody>\n",
       "    <tr>\n",
       "      <th>0</th>\n",
       "      <td>538280</td>\n",
       "      <td>21873</td>\n",
       "      <td>11.0</td>\n",
       "      <td>2016-12-10 12:50:00</td>\n",
       "      <td>18427.0</td>\n",
       "      <td>Shop 0</td>\n",
       "      <td>0.0</td>\n",
       "      <td>3.36</td>\n",
       "      <td>36.96</td>\n",
       "    </tr>\n",
       "    <tr>\n",
       "      <th>1</th>\n",
       "      <td>538862</td>\n",
       "      <td>22195</td>\n",
       "      <td>2.0</td>\n",
       "      <td>2016-12-14 14:11:00</td>\n",
       "      <td>22389.0</td>\n",
       "      <td>Shop 0</td>\n",
       "      <td>1.0</td>\n",
       "      <td>3.36</td>\n",
       "      <td>6.72</td>\n",
       "    </tr>\n",
       "    <tr>\n",
       "      <th>2</th>\n",
       "      <td>538855</td>\n",
       "      <td>21239</td>\n",
       "      <td>7.0</td>\n",
       "      <td>2016-12-14 13:50:00</td>\n",
       "      <td>22182.0</td>\n",
       "      <td>Shop 0</td>\n",
       "      <td>1.0</td>\n",
       "      <td>2.51</td>\n",
       "      <td>17.57</td>\n",
       "    </tr>\n",
       "    <tr>\n",
       "      <th>3</th>\n",
       "      <td>543543</td>\n",
       "      <td>22271</td>\n",
       "      <td>2.0</td>\n",
       "      <td>2017-02-09 15:33:00</td>\n",
       "      <td>23522.0</td>\n",
       "      <td>Shop 0</td>\n",
       "      <td>1.0</td>\n",
       "      <td>5.91</td>\n",
       "      <td>11.82</td>\n",
       "    </tr>\n",
       "    <tr>\n",
       "      <th>4</th>\n",
       "      <td>543812</td>\n",
       "      <td>79321</td>\n",
       "      <td>2.0</td>\n",
       "      <td>2017-02-13 14:40:00</td>\n",
       "      <td>23151.0</td>\n",
       "      <td>Shop 0</td>\n",
       "      <td>1.0</td>\n",
       "      <td>12.46</td>\n",
       "      <td>24.92</td>\n",
       "    </tr>\n",
       "  </tbody>\n",
       "</table>\n",
       "</div>"
      ],
      "text/plain": [
       "  purchase_id item_id  quantity       purchase_date customer_id shop_id  \\\n",
       "0      538280   21873      11.0 2016-12-10 12:50:00     18427.0  Shop 0   \n",
       "1      538862   22195       2.0 2016-12-14 14:11:00     22389.0  Shop 0   \n",
       "2      538855   21239       7.0 2016-12-14 13:50:00     22182.0  Shop 0   \n",
       "3      543543   22271       2.0 2017-02-09 15:33:00     23522.0  Shop 0   \n",
       "4      543812   79321       2.0 2017-02-13 14:40:00     23151.0  Shop 0   \n",
       "\n",
       "   loyalty_program  price_per_one  total_sales  \n",
       "0              0.0           3.36        36.96  \n",
       "1              1.0           3.36         6.72  \n",
       "2              1.0           2.51        17.57  \n",
       "3              1.0           5.91        11.82  \n",
       "4              1.0          12.46        24.92  "
      ]
     },
     "execution_count": 1268,
     "metadata": {},
     "output_type": "execute_result"
    }
   ],
   "source": [
    "# Make correlation matrix\n",
    "new_df_modified['total_sales'] = new_df_modified['price_per_one'] * new_df_modified['quantity']\n",
    "new_df_modified.head()"
   ]
  },
  {
   "cell_type": "code",
   "execution_count": 1269,
   "id": "b787760d",
   "metadata": {},
   "outputs": [],
   "source": [
    "corr_df = new_df_modified[['quantity', 'loyalty_program', 'price_per_one', 'total_sales']]"
   ]
  },
  {
   "cell_type": "code",
   "execution_count": 1270,
   "id": "1c930e2b",
   "metadata": {},
   "outputs": [
    {
     "data": {
      "image/png": "[encoded data removed]",
      "text/plain": [
       "<Figure size 1000x800 with 2 Axes>"
      ]
     },
     "metadata": {},
     "output_type": "display_data"
    }
   ],
   "source": [
    "corr_matrix= corr_df.corr()\n",
    "plt.figure(figsize=(10, 8))\n",
    "sns.heatmap(corr_matrix, annot=True, fmt='0.2f', linewidths=0.5, \n",
    "                          cmap=\"BrBG\", annot_kws={\"fontsize\": 14})\n",
    "plt.show()"
   ]
  },
  {
   "cell_type": "markdown",
   "id": "8f13d5d1",
   "metadata": {},
   "source": [
    "* There is a weak positive correlation between quantity and total sales (correlation coefficient of 0.06). This shows that the higher the quantity of goods purchased, the total sales tend to increase, although the relationship is not strong.\n",
    "* There is a very weak positive correlation between the quantity and status of the loyalty program (correlation coefficient of 0.04). This shows that membership in a loyalty program has a very small effect on the quantity of goods purchased.\n",
    "* Price per unit: There is a weak negative correlation between quantity and price per item (correlation coefficient of -0.03). This indicates that when the price per item increases, the quantity purchased tends to decrease, and vice versa."
   ]
  },
  {
   "cell_type": "markdown",
   "id": "f94f0466",
   "metadata": {},
   "source": [
    "## Hypothesis Test"
   ]
  },
  {
   "cell_type": "markdown",
   "id": "b11b9293",
   "metadata": {},
   "source": [
    "Before carrying out the hypothesis test process, we check the distribution of the data, so that we can determine the right test method."
   ]
  },
  {
   "cell_type": "code",
   "execution_count": 1271,
   "id": "9c928a10",
   "metadata": {},
   "outputs": [
    {
     "name": "stdout",
     "output_type": "stream",
     "text": [
      "Column: quantity\n",
      "Shapiro-Wilk test statistic: 0.730291485786438\n",
      "p-value: 0.0\n",
      "The null hypothesis is rejected: the distribution is not normal.\n",
      "Column: price_per_one\n",
      "Shapiro-Wilk test statistic: 0.014110028743743896\n",
      "p-value: 0.0\n",
      "The null hypothesis is rejected: the distribution is not normal.\n",
      "Column: total_sales\n",
      "Shapiro-Wilk test statistic: 0.022585570812225342\n",
      "p-value: 0.0\n",
      "The null hypothesis is rejected: the distribution is not normal.\n"
     ]
    },
    {
     "name": "stderr",
     "output_type": "stream",
     "text": [
      "C:\\Users\\danyo\\anaconda3\\Lib\\site-packages\\scipy\\stats\\_morestats.py:1882: UserWarning: p-value may not be accurate for N > 5000.\n",
      "  warnings.warn(\"p-value may not be accurate for N > 5000.\")\n"
     ]
    }
   ],
   "source": [
    "columns_to_test= ['quantity', 'price_per_one', 'total_sales']\n",
    "\n",
    "for column in columns_to_test:\n",
    "    stat, p_value= st.shapiro(corr_df[column])\n",
    "    alpha= 0.05\n",
    "\n",
    "    print(f\"Column: {column}\")\n",
    "    print(f\"Shapiro-Wilk test statistic: {stat}\")\n",
    "    print(f\"p-value: {p_value}\")\n",
    "\n",
    "    if p_value < alpha:\n",
    "        print(\"The null hypothesis is rejected: the distribution is not normal.\")\n",
    "    else:\n",
    "        print(\"Failure to reject the null hypothesis: the distribution looks normal\")\n",
    "       "
   ]
  },
  {
   "cell_type": "code",
   "execution_count": 1272,
   "id": "215a8309",
   "metadata": {},
   "outputs": [
    {
     "data": {
      "image/png": "[encoded data removed]",
      "text/plain": [
       "<Figure size 1500x500 with 3 Axes>"
      ]
     },
     "metadata": {},
     "output_type": "display_data"
    }
   ],
   "source": [
    "import statsmodels.api as sm\n",
    "\n",
    "fig, axes = plt.subplots(1, 3, figsize=(15, 5))  # Create a figure with 3 subplots\n",
    "\n",
    "# Q-Q plot for quantity\n",
    "sm.qqplot(new_df_modified['quantity'], line ='q', ax=axes[0])\n",
    "axes[0].set_title('Q-Q plot for quantity')\n",
    "\n",
    "# Q-Q plot for price_per_one\n",
    "sm.qqplot(new_df_modified['price_per_one'], line ='q', ax=axes[1])\n",
    "axes[1].set_title('Q-Q plot for price_per_one')\n",
    "\n",
    "# Q-Q plot for total_sales\n",
    "sm.qqplot(new_df_modified['total_sales'], line ='q', ax=axes[2])\n",
    "axes[2].set_title('Q-Q plot for total_sales')\n",
    "\n",
    "plt.tight_layout()\n",
    "plt.show()\n"
   ]
  },
  {
   "cell_type": "markdown",
   "id": "03952422",
   "metadata": {},
   "source": [
    "To test the hypotheses let's take the Mann-Whitney U-test, because it is a nonparametric test, so it does not require the presence of normal distribution of the compared populations."
   ]
  },
  {
   "cell_type": "markdown",
   "id": "6b8cf7c9",
   "metadata": {},
   "source": [
    "**Hypothesis statement :**\n",
    "\n",
    "* Null hypothesis (H0): There is no significant difference between the number of items between the loyalty member group and the non-loyalty member group.\n",
    "* Alternative hypothesis (H1): There is a significant difference between the number of items between the loyalty member group and the non-loyalty member group."
   ]
  },
  {
   "cell_type": "code",
   "execution_count": 1273,
   "id": "ad9dd05a",
   "metadata": {},
   "outputs": [],
   "source": [
    "# divide our customers into 2 groups - loyalty and non_loyalty members\n",
    "loyalty_members= new_df_modified[new_df_modified['loyalty_program']== 1]\n",
    "non_loyalty_members= new_df_modified[new_df_modified['loyalty_program']== 0]\n",
    "\n",
    "# make the same samples of members\n",
    "min_sample_size= min(len(loyalty_members), len(non_loyalty_members))\n",
    "loyalty_members= loyalty_members.sample(n=min_sample_size, random_state=42)\n",
    "non_loyalty_members= non_loyalty_members.sample(n=min_sample_size, random_state=42)"
   ]
  },
  {
   "cell_type": "code",
   "execution_count": 1274,
   "id": "a3510470",
   "metadata": {},
   "outputs": [
    {
     "name": "stdout",
     "output_type": "stream",
     "text": [
      "Mann–Whitney U-test:\n",
      "Statistic: 287020585.5\n",
      "P-value: 1.047329884428723e-24\n",
      "\n",
      "The null hypothesis is rejected\n"
     ]
    }
   ],
   "source": [
    "from scipy.stats import mannwhitneyu\n",
    "alpha= 0.05\n",
    "\n",
    "# Conducting the Mann-Whitney test\n",
    "statistic, p_value = mannwhitneyu(loyalty_members['quantity'], non_loyalty_members['quantity'])\n",
    "\n",
    "print('Mann–Whitney U-test:')\n",
    "print(f\"Statistic: {statistic}\")\n",
    "print(f\"P-value: {p_value}\")\n",
    "print()\n",
    "if p_value < alpha:\n",
    "    print(\"The null hypothesis is rejected\")\n",
    "else:\n",
    "    print(\"There is not enough evidence to reject the null hypothesis\")"
   ]
  },
  {
   "cell_type": "markdown",
   "id": "83ad4d80",
   "metadata": {},
   "source": [
    "* Based on p-value, we can conclude that there is a significant difference between the purchase size of loyalty program members and non-loyalty members.\n",
    "* We can reject the null hypothesis that the average purchase size is no significantly higher for loyalty program members than for non-members."
   ]
  },
  {
   "cell_type": "markdown",
   "id": "b9056bd4",
   "metadata": {},
   "source": [
    "**Hypothesis statement:**\n",
    "\n",
    "* Null hypothesis (H0): There is no significant difference in total sales between the loyalty member group and the non-loyalty member group.\n",
    "* Alternative hypothesis (H1): There is a significant difference between total sales between the loyalty member group and the non-loyalty member group."
   ]
  },
  {
   "cell_type": "code",
   "execution_count": 1275,
   "id": "e077ab27",
   "metadata": {},
   "outputs": [
    {
     "name": "stdout",
     "output_type": "stream",
     "text": [
      "Mann–Whitney U-test:\n",
      "Statistic: 288274102.5\n",
      "P-value: 3.29273366212733e-27\n",
      "\n",
      "The null hypothesis is rejected\n"
     ]
    }
   ],
   "source": [
    "# Conducting the Mann-Whitney test\n",
    "statistic, p_value = mannwhitneyu(loyalty_members['total_sales'], non_loyalty_members['total_sales'])\n",
    "\n",
    "print('Mann–Whitney U-test:')\n",
    "print(f\"Statistic: {statistic}\")\n",
    "print(f\"P-value: {p_value}\")\n",
    "print()\n",
    "if p_value < alpha:\n",
    "    print(\"The null hypothesis is rejected\")\n",
    "else:\n",
    "    print(\"There is not enough evidence to reject the null hypothesis\")"
   ]
  },
  {
   "cell_type": "markdown",
   "id": "d8147414",
   "metadata": {},
   "source": [
    "In this context, if the resulting p-value is smaller than the specified significance level, then we can reject the null hypothesis and accept the alternative hypothesis.\n",
    "This will indicate that there is a significant difference in total sales between the loyalty member group and the non-loyalty member group."
   ]
  },
  {
   "cell_type": "markdown",
   "id": "9ff511bf",
   "metadata": {},
   "source": [
    "## Cohort Analysis"
   ]
  },
  {
   "cell_type": "markdown",
   "id": "15d192ea",
   "metadata": {},
   "source": [
    "A cohort is a group of subjects who share a defining characteristic. We can observe how a cohort behaves over time and compare it to other cohorts."
   ]
  },
  {
   "cell_type": "markdown",
   "id": "93688707",
   "metadata": {},
   "source": [
    "**Retention by Month**\n",
    "\n",
    "A measurement method used to monitor and analyze the retention rate of users or customers in a product, service or platform over a specified period of time, measured in months."
   ]
  },
  {
   "cell_type": "code",
   "execution_count": 1276,
   "id": "41931ee2",
   "metadata": {},
   "outputs": [
    {
     "data": {
      "text/html": [
       "<div>\n",
       "<style scoped>\n",
       "    .dataframe tbody tr th:only-of-type {\n",
       "        vertical-align: middle;\n",
       "    }\n",
       "\n",
       "    .dataframe tbody tr th {\n",
       "        vertical-align: top;\n",
       "    }\n",
       "\n",
       "    .dataframe thead th {\n",
       "        text-align: right;\n",
       "    }\n",
       "</style>\n",
       "<table border=\"1\" class=\"dataframe\">\n",
       "  <thead>\n",
       "    <tr style=\"text-align: right;\">\n",
       "      <th></th>\n",
       "      <th>purchase_id</th>\n",
       "      <th>item_id</th>\n",
       "      <th>quantity</th>\n",
       "      <th>purchase_date</th>\n",
       "      <th>customer_id</th>\n",
       "      <th>shop_id</th>\n",
       "      <th>loyalty_program</th>\n",
       "      <th>price_per_one</th>\n",
       "      <th>total_sales</th>\n",
       "      <th>MonthStartDate</th>\n",
       "    </tr>\n",
       "  </thead>\n",
       "  <tbody>\n",
       "    <tr>\n",
       "      <th>0</th>\n",
       "      <td>538280</td>\n",
       "      <td>21873</td>\n",
       "      <td>11.0</td>\n",
       "      <td>2016-12-10 12:50:00</td>\n",
       "      <td>18427.0</td>\n",
       "      <td>Shop 0</td>\n",
       "      <td>0.0</td>\n",
       "      <td>3.36</td>\n",
       "      <td>36.96</td>\n",
       "      <td>2016-12-01</td>\n",
       "    </tr>\n",
       "    <tr>\n",
       "      <th>1</th>\n",
       "      <td>538862</td>\n",
       "      <td>22195</td>\n",
       "      <td>2.0</td>\n",
       "      <td>2016-12-14 14:11:00</td>\n",
       "      <td>22389.0</td>\n",
       "      <td>Shop 0</td>\n",
       "      <td>1.0</td>\n",
       "      <td>3.36</td>\n",
       "      <td>6.72</td>\n",
       "      <td>2016-12-01</td>\n",
       "    </tr>\n",
       "    <tr>\n",
       "      <th>2</th>\n",
       "      <td>538855</td>\n",
       "      <td>21239</td>\n",
       "      <td>7.0</td>\n",
       "      <td>2016-12-14 13:50:00</td>\n",
       "      <td>22182.0</td>\n",
       "      <td>Shop 0</td>\n",
       "      <td>1.0</td>\n",
       "      <td>2.51</td>\n",
       "      <td>17.57</td>\n",
       "      <td>2016-12-01</td>\n",
       "    </tr>\n",
       "    <tr>\n",
       "      <th>3</th>\n",
       "      <td>543543</td>\n",
       "      <td>22271</td>\n",
       "      <td>2.0</td>\n",
       "      <td>2017-02-09 15:33:00</td>\n",
       "      <td>23522.0</td>\n",
       "      <td>Shop 0</td>\n",
       "      <td>1.0</td>\n",
       "      <td>5.91</td>\n",
       "      <td>11.82</td>\n",
       "      <td>2017-02-01</td>\n",
       "    </tr>\n",
       "    <tr>\n",
       "      <th>4</th>\n",
       "      <td>543812</td>\n",
       "      <td>79321</td>\n",
       "      <td>2.0</td>\n",
       "      <td>2017-02-13 14:40:00</td>\n",
       "      <td>23151.0</td>\n",
       "      <td>Shop 0</td>\n",
       "      <td>1.0</td>\n",
       "      <td>12.46</td>\n",
       "      <td>24.92</td>\n",
       "      <td>2017-02-01</td>\n",
       "    </tr>\n",
       "    <tr>\n",
       "      <th>...</th>\n",
       "      <td>...</td>\n",
       "      <td>...</td>\n",
       "      <td>...</td>\n",
       "      <td>...</td>\n",
       "      <td>...</td>\n",
       "      <td>...</td>\n",
       "      <td>...</td>\n",
       "      <td>...</td>\n",
       "      <td>...</td>\n",
       "      <td>...</td>\n",
       "    </tr>\n",
       "    <tr>\n",
       "      <th>104297</th>\n",
       "      <td>538566</td>\n",
       "      <td>21826</td>\n",
       "      <td>1.0</td>\n",
       "      <td>2016-12-13 11:21:00</td>\n",
       "      <td>0.0</td>\n",
       "      <td>Shop 0</td>\n",
       "      <td>0.0</td>\n",
       "      <td>2.51</td>\n",
       "      <td>2.51</td>\n",
       "      <td>2016-12-01</td>\n",
       "    </tr>\n",
       "    <tr>\n",
       "      <th>104298</th>\n",
       "      <td>540247</td>\n",
       "      <td>21742</td>\n",
       "      <td>2.0</td>\n",
       "      <td>2017-01-05 15:56:00</td>\n",
       "      <td>21143.0</td>\n",
       "      <td>Shop 0</td>\n",
       "      <td>0.0</td>\n",
       "      <td>12.72</td>\n",
       "      <td>25.44</td>\n",
       "      <td>2017-01-01</td>\n",
       "    </tr>\n",
       "    <tr>\n",
       "      <th>104299</th>\n",
       "      <td>538068</td>\n",
       "      <td>85048</td>\n",
       "      <td>1.0</td>\n",
       "      <td>2016-12-09 14:05:00</td>\n",
       "      <td>23657.0</td>\n",
       "      <td>Shop 0</td>\n",
       "      <td>1.0</td>\n",
       "      <td>16.98</td>\n",
       "      <td>16.98</td>\n",
       "      <td>2016-12-01</td>\n",
       "    </tr>\n",
       "    <tr>\n",
       "      <th>104300</th>\n",
       "      <td>538207</td>\n",
       "      <td>22818</td>\n",
       "      <td>11.0</td>\n",
       "      <td>2016-12-10 11:33:00</td>\n",
       "      <td>18427.0</td>\n",
       "      <td>Shop 0</td>\n",
       "      <td>0.0</td>\n",
       "      <td>0.85</td>\n",
       "      <td>9.35</td>\n",
       "      <td>2016-12-01</td>\n",
       "    </tr>\n",
       "    <tr>\n",
       "      <th>104301</th>\n",
       "      <td>543977</td>\n",
       "      <td>22384</td>\n",
       "      <td>9.0</td>\n",
       "      <td>2017-02-14 15:35:00</td>\n",
       "      <td>21294.0</td>\n",
       "      <td>Shop 0</td>\n",
       "      <td>0.0</td>\n",
       "      <td>5.06</td>\n",
       "      <td>45.54</td>\n",
       "      <td>2017-02-01</td>\n",
       "    </tr>\n",
       "  </tbody>\n",
       "</table>\n",
       "<p>104135 rows × 10 columns</p>\n",
       "</div>"
      ],
      "text/plain": [
       "       purchase_id item_id  quantity       purchase_date customer_id shop_id  \\\n",
       "0           538280   21873      11.0 2016-12-10 12:50:00     18427.0  Shop 0   \n",
       "1           538862   22195       2.0 2016-12-14 14:11:00     22389.0  Shop 0   \n",
       "2           538855   21239       7.0 2016-12-14 13:50:00     22182.0  Shop 0   \n",
       "3           543543   22271       2.0 2017-02-09 15:33:00     23522.0  Shop 0   \n",
       "4           543812   79321       2.0 2017-02-13 14:40:00     23151.0  Shop 0   \n",
       "...            ...     ...       ...                 ...         ...     ...   \n",
       "104297      538566   21826       1.0 2016-12-13 11:21:00         0.0  Shop 0   \n",
       "104298      540247   21742       2.0 2017-01-05 15:56:00     21143.0  Shop 0   \n",
       "104299      538068   85048       1.0 2016-12-09 14:05:00     23657.0  Shop 0   \n",
       "104300      538207   22818      11.0 2016-12-10 11:33:00     18427.0  Shop 0   \n",
       "104301      543977   22384       9.0 2017-02-14 15:35:00     21294.0  Shop 0   \n",
       "\n",
       "        loyalty_program  price_per_one  total_sales MonthStartDate  \n",
       "0                   0.0           3.36        36.96     2016-12-01  \n",
       "1                   1.0           3.36         6.72     2016-12-01  \n",
       "2                   1.0           2.51        17.57     2016-12-01  \n",
       "3                   1.0           5.91        11.82     2017-02-01  \n",
       "4                   1.0          12.46        24.92     2017-02-01  \n",
       "...                 ...            ...          ...            ...  \n",
       "104297              0.0           2.51         2.51     2016-12-01  \n",
       "104298              0.0          12.72        25.44     2017-01-01  \n",
       "104299              1.0          16.98        16.98     2016-12-01  \n",
       "104300              0.0           0.85         9.35     2016-12-01  \n",
       "104301              0.0           5.06        45.54     2017-02-01  \n",
       "\n",
       "[104135 rows x 10 columns]"
      ]
     },
     "execution_count": 1276,
     "metadata": {},
     "output_type": "execute_result"
    }
   ],
   "source": [
    "def get_month_start_date(x): return dt.datetime(x.year, x.month, 1).strftime(\"%Y-%m-%d\")\n",
    "new_df_modified['MonthStartDate'] = new_df_modified['purchase_date'].apply(get_month_start_date)\n",
    "#new_df_modified['MonthStartDate'] = new_df_modified['purchase_date'].dt.month_name()\n",
    "new_df_modified"
   ]
  },
  {
   "cell_type": "code",
   "execution_count": 1277,
   "id": "779ac2f0",
   "metadata": {},
   "outputs": [],
   "source": [
    "#month_map = dict(zip(new_df_modified['MonthStartDate'].unique(), range(len(new_df_modified['MonthStartDate'].unique()))))\n",
    "month_map = {'2017-01-01': 1, '2017-02-01': 2, '2016-12-01': 0}\n",
    "new_df_modified['InvoiceMonthID'] = new_df_modified['MonthStartDate'].map(month_map)\n",
    "new_df_modified['CohortMonthID'] = new_df_modified.groupby('customer_id')['InvoiceMonthID'].transform('min')\n",
    "new_df_modified['CohortMonth'] = new_df_modified['CohortMonthID'].map(dict(zip(month_map.values(), month_map.keys())))\n",
    "new_df_modified['CohortIndexMonth'] = new_df_modified['InvoiceMonthID'] - new_df_modified['CohortMonthID']"
   ]
  },
  {
   "cell_type": "code",
   "execution_count": 1278,
   "id": "5ad3d815",
   "metadata": {},
   "outputs": [
    {
     "name": "stdout",
     "output_type": "stream",
     "text": [
      "False\n"
     ]
    }
   ],
   "source": [
    "print(new_df_modified.isna().any().any())"
   ]
  },
  {
   "cell_type": "code",
   "execution_count": 1279,
   "id": "75a06f4d",
   "metadata": {},
   "outputs": [
    {
     "data": {
      "text/html": [
       "<div>\n",
       "<style scoped>\n",
       "    .dataframe tbody tr th:only-of-type {\n",
       "        vertical-align: middle;\n",
       "    }\n",
       "\n",
       "    .dataframe tbody tr th {\n",
       "        vertical-align: top;\n",
       "    }\n",
       "\n",
       "    .dataframe thead th {\n",
       "        text-align: right;\n",
       "    }\n",
       "</style>\n",
       "<table border=\"1\" class=\"dataframe\">\n",
       "  <thead>\n",
       "    <tr style=\"text-align: right;\">\n",
       "      <th></th>\n",
       "      <th>purchase_id</th>\n",
       "      <th>item_id</th>\n",
       "      <th>quantity</th>\n",
       "      <th>purchase_date</th>\n",
       "      <th>customer_id</th>\n",
       "      <th>shop_id</th>\n",
       "      <th>loyalty_program</th>\n",
       "      <th>price_per_one</th>\n",
       "      <th>total_sales</th>\n",
       "      <th>MonthStartDate</th>\n",
       "      <th>InvoiceMonthID</th>\n",
       "      <th>CohortMonthID</th>\n",
       "      <th>CohortMonth</th>\n",
       "      <th>CohortIndexMonth</th>\n",
       "    </tr>\n",
       "  </thead>\n",
       "  <tbody>\n",
       "    <tr>\n",
       "      <th>0</th>\n",
       "      <td>538280</td>\n",
       "      <td>21873</td>\n",
       "      <td>11.0</td>\n",
       "      <td>2016-12-10 12:50:00</td>\n",
       "      <td>18427.0</td>\n",
       "      <td>Shop 0</td>\n",
       "      <td>0.0</td>\n",
       "      <td>3.36</td>\n",
       "      <td>36.96</td>\n",
       "      <td>2016-12-01</td>\n",
       "      <td>0</td>\n",
       "      <td>0</td>\n",
       "      <td>2016-12-01</td>\n",
       "      <td>0</td>\n",
       "    </tr>\n",
       "    <tr>\n",
       "      <th>1</th>\n",
       "      <td>538862</td>\n",
       "      <td>22195</td>\n",
       "      <td>2.0</td>\n",
       "      <td>2016-12-14 14:11:00</td>\n",
       "      <td>22389.0</td>\n",
       "      <td>Shop 0</td>\n",
       "      <td>1.0</td>\n",
       "      <td>3.36</td>\n",
       "      <td>6.72</td>\n",
       "      <td>2016-12-01</td>\n",
       "      <td>0</td>\n",
       "      <td>0</td>\n",
       "      <td>2016-12-01</td>\n",
       "      <td>0</td>\n",
       "    </tr>\n",
       "    <tr>\n",
       "      <th>2</th>\n",
       "      <td>538855</td>\n",
       "      <td>21239</td>\n",
       "      <td>7.0</td>\n",
       "      <td>2016-12-14 13:50:00</td>\n",
       "      <td>22182.0</td>\n",
       "      <td>Shop 0</td>\n",
       "      <td>1.0</td>\n",
       "      <td>2.51</td>\n",
       "      <td>17.57</td>\n",
       "      <td>2016-12-01</td>\n",
       "      <td>0</td>\n",
       "      <td>0</td>\n",
       "      <td>2016-12-01</td>\n",
       "      <td>0</td>\n",
       "    </tr>\n",
       "    <tr>\n",
       "      <th>3</th>\n",
       "      <td>543543</td>\n",
       "      <td>22271</td>\n",
       "      <td>2.0</td>\n",
       "      <td>2017-02-09 15:33:00</td>\n",
       "      <td>23522.0</td>\n",
       "      <td>Shop 0</td>\n",
       "      <td>1.0</td>\n",
       "      <td>5.91</td>\n",
       "      <td>11.82</td>\n",
       "      <td>2017-02-01</td>\n",
       "      <td>2</td>\n",
       "      <td>2</td>\n",
       "      <td>2017-02-01</td>\n",
       "      <td>0</td>\n",
       "    </tr>\n",
       "    <tr>\n",
       "      <th>4</th>\n",
       "      <td>543812</td>\n",
       "      <td>79321</td>\n",
       "      <td>2.0</td>\n",
       "      <td>2017-02-13 14:40:00</td>\n",
       "      <td>23151.0</td>\n",
       "      <td>Shop 0</td>\n",
       "      <td>1.0</td>\n",
       "      <td>12.46</td>\n",
       "      <td>24.92</td>\n",
       "      <td>2017-02-01</td>\n",
       "      <td>2</td>\n",
       "      <td>2</td>\n",
       "      <td>2017-02-01</td>\n",
       "      <td>0</td>\n",
       "    </tr>\n",
       "    <tr>\n",
       "      <th>...</th>\n",
       "      <td>...</td>\n",
       "      <td>...</td>\n",
       "      <td>...</td>\n",
       "      <td>...</td>\n",
       "      <td>...</td>\n",
       "      <td>...</td>\n",
       "      <td>...</td>\n",
       "      <td>...</td>\n",
       "      <td>...</td>\n",
       "      <td>...</td>\n",
       "      <td>...</td>\n",
       "      <td>...</td>\n",
       "      <td>...</td>\n",
       "      <td>...</td>\n",
       "    </tr>\n",
       "    <tr>\n",
       "      <th>104297</th>\n",
       "      <td>538566</td>\n",
       "      <td>21826</td>\n",
       "      <td>1.0</td>\n",
       "      <td>2016-12-13 11:21:00</td>\n",
       "      <td>0.0</td>\n",
       "      <td>Shop 0</td>\n",
       "      <td>0.0</td>\n",
       "      <td>2.51</td>\n",
       "      <td>2.51</td>\n",
       "      <td>2016-12-01</td>\n",
       "      <td>0</td>\n",
       "      <td>0</td>\n",
       "      <td>2016-12-01</td>\n",
       "      <td>0</td>\n",
       "    </tr>\n",
       "    <tr>\n",
       "      <th>104298</th>\n",
       "      <td>540247</td>\n",
       "      <td>21742</td>\n",
       "      <td>2.0</td>\n",
       "      <td>2017-01-05 15:56:00</td>\n",
       "      <td>21143.0</td>\n",
       "      <td>Shop 0</td>\n",
       "      <td>0.0</td>\n",
       "      <td>12.72</td>\n",
       "      <td>25.44</td>\n",
       "      <td>2017-01-01</td>\n",
       "      <td>1</td>\n",
       "      <td>1</td>\n",
       "      <td>2017-01-01</td>\n",
       "      <td>0</td>\n",
       "    </tr>\n",
       "    <tr>\n",
       "      <th>104299</th>\n",
       "      <td>538068</td>\n",
       "      <td>85048</td>\n",
       "      <td>1.0</td>\n",
       "      <td>2016-12-09 14:05:00</td>\n",
       "      <td>23657.0</td>\n",
       "      <td>Shop 0</td>\n",
       "      <td>1.0</td>\n",
       "      <td>16.98</td>\n",
       "      <td>16.98</td>\n",
       "      <td>2016-12-01</td>\n",
       "      <td>0</td>\n",
       "      <td>0</td>\n",
       "      <td>2016-12-01</td>\n",
       "      <td>0</td>\n",
       "    </tr>\n",
       "    <tr>\n",
       "      <th>104300</th>\n",
       "      <td>538207</td>\n",
       "      <td>22818</td>\n",
       "      <td>11.0</td>\n",
       "      <td>2016-12-10 11:33:00</td>\n",
       "      <td>18427.0</td>\n",
       "      <td>Shop 0</td>\n",
       "      <td>0.0</td>\n",
       "      <td>0.85</td>\n",
       "      <td>9.35</td>\n",
       "      <td>2016-12-01</td>\n",
       "      <td>0</td>\n",
       "      <td>0</td>\n",
       "      <td>2016-12-01</td>\n",
       "      <td>0</td>\n",
       "    </tr>\n",
       "    <tr>\n",
       "      <th>104301</th>\n",
       "      <td>543977</td>\n",
       "      <td>22384</td>\n",
       "      <td>9.0</td>\n",
       "      <td>2017-02-14 15:35:00</td>\n",
       "      <td>21294.0</td>\n",
       "      <td>Shop 0</td>\n",
       "      <td>0.0</td>\n",
       "      <td>5.06</td>\n",
       "      <td>45.54</td>\n",
       "      <td>2017-02-01</td>\n",
       "      <td>2</td>\n",
       "      <td>0</td>\n",
       "      <td>2016-12-01</td>\n",
       "      <td>2</td>\n",
       "    </tr>\n",
       "  </tbody>\n",
       "</table>\n",
       "<p>104135 rows × 14 columns</p>\n",
       "</div>"
      ],
      "text/plain": [
       "       purchase_id item_id  quantity       purchase_date customer_id shop_id  \\\n",
       "0           538280   21873      11.0 2016-12-10 12:50:00     18427.0  Shop 0   \n",
       "1           538862   22195       2.0 2016-12-14 14:11:00     22389.0  Shop 0   \n",
       "2           538855   21239       7.0 2016-12-14 13:50:00     22182.0  Shop 0   \n",
       "3           543543   22271       2.0 2017-02-09 15:33:00     23522.0  Shop 0   \n",
       "4           543812   79321       2.0 2017-02-13 14:40:00     23151.0  Shop 0   \n",
       "...            ...     ...       ...                 ...         ...     ...   \n",
       "104297      538566   21826       1.0 2016-12-13 11:21:00         0.0  Shop 0   \n",
       "104298      540247   21742       2.0 2017-01-05 15:56:00     21143.0  Shop 0   \n",
       "104299      538068   85048       1.0 2016-12-09 14:05:00     23657.0  Shop 0   \n",
       "104300      538207   22818      11.0 2016-12-10 11:33:00     18427.0  Shop 0   \n",
       "104301      543977   22384       9.0 2017-02-14 15:35:00     21294.0  Shop 0   \n",
       "\n",
       "        loyalty_program  price_per_one  total_sales MonthStartDate  \\\n",
       "0                   0.0           3.36        36.96     2016-12-01   \n",
       "1                   1.0           3.36         6.72     2016-12-01   \n",
       "2                   1.0           2.51        17.57     2016-12-01   \n",
       "3                   1.0           5.91        11.82     2017-02-01   \n",
       "4                   1.0          12.46        24.92     2017-02-01   \n",
       "...                 ...            ...          ...            ...   \n",
       "104297              0.0           2.51         2.51     2016-12-01   \n",
       "104298              0.0          12.72        25.44     2017-01-01   \n",
       "104299              1.0          16.98        16.98     2016-12-01   \n",
       "104300              0.0           0.85         9.35     2016-12-01   \n",
       "104301              0.0           5.06        45.54     2017-02-01   \n",
       "\n",
       "        InvoiceMonthID  CohortMonthID CohortMonth  CohortIndexMonth  \n",
       "0                    0              0  2016-12-01                 0  \n",
       "1                    0              0  2016-12-01                 0  \n",
       "2                    0              0  2016-12-01                 0  \n",
       "3                    2              2  2017-02-01                 0  \n",
       "4                    2              2  2017-02-01                 0  \n",
       "...                ...            ...         ...               ...  \n",
       "104297               0              0  2016-12-01                 0  \n",
       "104298               1              1  2017-01-01                 0  \n",
       "104299               0              0  2016-12-01                 0  \n",
       "104300               0              0  2016-12-01                 0  \n",
       "104301               2              0  2016-12-01                 2  \n",
       "\n",
       "[104135 rows x 14 columns]"
      ]
     },
     "execution_count": 1279,
     "metadata": {},
     "output_type": "execute_result"
    }
   ],
   "source": [
    "new_df_modified"
   ]
  },
  {
   "cell_type": "code",
   "execution_count": 1280,
   "id": "c64c03cc",
   "metadata": {},
   "outputs": [
    {
     "data": {
      "text/html": [
       "<div>\n",
       "<style scoped>\n",
       "    .dataframe tbody tr th:only-of-type {\n",
       "        vertical-align: middle;\n",
       "    }\n",
       "\n",
       "    .dataframe tbody tr th {\n",
       "        vertical-align: top;\n",
       "    }\n",
       "\n",
       "    .dataframe thead th {\n",
       "        text-align: right;\n",
       "    }\n",
       "</style>\n",
       "<table border=\"1\" class=\"dataframe\">\n",
       "  <thead>\n",
       "    <tr style=\"text-align: right;\">\n",
       "      <th>CohortIndexMonth</th>\n",
       "      <th>0</th>\n",
       "      <th>1</th>\n",
       "      <th>2</th>\n",
       "    </tr>\n",
       "    <tr>\n",
       "      <th>CohortMonth</th>\n",
       "      <th></th>\n",
       "      <th></th>\n",
       "      <th></th>\n",
       "    </tr>\n",
       "  </thead>\n",
       "  <tbody>\n",
       "    <tr>\n",
       "      <th>2016-12-01</th>\n",
       "      <td>949.0</td>\n",
       "      <td>363.0</td>\n",
       "      <td>318.0</td>\n",
       "    </tr>\n",
       "    <tr>\n",
       "      <th>2017-01-01</th>\n",
       "      <td>421.0</td>\n",
       "      <td>101.0</td>\n",
       "      <td>NaN</td>\n",
       "    </tr>\n",
       "    <tr>\n",
       "      <th>2017-02-01</th>\n",
       "      <td>380.0</td>\n",
       "      <td>NaN</td>\n",
       "      <td>NaN</td>\n",
       "    </tr>\n",
       "  </tbody>\n",
       "</table>\n",
       "</div>"
      ],
      "text/plain": [
       "CohortIndexMonth      0      1      2\n",
       "CohortMonth                          \n",
       "2016-12-01        949.0  363.0  318.0\n",
       "2017-01-01        421.0  101.0    NaN\n",
       "2017-02-01        380.0    NaN    NaN"
      ]
     },
     "execution_count": 1280,
     "metadata": {},
     "output_type": "execute_result"
    }
   ],
   "source": [
    "#Count monthly active customers from each cohort\n",
    "grouping = new_df_modified.groupby(['CohortMonth', 'CohortIndexMonth'])\n",
    "cohort_data = grouping['customer_id'].apply(pd.Series.nunique)\n",
    "# Return number of unique elements in the object.\n",
    "cohort_data = cohort_data.reset_index()\n",
    "cohort_counts = cohort_data.pivot(index='CohortMonth',columns='CohortIndexMonth',values='customer_id')\n",
    "cohort_counts"
   ]
  },
  {
   "cell_type": "code",
   "execution_count": 1281,
   "id": "ef19217b",
   "metadata": {},
   "outputs": [
    {
     "data": {
      "text/html": [
       "<div>\n",
       "<style scoped>\n",
       "    .dataframe tbody tr th:only-of-type {\n",
       "        vertical-align: middle;\n",
       "    }\n",
       "\n",
       "    .dataframe tbody tr th {\n",
       "        vertical-align: top;\n",
       "    }\n",
       "\n",
       "    .dataframe thead th {\n",
       "        text-align: right;\n",
       "    }\n",
       "</style>\n",
       "<table border=\"1\" class=\"dataframe\">\n",
       "  <thead>\n",
       "    <tr style=\"text-align: right;\">\n",
       "      <th>CohortIndexMonth</th>\n",
       "      <th>0</th>\n",
       "      <th>1</th>\n",
       "      <th>2</th>\n",
       "    </tr>\n",
       "    <tr>\n",
       "      <th>CohortMonth</th>\n",
       "      <th></th>\n",
       "      <th></th>\n",
       "      <th></th>\n",
       "    </tr>\n",
       "  </thead>\n",
       "  <tbody>\n",
       "    <tr>\n",
       "      <th>2016-12-01</th>\n",
       "      <td>100.0</td>\n",
       "      <td>38.3</td>\n",
       "      <td>33.5</td>\n",
       "    </tr>\n",
       "    <tr>\n",
       "      <th>2017-01-01</th>\n",
       "      <td>100.0</td>\n",
       "      <td>24.0</td>\n",
       "      <td>NaN</td>\n",
       "    </tr>\n",
       "    <tr>\n",
       "      <th>2017-02-01</th>\n",
       "      <td>100.0</td>\n",
       "      <td>NaN</td>\n",
       "      <td>NaN</td>\n",
       "    </tr>\n",
       "  </tbody>\n",
       "</table>\n",
       "</div>"
      ],
      "text/plain": [
       "CohortIndexMonth      0     1     2\n",
       "CohortMonth                        \n",
       "2016-12-01        100.0  38.3  33.5\n",
       "2017-01-01        100.0  24.0   NaN\n",
       "2017-02-01        100.0   NaN   NaN"
      ]
     },
     "execution_count": 1281,
     "metadata": {},
     "output_type": "execute_result"
    }
   ],
   "source": [
    "# Retention table\n",
    "cohort_size = cohort_counts.iloc[:,0]\n",
    "retention = cohort_counts.divide(cohort_size,axis=0) \n",
    "retention.round(3) * 100 "
   ]
  },
  {
   "cell_type": "code",
   "execution_count": 1282,
   "id": "3ba8b185",
   "metadata": {},
   "outputs": [
    {
     "data": {
      "image/png": "[encoded data removed]",
      "text/plain": [
       "<Figure size 1000x800 with 2 Axes>"
      ]
     },
     "metadata": {},
     "output_type": "display_data"
    }
   ],
   "source": [
    "#Build the heatmap\n",
    "plt.figure(figsize=(10, 8))\n",
    "plt.title('Retention rates')\n",
    "sns.heatmap(data=retention,annot = True,fmt = '.0%',vmin = 0.0,vmax = 0.5,cmap=\"BuPu\")\n",
    "plt.show()"
   ]
  },
  {
   "cell_type": "markdown",
   "id": "7b6cd715",
   "metadata": {},
   "source": [
    "**Conclusion :**\n",
    "\n",
    "Retention rate by month is quite small, in month 12 there are 886 users but only 32% in the second month and 37% in the second month.\n",
    "\n",
    "Retention Rate in other months is even lower."
   ]
  },
  {
   "cell_type": "markdown",
   "id": "5cc2a5f0",
   "metadata": {},
   "source": [
    "**Loyalty Retention Program**\n",
    "\n",
    "A program designed and implemented by a company or organization with the aim of maintaining and strengthening long-term relationships with their customers or users. This program aims to increase customer loyalty, encourage users to stay engaged with products or services, as well as increase retention rates."
   ]
  },
  {
   "cell_type": "code",
   "execution_count": 1283,
   "id": "cf79fc68",
   "metadata": {},
   "outputs": [],
   "source": [
    "loyal_program = new_df_modified[new_df_modified['loyalty_program'] == 1]\n",
    "non_loyal_program = new_df_modified[new_df_modified['loyalty_program'] == 0]"
   ]
  },
  {
   "cell_type": "code",
   "execution_count": 1284,
   "id": "f016a8dc",
   "metadata": {},
   "outputs": [
    {
     "data": {
      "text/html": [
       "<div>\n",
       "<style scoped>\n",
       "    .dataframe tbody tr th:only-of-type {\n",
       "        vertical-align: middle;\n",
       "    }\n",
       "\n",
       "    .dataframe tbody tr th {\n",
       "        vertical-align: top;\n",
       "    }\n",
       "\n",
       "    .dataframe thead th {\n",
       "        text-align: right;\n",
       "    }\n",
       "</style>\n",
       "<table border=\"1\" class=\"dataframe\">\n",
       "  <thead>\n",
       "    <tr style=\"text-align: right;\">\n",
       "      <th>CohortIndexMonth</th>\n",
       "      <th>0</th>\n",
       "      <th>1</th>\n",
       "      <th>2</th>\n",
       "    </tr>\n",
       "    <tr>\n",
       "      <th>CohortMonth</th>\n",
       "      <th></th>\n",
       "      <th></th>\n",
       "      <th></th>\n",
       "    </tr>\n",
       "  </thead>\n",
       "  <tbody>\n",
       "    <tr>\n",
       "      <th>2016-12-01</th>\n",
       "      <td>344.0</td>\n",
       "      <td>115.0</td>\n",
       "      <td>121.0</td>\n",
       "    </tr>\n",
       "    <tr>\n",
       "      <th>2017-01-01</th>\n",
       "      <td>124.0</td>\n",
       "      <td>30.0</td>\n",
       "      <td>NaN</td>\n",
       "    </tr>\n",
       "    <tr>\n",
       "      <th>2017-02-01</th>\n",
       "      <td>119.0</td>\n",
       "      <td>NaN</td>\n",
       "      <td>NaN</td>\n",
       "    </tr>\n",
       "  </tbody>\n",
       "</table>\n",
       "</div>"
      ],
      "text/plain": [
       "CohortIndexMonth      0      1      2\n",
       "CohortMonth                          \n",
       "2016-12-01        344.0  115.0  121.0\n",
       "2017-01-01        124.0   30.0    NaN\n",
       "2017-02-01        119.0    NaN    NaN"
      ]
     },
     "execution_count": 1284,
     "metadata": {},
     "output_type": "execute_result"
    }
   ],
   "source": [
    "#Count monthly active customers from each cohort\n",
    "grouping = loyal_program.groupby(['CohortMonth', 'CohortIndexMonth'])\n",
    "cohort_data = grouping['customer_id'].apply(pd.Series.nunique)\n",
    "# Return number of unique elements in the object.\n",
    "cohort_data = cohort_data.reset_index()\n",
    "cohort_counts = cohort_data.pivot(index='CohortMonth',columns='CohortIndexMonth',values='customer_id')\n",
    "cohort_counts"
   ]
  },
  {
   "cell_type": "code",
   "execution_count": 1285,
   "id": "086a0ca9",
   "metadata": {},
   "outputs": [
    {
     "data": {
      "text/html": [
       "<div>\n",
       "<style scoped>\n",
       "    .dataframe tbody tr th:only-of-type {\n",
       "        vertical-align: middle;\n",
       "    }\n",
       "\n",
       "    .dataframe tbody tr th {\n",
       "        vertical-align: top;\n",
       "    }\n",
       "\n",
       "    .dataframe thead th {\n",
       "        text-align: right;\n",
       "    }\n",
       "</style>\n",
       "<table border=\"1\" class=\"dataframe\">\n",
       "  <thead>\n",
       "    <tr style=\"text-align: right;\">\n",
       "      <th>CohortIndexMonth</th>\n",
       "      <th>0</th>\n",
       "      <th>1</th>\n",
       "      <th>2</th>\n",
       "    </tr>\n",
       "    <tr>\n",
       "      <th>CohortMonth</th>\n",
       "      <th></th>\n",
       "      <th></th>\n",
       "      <th></th>\n",
       "    </tr>\n",
       "  </thead>\n",
       "  <tbody>\n",
       "    <tr>\n",
       "      <th>2016-12-01</th>\n",
       "      <td>100.0</td>\n",
       "      <td>33.4</td>\n",
       "      <td>35.2</td>\n",
       "    </tr>\n",
       "    <tr>\n",
       "      <th>2017-01-01</th>\n",
       "      <td>100.0</td>\n",
       "      <td>24.2</td>\n",
       "      <td>NaN</td>\n",
       "    </tr>\n",
       "    <tr>\n",
       "      <th>2017-02-01</th>\n",
       "      <td>100.0</td>\n",
       "      <td>NaN</td>\n",
       "      <td>NaN</td>\n",
       "    </tr>\n",
       "  </tbody>\n",
       "</table>\n",
       "</div>"
      ],
      "text/plain": [
       "CohortIndexMonth      0     1     2\n",
       "CohortMonth                        \n",
       "2016-12-01        100.0  33.4  35.2\n",
       "2017-01-01        100.0  24.2   NaN\n",
       "2017-02-01        100.0   NaN   NaN"
      ]
     },
     "execution_count": 1285,
     "metadata": {},
     "output_type": "execute_result"
    }
   ],
   "source": [
    "# Retention table\n",
    "cohort_size = cohort_counts.iloc[:,0]\n",
    "retention = cohort_counts.divide(cohort_size,axis=0) #axis=0 to ensure the divide along the row axis \n",
    "retention.round(3) * 100 #to show the number as percentage "
   ]
  },
  {
   "cell_type": "code",
   "execution_count": 1286,
   "id": "bba1fc96",
   "metadata": {},
   "outputs": [
    {
     "data": {
      "image/png": "[encoded data removed]",
      "text/plain": [
       "<Figure size 800x600 with 2 Axes>"
      ]
     },
     "metadata": {},
     "output_type": "display_data"
    }
   ],
   "source": [
    "#Build the heatmap\n",
    "plt.figure(figsize=(8, 6))\n",
    "plt.title('Retention rates of loyal program customers')\n",
    "sns.heatmap(data=retention,annot = True,fmt = '.0%',vmin = 0.0,vmax = 0.5,cmap=\"Reds\")\n",
    "plt.show()"
   ]
  },
  {
   "cell_type": "code",
   "execution_count": 1287,
   "id": "a915fa46",
   "metadata": {},
   "outputs": [
    {
     "data": {
      "text/html": [
       "<div>\n",
       "<style scoped>\n",
       "    .dataframe tbody tr th:only-of-type {\n",
       "        vertical-align: middle;\n",
       "    }\n",
       "\n",
       "    .dataframe tbody tr th {\n",
       "        vertical-align: top;\n",
       "    }\n",
       "\n",
       "    .dataframe thead th {\n",
       "        text-align: right;\n",
       "    }\n",
       "</style>\n",
       "<table border=\"1\" class=\"dataframe\">\n",
       "  <thead>\n",
       "    <tr style=\"text-align: right;\">\n",
       "      <th>CohortIndexMonth</th>\n",
       "      <th>0</th>\n",
       "      <th>1</th>\n",
       "      <th>2</th>\n",
       "    </tr>\n",
       "    <tr>\n",
       "      <th>CohortMonth</th>\n",
       "      <th></th>\n",
       "      <th></th>\n",
       "      <th></th>\n",
       "    </tr>\n",
       "  </thead>\n",
       "  <tbody>\n",
       "    <tr>\n",
       "      <th>2016-12-01</th>\n",
       "      <td>605.0</td>\n",
       "      <td>248.0</td>\n",
       "      <td>197.0</td>\n",
       "    </tr>\n",
       "    <tr>\n",
       "      <th>2017-01-01</th>\n",
       "      <td>297.0</td>\n",
       "      <td>71.0</td>\n",
       "      <td>NaN</td>\n",
       "    </tr>\n",
       "    <tr>\n",
       "      <th>2017-02-01</th>\n",
       "      <td>261.0</td>\n",
       "      <td>NaN</td>\n",
       "      <td>NaN</td>\n",
       "    </tr>\n",
       "  </tbody>\n",
       "</table>\n",
       "</div>"
      ],
      "text/plain": [
       "CohortIndexMonth      0      1      2\n",
       "CohortMonth                          \n",
       "2016-12-01        605.0  248.0  197.0\n",
       "2017-01-01        297.0   71.0    NaN\n",
       "2017-02-01        261.0    NaN    NaN"
      ]
     },
     "execution_count": 1287,
     "metadata": {},
     "output_type": "execute_result"
    }
   ],
   "source": [
    "#Count monthly active customers from each cohort\n",
    "grouping = non_loyal_program.groupby(['CohortMonth', 'CohortIndexMonth'])\n",
    "cohort_data = grouping['customer_id'].apply(pd.Series.nunique)\n",
    "# Return number of unique elements in the object.\n",
    "cohort_data = cohort_data.reset_index()\n",
    "cohort_counts = cohort_data.pivot(index='CohortMonth',columns='CohortIndexMonth',values='customer_id')\n",
    "cohort_counts"
   ]
  },
  {
   "cell_type": "code",
   "execution_count": 1288,
   "id": "957ba750",
   "metadata": {},
   "outputs": [
    {
     "data": {
      "text/html": [
       "<div>\n",
       "<style scoped>\n",
       "    .dataframe tbody tr th:only-of-type {\n",
       "        vertical-align: middle;\n",
       "    }\n",
       "\n",
       "    .dataframe tbody tr th {\n",
       "        vertical-align: top;\n",
       "    }\n",
       "\n",
       "    .dataframe thead th {\n",
       "        text-align: right;\n",
       "    }\n",
       "</style>\n",
       "<table border=\"1\" class=\"dataframe\">\n",
       "  <thead>\n",
       "    <tr style=\"text-align: right;\">\n",
       "      <th>CohortIndexMonth</th>\n",
       "      <th>0</th>\n",
       "      <th>1</th>\n",
       "      <th>2</th>\n",
       "    </tr>\n",
       "    <tr>\n",
       "      <th>CohortMonth</th>\n",
       "      <th></th>\n",
       "      <th></th>\n",
       "      <th></th>\n",
       "    </tr>\n",
       "  </thead>\n",
       "  <tbody>\n",
       "    <tr>\n",
       "      <th>2016-12-01</th>\n",
       "      <td>100.0</td>\n",
       "      <td>41.0</td>\n",
       "      <td>32.6</td>\n",
       "    </tr>\n",
       "    <tr>\n",
       "      <th>2017-01-01</th>\n",
       "      <td>100.0</td>\n",
       "      <td>23.9</td>\n",
       "      <td>NaN</td>\n",
       "    </tr>\n",
       "    <tr>\n",
       "      <th>2017-02-01</th>\n",
       "      <td>100.0</td>\n",
       "      <td>NaN</td>\n",
       "      <td>NaN</td>\n",
       "    </tr>\n",
       "  </tbody>\n",
       "</table>\n",
       "</div>"
      ],
      "text/plain": [
       "CohortIndexMonth      0     1     2\n",
       "CohortMonth                        \n",
       "2016-12-01        100.0  41.0  32.6\n",
       "2017-01-01        100.0  23.9   NaN\n",
       "2017-02-01        100.0   NaN   NaN"
      ]
     },
     "execution_count": 1288,
     "metadata": {},
     "output_type": "execute_result"
    }
   ],
   "source": [
    "# Retention table\n",
    "cohort_size = cohort_counts.iloc[:,0]\n",
    "retention = cohort_counts.divide(cohort_size,axis=0) #axis=0 to ensure the divide along the row axis \n",
    "retention.round(3) * 100 #to show the number as percentage "
   ]
  },
  {
   "cell_type": "code",
   "execution_count": 1289,
   "id": "6569bf6f",
   "metadata": {},
   "outputs": [
    {
     "data": {
      "image/png": "[encoded data removed]",
      "text/plain": [
       "<Figure size 800x600 with 2 Axes>"
      ]
     },
     "metadata": {},
     "output_type": "display_data"
    }
   ],
   "source": [
    "#Build the heatmap\n",
    "plt.figure(figsize=(8, 6))\n",
    "plt.title('Retention rates of non-loyal program customers')\n",
    "sns.heatmap(data=retention,annot = True,fmt = '.0%',vmin = 0.0,vmax = 0.5,cmap=\"Reds\")\n",
    "plt.show()"
   ]
  },
  {
   "cell_type": "markdown",
   "id": "69718ae0",
   "metadata": {},
   "source": [
    "Conclusion :\n",
    "\n",
    "Customer retention with a loyalty program does not show a better comparison than retention with users without a loyalty program.\n",
    "\n",
    "Customer retention with a non-loyalty program is higher in the first month, namely 41% compared to users with a loyalty program, only 33% in the first month. Meanwhile, in the second month, users with a higher loyalty program were 35% and 33% without a loyalty program."
   ]
  },
  {
   "cell_type": "markdown",
   "id": "642681a5",
   "metadata": {},
   "source": [
    "## Conclusion"
   ]
  },
  {
   "cell_type": "markdown",
   "id": "a34f2863",
   "metadata": {},
   "source": [
    "* This dataset contains retail data from 1 December 2016 to 28 February 2017 or about 3 months. Transactions do not occur every day, especially from the end of December to January 1. There may be no transactions due to the year-end holiday. The highest transaction was at the beginning of December, after that the transaction rose and fell but never exceeded the highest transaction in December.\n",
    "\n",
    "* Only 33.6% or 565 users join program_loyalty. The majority of users have not used the loyalty program in their transactions.\n",
    "\n",
    "* There is a difference between the average purchase per customer between loyal and non-loyal customers. Loyal customers have an average of 41 purchases per customer, while non-loyal customers have an average of 71 purchases per customer. The average purchase per non-loyal customer is greater than the average purchase per loyal customer.\n",
    "\n",
    "* Overall, this analysis shows that price per item has the strongest positive correlation with total sales, followed by quantity purchased. However, the correlation between loyalty program status and total sales is very small.\n",
    "\n",
    "* Customer retention with a loyalty program does not show a better comparison than retention with users without a loyalty program. Customer retention without a loyalty program is higher in the first month, namely 41% compared to users with a loyalty program, only 33% in the first month. Whereas in the second month users with a higher loyalty program were 35% and 33% without a loyalty program.\n",
    "\n",
    "* Based on the very small p-value (smaller than the specified level of significance), we can conclude that there is a significant difference between the purchase size of loyalty program members and non-members. We can reject the null hypothesis that there is no significant difference and accept the alternative hypothesis that the average purchase size is significantly higher for loyalty program members than for nonmembers. Based on the results of statistical tests, we can conclude that loyalty program members tend to have a significantly higher purchase size than non-members.\n",
    "\n",
    "* Member fees per month, discount or other benefits need to be reviewed. This refers to purchases per loyal customer which are still smaller than non-loyal customers. Loyalty program customer retention also did not increase significantly compared to non-loyalty customer retention. If there is no improvement in the loyalty program benefits, it is likely that customers tend to choose transactions without a loyalty program."
   ]
  },
  {
   "cell_type": "code",
   "execution_count": 1290,
   "id": "33ffe382",
   "metadata": {},
   "outputs": [],
   "source": [
    "new_df_modified.to_csv('new_df_modified.csv')"
   ]
  },
  {
   "cell_type": "code",
   "execution_count": null,
   "id": "b88c648e",
   "metadata": {},
   "outputs": [],
   "source": []
  }
 ],
 "metadata": {
  "kernelspec": {
   "display_name": "Python 3 (ipykernel)",
   "language": "python",
   "name": "python3"
  },
  "language_info": {
   "codemirror_mode": {
    "name": "ipython",
    "version": 3
   },
   "file_extension": ".py",
   "mimetype": "text/x-python",
   "name": "python",
   "nbconvert_exporter": "python",
   "pygments_lexer": "ipython3",
   "version": "3.11.5"
  }
 },
 "nbformat": 4,
 "nbformat_minor": 5
}
